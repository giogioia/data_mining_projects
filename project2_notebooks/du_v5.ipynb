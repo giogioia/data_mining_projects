{
 "cells": [
  {
   "cell_type": "markdown",
   "metadata": {},
   "source": [
    "## Data preprocessing codes"
   ]
  },
  {
   "cell_type": "code",
   "execution_count": 221,
   "metadata": {},
   "outputs": [],
   "source": [
    "%matplotlib inline\n",
    "\n",
    "import IPython.display as ipd\n",
    "import numpy as np\n",
    "import pandas as pd\n",
    "import matplotlib.pyplot as plt\n",
    "import seaborn as sns\n",
    "import sklearn as skl\n",
    "import sklearn.utils, sklearn.preprocessing, sklearn.decomposition, sklearn.svm\n",
    "import missingno as msno\n",
    "import utils\n",
    "from sklearn.impute import KNNImputer"
   ]
  },
  {
   "cell_type": "code",
   "execution_count": 222,
   "metadata": {},
   "outputs": [],
   "source": [
    "#loading all dataframes \n",
    "df = utils.load('data/fma_metadata/tracks.csv')\n",
    "genres_df = utils.load('data/fma_metadata/genres.csv')\n",
    "echonest_df = utils.load('data/fma_metadata/echonest.csv')"
   ]
  },
  {
   "cell_type": "markdown",
   "metadata": {},
   "source": [
    "#### DF1 df_global: raw dataset (outliers not cleaned) with all tracks without echonest data (100'000 + rows)"
   ]
  },
  {
   "cell_type": "code",
   "execution_count": 223,
   "metadata": {},
   "outputs": [],
   "source": [
    "df_global = df.copy()"
   ]
  },
  {
   "cell_type": "code",
   "execution_count": 224,
   "metadata": {},
   "outputs": [
    {
     "data": {
      "text/plain": [
       "track_id\n",
       "2         Sajje Morocco,Brownbum,ZawidaGod,Custodian of ...\n",
       "3         Sajje Morocco,Brownbum,ZawidaGod,Custodian of ...\n",
       "5         Sajje Morocco,Brownbum,ZawidaGod,Custodian of ...\n",
       "10                                 Kurt Vile, the Violators\n",
       "20                                             Nicky Cook\\n\n",
       "                                ...                        \n",
       "155316                           GILLIAN/JENNA/DECLAN/JAIME\n",
       "155317                           GILLIAN/JENNA/DECLAN/JAIME\n",
       "155318                           GILLIAN/JENNA/DECLAN/JAIME\n",
       "155319                           GILLIAN/JENNA/DECLAN/JAIME\n",
       "155320    Alishia Taiping (lead vocals, bass) \\nDan Pier...\n",
       "Name: members, Length: 106574, dtype: object"
      ]
     },
     "execution_count": 224,
     "metadata": {},
     "output_type": "execute_result"
    }
   ],
   "source": [
    "df_global.artist.members"
   ]
  },
  {
   "cell_type": "code",
   "execution_count": 225,
   "metadata": {},
   "outputs": [],
   "source": [
    "# Data cleaning\n",
    "#data cleaning CODE\n",
    "df_global.drop(df_global.loc[(df_global.album.comments == -1),:].index, inplace = True)\n",
    "df_global.drop(df_global.loc[df_global.artist.comments==-1].index, inplace=True)\n",
    "\n",
    "#for rows where date_released > date_created: replace values with values from date_created\n",
    "df_global.loc[df_global.album.date_released > df_global.album.date_created, ('album', 'date_released')] = df_global.loc[df_global.album.date_released > df_global.album.date_created, ('album', 'date_created')]\n",
    "\n",
    "#producer and engineer to binary\n",
    "df_global.loc[df_global.album.engineer.notna(),('album','engineer')] =  1\n",
    "df_global.loc[:,('album','engineer')].fillna(0,inplace = True)\n",
    "\n",
    "df_global.loc[df_global.album.producer.notna(),('album','producer')] =  1\n",
    "df_global.loc[:,('album','producer')].fillna(0,inplace = True)\n"
   ]
  },
  {
   "cell_type": "code",
   "execution_count": 226,
   "metadata": {},
   "outputs": [],
   "source": [
    "#drop entire columns\n",
    "df_global.drop(columns = [('album','information')], inplace = True)\n",
    "df_global.drop(columns = [('album','tags')], inplace = True)\n",
    "df_global.drop(columns= [('album','date_created')], inplace =  True)\n",
    "\n",
    "df_global.drop(columns = [('artist','active_year_begin')], inplace = True)\n",
    "df_global.drop(columns = [('artist','active_year_end')], inplace = True)\n",
    "df_global.drop(columns = [('artist','associated_labels')], inplace = True)\n",
    "df_global.drop(columns = [('artist','bio')], inplace = True)\n",
    "df_global.drop(columns = [('artist','date_created')], inplace = True)\n",
    "df_global.drop(columns = [('artist','location')], inplace = True)\n",
    "df_global.drop(columns = [('artist','latitude')], inplace = True)\n",
    "df_global.drop(columns = [('artist','longitude')], inplace = True)\n",
    "df_global.drop(columns = [('artist','name')], inplace = True)\n",
    "df_global.drop(columns = [('artist','website')], inplace = True)\n",
    "df_global.drop(columns = [('artist','wikipedia_page')], inplace = True)\n",
    "df_global.drop(columns = [('artist','related_projects')], inplace = True)\n",
    "\n",
    "df_global.drop(columns = [('track','composer')], inplace = True)\n",
    "df_global.drop(columns = [('track','date_created')], inplace = True)\n",
    "df_global.drop(columns = [('track','lyricist')], inplace = True)\n",
    "df_global.drop(columns = [('track','tags')], inplace = True)\n",
    "df_global.drop(columns = [('track','information')], inplace = True)\n",
    "df_global.drop(columns = [('track','publisher')], inplace = True)\n",
    "df_global.drop(columns = [('track','number')], inplace = True)\n",
    "df_global.drop(columns = [('track','title')], inplace = True)\n",
    "df_global.drop(columns = [('track','license')], inplace = True)\n",
    "df_global.drop(columns = [('track','language_code')], inplace = True)"
   ]
  },
  {
   "cell_type": "code",
   "execution_count": 244,
   "metadata": {},
   "outputs": [
    {
     "ename": "AttributeError",
     "evalue": "'DataFrame' object has no attribute 'date_recorded'",
     "output_type": "error",
     "traceback": [
      "\u001b[0;31m---------------------------------------------------------------------------\u001b[0m",
      "\u001b[0;31mAttributeError\u001b[0m                            Traceback (most recent call last)",
      "\u001b[0;32m<ipython-input-244-21ac5ecbb7bd>\u001b[0m in \u001b[0;36m<module>\u001b[0;34m\u001b[0m\n\u001b[1;32m      3\u001b[0m \u001b[0;34m\u001b[0m\u001b[0m\n\u001b[1;32m      4\u001b[0m \u001b[0;31m#use track.date_recorded to impute album.date_released. Then drop track.date_recorded\u001b[0m\u001b[0;34m\u001b[0m\u001b[0;34m\u001b[0m\u001b[0;34m\u001b[0m\u001b[0m\n\u001b[0;32m----> 5\u001b[0;31m \u001b[0mdf_global\u001b[0m\u001b[0;34m.\u001b[0m\u001b[0mloc\u001b[0m\u001b[0;34m[\u001b[0m\u001b[0;34m(\u001b[0m\u001b[0mdf_global\u001b[0m\u001b[0;34m.\u001b[0m\u001b[0mtrack\u001b[0m\u001b[0;34m.\u001b[0m\u001b[0mdate_recorded\u001b[0m\u001b[0;34m.\u001b[0m\u001b[0mnotna\u001b[0m\u001b[0;34m(\u001b[0m\u001b[0;34m)\u001b[0m\u001b[0;34m)\u001b[0m \u001b[0;34m&\u001b[0m \u001b[0;34m(\u001b[0m\u001b[0mdf_global\u001b[0m\u001b[0;34m.\u001b[0m\u001b[0malbum\u001b[0m\u001b[0;34m.\u001b[0m\u001b[0mdate_released\u001b[0m\u001b[0;34m.\u001b[0m\u001b[0misna\u001b[0m\u001b[0;34m(\u001b[0m\u001b[0;34m)\u001b[0m\u001b[0;34m)\u001b[0m\u001b[0;34m,\u001b[0m \u001b[0;34m(\u001b[0m\u001b[0;34m'album'\u001b[0m\u001b[0;34m,\u001b[0m\u001b[0;34m'date_released'\u001b[0m\u001b[0;34m)\u001b[0m\u001b[0;34m]\u001b[0m \u001b[0;34m=\u001b[0m \u001b[0mdf_global\u001b[0m\u001b[0;34m.\u001b[0m\u001b[0mloc\u001b[0m\u001b[0;34m[\u001b[0m\u001b[0;34m(\u001b[0m\u001b[0mdf_global\u001b[0m\u001b[0;34m.\u001b[0m\u001b[0mtrack\u001b[0m\u001b[0;34m.\u001b[0m\u001b[0mdate_recorded\u001b[0m\u001b[0;34m.\u001b[0m\u001b[0mnotna\u001b[0m\u001b[0;34m(\u001b[0m\u001b[0;34m)\u001b[0m\u001b[0;34m)\u001b[0m \u001b[0;34m&\u001b[0m \u001b[0;34m(\u001b[0m\u001b[0mdf_global\u001b[0m\u001b[0;34m.\u001b[0m\u001b[0malbum\u001b[0m\u001b[0;34m.\u001b[0m\u001b[0mdate_released\u001b[0m\u001b[0;34m.\u001b[0m\u001b[0misna\u001b[0m\u001b[0;34m(\u001b[0m\u001b[0;34m)\u001b[0m\u001b[0;34m)\u001b[0m\u001b[0;34m,\u001b[0m \u001b[0;34m(\u001b[0m\u001b[0;34m'track'\u001b[0m\u001b[0;34m,\u001b[0m\u001b[0;34m'date_recorded'\u001b[0m\u001b[0;34m)\u001b[0m\u001b[0;34m]\u001b[0m\u001b[0;34m\u001b[0m\u001b[0;34m\u001b[0m\u001b[0m\n\u001b[0m\u001b[1;32m      6\u001b[0m \u001b[0mdf_global\u001b[0m\u001b[0;34m.\u001b[0m\u001b[0mdrop\u001b[0m\u001b[0;34m(\u001b[0m\u001b[0mcolumns\u001b[0m \u001b[0;34m=\u001b[0m \u001b[0;34m[\u001b[0m\u001b[0;34m(\u001b[0m\u001b[0;34m'track'\u001b[0m\u001b[0;34m,\u001b[0m\u001b[0;34m'date_recorded'\u001b[0m\u001b[0;34m)\u001b[0m\u001b[0;34m]\u001b[0m\u001b[0;34m,\u001b[0m \u001b[0minplace\u001b[0m \u001b[0;34m=\u001b[0m \u001b[0;32mTrue\u001b[0m\u001b[0;34m)\u001b[0m\u001b[0;34m\u001b[0m\u001b[0;34m\u001b[0m\u001b[0m\n\u001b[1;32m      7\u001b[0m \u001b[0;34m\u001b[0m\u001b[0m\n",
      "\u001b[0;32m/opt/anaconda3/lib/python3.7/site-packages/pandas/core/generic.py\u001b[0m in \u001b[0;36m__getattr__\u001b[0;34m(self, name)\u001b[0m\n\u001b[1;32m   5139\u001b[0m             \u001b[0;32mif\u001b[0m \u001b[0mself\u001b[0m\u001b[0;34m.\u001b[0m\u001b[0m_info_axis\u001b[0m\u001b[0;34m.\u001b[0m\u001b[0m_can_hold_identifiers_and_holds_name\u001b[0m\u001b[0;34m(\u001b[0m\u001b[0mname\u001b[0m\u001b[0;34m)\u001b[0m\u001b[0;34m:\u001b[0m\u001b[0;34m\u001b[0m\u001b[0;34m\u001b[0m\u001b[0m\n\u001b[1;32m   5140\u001b[0m                 \u001b[0;32mreturn\u001b[0m \u001b[0mself\u001b[0m\u001b[0;34m[\u001b[0m\u001b[0mname\u001b[0m\u001b[0;34m]\u001b[0m\u001b[0;34m\u001b[0m\u001b[0;34m\u001b[0m\u001b[0m\n\u001b[0;32m-> 5141\u001b[0;31m             \u001b[0;32mreturn\u001b[0m \u001b[0mobject\u001b[0m\u001b[0;34m.\u001b[0m\u001b[0m__getattribute__\u001b[0m\u001b[0;34m(\u001b[0m\u001b[0mself\u001b[0m\u001b[0;34m,\u001b[0m \u001b[0mname\u001b[0m\u001b[0;34m)\u001b[0m\u001b[0;34m\u001b[0m\u001b[0;34m\u001b[0m\u001b[0m\n\u001b[0m\u001b[1;32m   5142\u001b[0m \u001b[0;34m\u001b[0m\u001b[0m\n\u001b[1;32m   5143\u001b[0m     \u001b[0;32mdef\u001b[0m \u001b[0m__setattr__\u001b[0m\u001b[0;34m(\u001b[0m\u001b[0mself\u001b[0m\u001b[0;34m,\u001b[0m \u001b[0mname\u001b[0m\u001b[0;34m:\u001b[0m \u001b[0mstr\u001b[0m\u001b[0;34m,\u001b[0m \u001b[0mvalue\u001b[0m\u001b[0;34m)\u001b[0m \u001b[0;34m->\u001b[0m \u001b[0;32mNone\u001b[0m\u001b[0;34m:\u001b[0m\u001b[0;34m\u001b[0m\u001b[0;34m\u001b[0m\u001b[0m\n",
      "\u001b[0;31mAttributeError\u001b[0m: 'DataFrame' object has no attribute 'date_recorded'"
     ]
    }
   ],
   "source": [
    "#artisti member\n",
    "df_global.loc[:, ('artist','members')] = np.where(df_global.artist.members.isna(), 1, 0)\n",
    "\n",
    "#use track.date_recorded to impute album.date_released. Then drop track.date_recorded\n",
    "df_global.loc[(df_global.track.date_recorded.notna()) & (df_global.album.date_released.isna()), ('album','date_released')] = df_global.loc[(df_global.track.date_recorded.notna()) & (df_global.album.date_released.isna()), ('track','date_recorded')]\n",
    "df_global.drop(columns = [('track','date_recorded')], inplace = True)\n",
    "\n",
    "#genres\n",
    "#1 -> drop rows with no genres at all\n",
    "df_global.drop(df_global.loc[df_global.track.genres_all.str.len() == 0].index, inplace = True)\n",
    "#2 -> clean genre top  all: abbiamo creato una nuova colonna uguale a genres_all dalla quale abbiamo rimosso tutti gli id che non sono top level and ADD NEW COLUMN CREATED TO df_global\n",
    "genres_top_list = list(set(genres_df.top_level.to_list()))\n",
    "genre_top_all = pd.DataFrame(df_global.track.genres_all)\n",
    "for i, lista in genre_top_all.iterrows():\n",
    "    temp_list = []\n",
    "    for item in lista[0]:\n",
    "        if item not in genres_top_list:\n",
    "            temp_list.append(item)\n",
    "    for j in temp_list:\n",
    "        lista[0].remove(j)\n",
    "df_global.track = df_global.track.join(genre_top_all.rename(columns={'genres_all' : 'genres_top_all'}),how = 'outer')\n",
    "#3 -> fill genre_top empty with \"Mixed\" (because they have mixed genres)\n",
    "df_global.loc[:,('track','genre_top')].fillna('Mixed',inplace = True)\n",
    "\n",
    "#building global_track df_global\n",
    "global_track = df_global.copy()\n",
    "\n",
    "global_track.rename(columns ={'artist_members':'artist_solo'}, inplace = True)"
   ]
  },
  {
   "cell_type": "code",
   "execution_count": 228,
   "metadata": {},
   "outputs": [],
   "source": [
    "global_track.columns = global_track.columns.map('_'.join).str.strip('_')"
   ]
  },
  {
   "cell_type": "code",
   "execution_count": 229,
   "metadata": {},
   "outputs": [],
   "source": [
    "#date released\n",
    "global_track.loc[:,'album_date_released'] = global_track.groupby('album_id')['album_date_released'].apply(lambda x: x.fillna(x.value_counts().index[0]) if x.value_counts().size != 0 else x)\n",
    "global_track.loc[:,'album_date_released'] = global_track.groupby('artist_id')['album_date_released'].apply(lambda x: x.fillna(x.value_counts().index[0]) if x.value_counts().size != 0 else x)\n",
    "global_track.loc[:,'album_date_released'].fillna(echonest_df.echonest.metadata.album_date, inplace = True)\n",
    "#covert album_date_released to years only\n",
    "global_track.loc[:,'album_date_released'] = pd.to_datetime(global_track.loc[:,'album_date_released']).dt.year"
   ]
  },
  {
   "cell_type": "code",
   "execution_count": 230,
   "metadata": {},
   "outputs": [],
   "source": [
    "global_track.loc[:,'album_type'] = global_track.groupby('album_id')['album_type'].apply(lambda x: x.fillna(x.value_counts().index[0]) if x.value_counts().size != 0 else x)"
   ]
  },
  {
   "cell_type": "code",
   "execution_count": 231,
   "metadata": {},
   "outputs": [],
   "source": [
    "#REPLACING MISSING VALUES BY IDS\n",
    "#global_track.loc[:,'album_type'] = global_track.groupby('album_id')['album_type'].apply(lambda x: x.fillna(x.value_counts().index[0]) if x.value_counts().size != 0 else x)\n",
    "\n",
    "#album_date_released\n",
    "\n",
    "#groupby\n",
    "global_track.loc[:,'album_date_released'] = global_track.groupby('album_id')['album_date_released'].apply(lambda x: x.fillna(x.value_counts().index[0]) if x.value_counts().size != 0 else x)\n",
    "global_track.loc[:,'album_date_released'] = global_track.groupby('artist_id')['album_date_released'].apply(lambda x: x.fillna(x.value_counts().index[0]) if x.value_counts().size != 0 else x)\n",
    "global_track.loc[:,'album_date_released'].fillna(echonest_df.echonest.metadata.album_date, inplace = True)"
   ]
  },
  {
   "cell_type": "code",
   "execution_count": 232,
   "metadata": {},
   "outputs": [],
   "source": [
    "#KNN imputer\n",
    "imputer = KNNImputer(n_neighbors=2) #define the k nearest neighbors   \n",
    "df_imputed = imputer.fit_transform(global_track[['album_date_released', 'artist_members','album_tracks','track_listens']])\n",
    "global_track.loc[:,'album_date_released'].fillna(pd.DataFrame(df_imputed)[0].isna().sum(), inplace = True)"
   ]
  },
  {
   "cell_type": "code",
   "execution_count": 233,
   "metadata": {},
   "outputs": [],
   "source": [
    "global_track.to_csv('global_track.csv', index = True)"
   ]
  },
  {
   "cell_type": "markdown",
   "metadata": {},
   "source": [
    "#### DF2 echo_track: clean dataframe (tracks with echonest info, 10'000 + rows)"
   ]
  },
  {
   "cell_type": "code",
   "execution_count": 234,
   "metadata": {},
   "outputs": [],
   "source": [
    "df_echo = df.copy()"
   ]
  },
  {
   "cell_type": "code",
   "execution_count": 235,
   "metadata": {},
   "outputs": [],
   "source": [
    "# Data cleaning\n",
    "#data cleaning CODE\n",
    "df_echo.drop(df_echo.loc[(df_echo.album.comments == -1),:].index, inplace = True)\n",
    "df_echo.drop(df_echo.loc[df_echo.artist.comments==-1].index, inplace=True)\n",
    "\n",
    "#for rows where date_released > date_created: replace values with values from date_created\n",
    "df_echo.loc[df_echo.album.date_released > df_echo.album.date_created, ('album', 'date_released')] = df_echo.loc[df_echo.album.date_released > df_echo.album.date_created, ('album', 'date_created')]\n",
    "#drop('album','date_created')\n",
    "\n",
    "#producer and engineer to binary\n",
    "df_echo.loc[df_echo.album.engineer.notna(),('album','engineer')] =  1\n",
    "df_echo.loc[:,('album','engineer')].fillna(0,inplace = True)\n",
    "df_echo.loc[df_echo.album.producer.notna(),('album','producer')] =  1\n",
    "df_echo.loc[:,('album','producer')].fillna(0,inplace = True)"
   ]
  },
  {
   "cell_type": "code",
   "execution_count": 236,
   "metadata": {},
   "outputs": [],
   "source": [
    "#drop entire columns\n",
    "df_echo.drop(columns = [('album','information')], inplace = True)\n",
    "df_echo.drop(columns = [('album','tags')], inplace = True)\n",
    "df_echo.drop(columns= [('album','date_created')], inplace =  True)\n",
    "\n",
    "df_echo.drop(columns = [('artist','active_year_begin')], inplace = True)\n",
    "df_echo.drop(columns = [('artist','active_year_end')], inplace = True)\n",
    "df_echo.drop(columns = [('artist','associated_labels')], inplace = True)\n",
    "df_echo.drop(columns = [('artist','bio')], inplace = True)\n",
    "df_echo.drop(columns = [('artist','date_created')], inplace = True)\n",
    "df_echo.drop(columns = [('artist','location')], inplace = True)\n",
    "df_echo.drop(columns = [('artist','latitude')], inplace = True)\n",
    "df_echo.drop(columns = [('artist','longitude')], inplace = True)\n",
    "df_echo.drop(columns = [('artist','name')], inplace = True)\n",
    "df_echo.drop(columns = [('artist','website')], inplace = True)\n",
    "df_echo.drop(columns = [('artist','wikipedia_page')], inplace = True)\n",
    "df_echo.drop(columns = [('artist','related_projects')], inplace = True)\n",
    "\n",
    "df_echo.drop(columns = [('track','composer')], inplace = True)\n",
    "df_echo.drop(columns = [('track','date_created')], inplace = True)\n",
    "df_echo.drop(columns = [('track','lyricist')], inplace = True)\n",
    "df_echo.drop(columns = [('track','tags')], inplace = True)\n",
    "df_echo.drop(columns = [('track','information')], inplace = True)\n",
    "df_echo.drop(columns = [('track','publisher')], inplace = True)\n",
    "df_echo.drop(columns = [('track','number')], inplace = True)\n",
    "df_echo.drop(columns = [('track','title')], inplace = True)\n",
    "df_echo.drop(columns = [('track','license')], inplace = True)\n",
    "df_echo.drop(columns = [('track','language_code')], inplace = True)"
   ]
  },
  {
   "cell_type": "code",
   "execution_count": 237,
   "metadata": {},
   "outputs": [],
   "source": [
    "#artisti member\n",
    "df_echo.loc[:, ('artist','members')] = np.where(df_echo.artist.members.isna(), 1, 0)\n",
    "\n",
    "#use track.date_recorded to impute album.date_released. Then drop track.date_recorded\n",
    "df_echo.loc[(df_echo.track.date_recorded.notna()) & (df_echo.album.date_released.isna()), ('album','date_released')] = df_echo.loc[(df_echo.track.date_recorded.notna()) & (df_echo.album.date_released.isna()), ('track','date_recorded')]\n",
    "df_echo.drop(columns = [('track','date_recorded')], inplace = True)\n",
    "\n",
    "#bit_rate\n",
    "df_echo.loc[:,('track','bit_rate')] = df_echo.track.bit_rate/1000\n",
    "df_echo.loc[df_echo.track.bit_rate < 0, ('track', 'bit_rate')] = 320"
   ]
  },
  {
   "cell_type": "code",
   "execution_count": 238,
   "metadata": {},
   "outputs": [],
   "source": [
    "#genres\n",
    "#1 -> drop rows with no genres at all\n",
    "df_echo.drop(df_echo.loc[df_echo.track.genres_all.str.len() == 0].index, inplace = True)\n",
    "#2 -> clean genre top  all: abbiamo creato una nuova colonna uguale a genres_all dalla quale abbiamo rimosso tutti gli id che non sono top level and ADD NEW COLUMN CREATED TO df_echo\n",
    "genres_top_list = list(set(genres_df.top_level.to_list()))\n",
    "genre_top_all = pd.DataFrame(df_echo.track.genres_all)\n",
    "for i, lista in genre_top_all.iterrows():\n",
    "    temp_list = []\n",
    "    for item in lista[0]:\n",
    "        if item not in genres_top_list:\n",
    "            temp_list.append(item)\n",
    "    for j in temp_list:\n",
    "        lista[0].remove(j)\n",
    "df_echo.track = df_echo.track.join(genre_top_all.rename(columns={'genres_all' : 'genres_top_all'}),how = 'outer')\n",
    "df_echo.track = df_echo.track.map(ast.literal_eval)\n",
    "#3 -> fill genre_top empty with \"Mixed\" (because they have mixed genres)\n",
    "df_echo.loc[:,('track','genre_top')].fillna('Mixed',inplace = True)"
   ]
  },
  {
   "cell_type": "code",
   "execution_count": 239,
   "metadata": {},
   "outputs": [],
   "source": [
    "#building echo_track dataframe\n",
    "df_echo.columns = df_echo.columns.map('_'.join).str.strip('_')\n",
    "echo_to_merge = echonest_df.iloc[:,:8].copy()\n",
    "echo_to_merge.columns = echonest_df.iloc[:,:8].columns.droplevel(0).map('_'.join).str.strip('_')\n",
    "echo_track = pd.merge(echo_to_merge, df_echo, on ='track_id')\n",
    "\n",
    "echo_track.rename(columns ={'artist_members':'artist_solo'}, inplace = True)"
   ]
  },
  {
   "cell_type": "code",
   "execution_count": 240,
   "metadata": {},
   "outputs": [],
   "source": [
    "#covert album_date_released to years only\n",
    "echo_track.loc[:,'album_date_released'] = echo_track.loc[:,'album_date_released'].dt.year"
   ]
  },
  {
   "cell_type": "code",
   "execution_count": 241,
   "metadata": {},
   "outputs": [],
   "source": [
    "#REPLEACING MISSING VALUES BY IDS\n",
    "echo_track.loc[:,'album_type'] = echo_track.groupby('album_id')['album_type'].apply(lambda x: x.fillna(x.value_counts().index[0]) if x.value_counts().size != 0 else x)\n",
    "echo_track.loc[:,'album_date_released'] = echo_track.groupby('album_id')['album_date_released'].apply(lambda x: x.fillna(x.value_counts().index[0]) if x.value_counts().size != 0 else x)\n",
    "\n",
    "#KNN imputer\n",
    "imputer_echo = KNNImputer(n_neighbors=2) #define the k nearest neighbors   \n",
    "df_echo_imputed = imputer_echo.fit_transform(echo_track.iloc[:,6:10])\n",
    "echo_track.loc[:,'album_date_released'].fillna(pd.DataFrame(df_echo_imputed)[0].isna().sum(), inplace = True)\n"
   ]
  },
  {
   "cell_type": "code",
   "execution_count": 242,
   "metadata": {},
   "outputs": [],
   "source": [
    "echo_track.to_csv('echo_track.csv', index = True)"
   ]
  },
  {
   "cell_type": "code",
   "execution_count": 243,
   "metadata": {},
   "outputs": [],
   "source": [
    "#end"
   ]
  }
 ],
 "metadata": {
  "kernelspec": {
   "display_name": "Python 3",
   "language": "python",
   "name": "python3"
  },
  "language_info": {
   "codemirror_mode": {
    "name": "ipython",
    "version": 3
   },
   "file_extension": ".py",
   "mimetype": "text/x-python",
   "name": "python",
   "nbconvert_exporter": "python",
   "pygments_lexer": "ipython3",
   "version": "3.7.7"
  }
 },
 "nbformat": 4,
 "nbformat_minor": 4
}
