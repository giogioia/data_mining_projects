{
 "cells": [
  {
   "cell_type": "markdown",
   "metadata": {},
   "source": [
    "## Data preprocessing codes"
   ]
  },
  {
   "cell_type": "code",
   "execution_count": 4,
   "metadata": {},
   "outputs": [],
   "source": [
    "%matplotlib inline\n",
    "\n",
    "import IPython.display as ipd\n",
    "import numpy as np\n",
    "import pandas as pd\n",
    "import matplotlib.pyplot as plt\n",
    "import seaborn as sns\n",
    "import sklearn as skl\n",
    "import sklearn.utils, sklearn.preprocessing, sklearn.decomposition, sklearn.svm\n",
    "\n",
    "import utils"
   ]
  },
  {
   "cell_type": "code",
   "execution_count": 5,
   "metadata": {},
   "outputs": [],
   "source": [
    "#loading all dataframes \n",
    "df = utils.load('fma_metadata/tracks.csv')\n",
    "genres_df = utils.load('fma_metadata/genres.csv')\n",
    "echonest_df = utils.load('fma_metadata/echonest.csv')"
   ]
  },
  {
   "cell_type": "markdown",
   "metadata": {},
   "source": [
    "#### DF1 df_global: raw dataset (outliers not cleaned) with all tracks without echonest data (100'000 + rows)"
   ]
  },
  {
   "cell_type": "code",
   "execution_count": 6,
   "metadata": {},
   "outputs": [],
   "source": [
    "df_global = df.copy()"
   ]
  },
  {
   "cell_type": "code",
   "execution_count": 7,
   "metadata": {},
   "outputs": [],
   "source": [
    "# Data cleaning\n",
    "#data cleaning CODE\n",
    "df_global.drop(df_global.loc[(df_global.album.comments == -1),:].index, inplace = True)\n",
    "df_global.drop(df_global.loc[df_global.artist.comments==-1].index, inplace=True)\n",
    "\n",
    "#for rows where date_released > date_created: replace values with values from date_created\n",
    "df_global.loc[df_global.album.date_released > df_global.album.date_created, ('album', 'date_released')] = df_global.loc[df_global.album.date_released > df_global.album.date_created, ('album', 'date_created')]\n",
    "\n",
    "#encode variable into a binary attribute: 1 if engineer is present, 0 if not\n",
    "df_global.loc[df_global.album.engineer.isna(),('album','engineer')] = 0\n",
    "df_global.loc[df_global.album.engineer.notna(),('album','engineer')] = 1\n",
    "\n",
    "#encode variable into a binary attribute: 1 if producer is present, 0 if not\n",
    "df_global.loc[df_global.album.producer.isna(),('album','producer')] = 0\n",
    "df_global.loc[df_global.album.producer.notna(),('album','producer')] = 1"
   ]
  },
  {
   "cell_type": "code",
   "execution_count": 8,
   "metadata": {},
   "outputs": [],
   "source": [
    "#drop entire columns\n",
    "df_global.drop(columns = [('album','information')], inplace = True)\n",
    "df_global.drop(columns = [('album','tags')], inplace = True)\n",
    "df_global.drop(columns= [('album','date_created')], inplace =  True)\n",
    "\n",
    "df_global.drop(columns = [('artist','active_year_begin')], inplace = True)\n",
    "df_global.drop(columns = [('artist','active_year_end')], inplace = True)\n",
    "df_global.drop(columns = [('artist','associated_labels')], inplace = True)\n",
    "df_global.drop(columns = [('artist','bio')], inplace = True)\n",
    "df_global.drop(columns = [('artist','date_created')], inplace = True)\n",
    "df_global.drop(columns = [('artist','location')], inplace = True)\n",
    "df_global.drop(columns = [('artist','latitude')], inplace = True)\n",
    "df_global.drop(columns = [('artist','longitude')], inplace = True)\n",
    "df_global.drop(columns = [('artist','name')], inplace = True)\n",
    "df_global.drop(columns = [('artist','website')], inplace = True)\n",
    "df_global.drop(columns = [('artist','wikipedia_page')], inplace = True)\n",
    "\n",
    "df_global.drop(columns = [('track','composer')], inplace = True)\n",
    "df_global.drop(columns = [('track','date_created')], inplace = True)\n",
    "df_global.drop(columns = [('track','lyricist')], inplace = True)\n",
    "df_global.drop(columns = [('track','tags')], inplace = True)\n",
    "df_global.drop(columns = [('track','information')], inplace = True)\n",
    "df_global.drop(columns = [('track','publisher')], inplace = True)\n",
    "df_global.drop(columns = [('track','number')], inplace = True)\n",
    "df_global.drop(columns = [('track','title')], inplace = True)"
   ]
  },
  {
   "cell_type": "code",
   "execution_count": 6,
   "metadata": {},
   "outputs": [],
   "source": [
    "#use track.date_recorded to impute album.date_released. Then drop track.date_recorded\n",
    "df_global.loc[(df_global.track.date_recorded.notna()) & (df_global.album.date_released.isna()), ('album','date_released')] = df_global.loc[(df_global.track.date_recorded.notna()) & (df_global.album.date_released.isna()), ('track','date_recorded')]\n",
    "df_global.drop(columns = [('track','date_recorded')], inplace = True)\n",
    "\n",
    "#genres\n",
    "#1 -> drop rows with no genres at all\n",
    "df_global.drop(df_global.loc[df_global.track.genres_all.str.len() == 0].index, inplace = True)\n",
    "#2 -> clean genre top  all: abbiamo creato una nuova colonna uguale a genres_all dalla quale abbiamo rimosso tutti gli id che non sono top level and ADD NEW COLUMN CREATED TO df_global\n",
    "genres_top_list = list(set(genres_df.top_level.to_list()))\n",
    "genre_top_all = pd.DataFrame(df_global.track.genres_all)\n",
    "for i, lista in genre_top_all.iterrows():\n",
    "    temp_list = []\n",
    "    for item in lista[0]:\n",
    "        if item not in genres_top_list:\n",
    "            temp_list.append(item)\n",
    "    for j in temp_list:\n",
    "        lista[0].remove(j)\n",
    "df_global.track = df_global.track.join(genre_top_all.rename(columns={'genres_all' : 'genres_top_all'}),how = 'outer')\n",
    "#3 -> fill genre_top empty with \"Mixed\" (because they have mixed genres)\n",
    "df_global.loc[:,('track','genre_top')].fillna('Mixed',inplace = True)\n",
    "\n",
    "#building global_track df_global\n",
    "global_track = df_global.copy()"
   ]
  },
  {
   "cell_type": "code",
   "execution_count": 7,
   "metadata": {},
   "outputs": [],
   "source": [
    "global_track.columns = global_track.columns.map('_'.join).str.strip('_')"
   ]
  },
  {
   "cell_type": "code",
   "execution_count": 8,
   "metadata": {},
   "outputs": [],
   "source": [
    "#LE LISTE CON VALORI NULLI SONO LISTE VUOTE\n",
    "list_null = ['artist_members','artist_related_projects']\n",
    "\n",
    "for column in global_track.loc[:,list_null]:\n",
    "    global_track.loc[global_track[column].notnull(), column] = global_track.loc[global_track[column].notnull(), column].apply(lambda x: x.split(\", \"))\n",
    "    global_track.loc[global_track[column].isnull(), column] = global_track.loc[global_track[column].isnull(),column].apply(lambda x: [])"
   ]
  },
  {
   "cell_type": "code",
   "execution_count": null,
   "metadata": {},
   "outputs": [],
   "source": [
    "#REPLACING MISSING VALUES BY IDS\n",
    "global_track.loc[:,'track_license'] = global_track.groupby('artist_id')['track_license'].apply(lambda x: x.fillna(x.value_counts().index[0]) if x.value_counts().size != 0 else x)\n",
    "global_track.loc[:,'album_type'] = global_track.groupby('album_id')['album_type'].apply(lambda x: x.fillna(x.value_counts().index[0]) if x.value_counts().size != 0 else x)\n",
    "global_track.loc[:,'track_language_code'] = global_track.groupby('album_id')['track_language_code'].apply(lambda x: x.fillna(x.value_counts().index[0]) if x.value_counts().size != 0 else x)\n",
    "global_track.loc[:,'track_language_code'] = global_track.groupby('artist_id')['track_language_code'].apply(lambda x: x.fillna(x.value_counts().index[0]) if x.value_counts().size != 0 else x)\n",
    "global_track.loc[:,'album_date_released'] = global_track.groupby('album_id')['album_date_released'].apply(lambda x: x.fillna(x.value_counts().index[0]) if x.value_counts().size != 0 else x)"
   ]
  },
  {
   "cell_type": "code",
   "execution_count": null,
   "metadata": {},
   "outputs": [],
   "source": [
    "global_track.to_csv('global_track.csv', index = True)"
   ]
  },
  {
   "cell_type": "markdown",
   "metadata": {},
   "source": [
    "#### DF2 echo_track: clean dataframe (tracks with echonest info, 10'000 + rows)"
   ]
  },
  {
   "cell_type": "code",
   "execution_count": null,
   "metadata": {},
   "outputs": [],
   "source": [
    "df_echo = df.copy()"
   ]
  },
  {
   "cell_type": "code",
   "execution_count": null,
   "metadata": {},
   "outputs": [],
   "source": [
    "# Data cleaning\n",
    "#data cleaning CODE\n",
    "df_echo.drop(df_echo.loc[(df_echo.album.comments == -1),:].index, inplace = True)\n",
    "df_echo.drop(df_echo.loc[df_echo.artist.comments==-1].index, inplace=True)\n",
    "\n",
    "#for rows where date_released > date_created: replace values with values from date_created\n",
    "df_echo.loc[df_echo.album.date_released > df_echo.album.date_created, ('album', 'date_released')] = df_echo.loc[df_echo.album.date_released > df_echo.album.date_created, ('album', 'date_created')]\n",
    "#drop('album','date_created')\n",
    "\n",
    "#encode variable into a binary attribute: 1 if engineer is present, 0 if not\n",
    "df_echo.loc[df_echo.album.engineer.isna(),('album','engineer')] = 0\n",
    "df_echo.loc[df_echo.album.engineer.notna(),('album','engineer')] = 1\n",
    "\n",
    "#encode variable into a binary attribute: 1 if producer is present, 0 if not\n",
    "df_echo.loc[df_echo.album.producer.isna(),('album','producer')] = 0\n",
    "df_echo.loc[df_echo.album.producer.notna(),('album','producer')] = 1"
   ]
  },
  {
   "cell_type": "code",
   "execution_count": null,
   "metadata": {},
   "outputs": [],
   "source": [
    "#drop entire columns\n",
    "df_echo.drop(columns = [('album','information')], inplace = True)\n",
    "df_echo.drop(columns = [('album','tags')], inplace = True)\n",
    "df_echo.drop(columns= [('album','date_created')], inplace =  True)\n",
    "\n",
    "df_echo.drop(columns = [('artist','active_year_begin')], inplace = True)\n",
    "df_echo.drop(columns = [('artist','active_year_end')], inplace = True)\n",
    "df_echo.drop(columns = [('artist','associated_labels')], inplace = True)\n",
    "df_echo.drop(columns = [('artist','bio')], inplace = True)\n",
    "df_echo.drop(columns = [('artist','date_created')], inplace = True)\n",
    "df_echo.drop(columns = [('artist','location')], inplace = True)\n",
    "df_echo.drop(columns = [('artist','latitude')], inplace = True)\n",
    "df_echo.drop(columns = [('artist','longitude')], inplace = True)\n",
    "df_echo.drop(columns = [('artist','name')], inplace = True)\n",
    "df_echo.drop(columns = [('artist','website')], inplace = True)\n",
    "df_echo.drop(columns = [('artist','wikipedia_page')], inplace = True)\n",
    "\n",
    "df_echo.drop(columns = [('track','composer')], inplace = True)\n",
    "df_echo.drop(columns = [('track','date_created')], inplace = True)\n",
    "df_echo.drop(columns = [('track','lyricist')], inplace = True)\n",
    "df_echo.drop(columns = [('track','tags')], inplace = True)\n",
    "df_echo.drop(columns = [('track','information')], inplace = True)\n",
    "df_echo.drop(columns = [('track','publisher')], inplace = True)\n",
    "df_echo.drop(columns = [('track','number')], inplace = True)\n",
    "df_echo.drop(columns = [('track','title')], inplace = True)"
   ]
  },
  {
   "cell_type": "code",
   "execution_count": null,
   "metadata": {},
   "outputs": [],
   "source": []
  },
  {
   "cell_type": "code",
   "execution_count": null,
   "metadata": {},
   "outputs": [],
   "source": [
    "#use track.date_recorded to impute album.date_released. Then drop track.date_recorded\n",
    "df_echo.loc[(df_echo.track.date_recorded.notna()) & (df_echo.album.date_released.isna()), ('album','date_released')] = df_echo.loc[(df_echo.track.date_recorded.notna()) & (df_echo.album.date_released.isna()), ('track','date_recorded')]\n",
    "df_echo.drop(columns = [('track','date_recorded')], inplace = True)\n",
    "\n",
    "#bit_rate\n",
    "df_echo.loc[:,('track','bit_rate')] = df_echo.track.bit_rate/1000\n",
    "df_echo.loc[df_echo.track.bit_rate < 0, ('track', 'bit_rate')] = 320\n",
    "\n",
    "#genres\n",
    "#1 -> drop rows with no genres at all\n",
    "df_echo.drop(df_echo.loc[df_echo.track.genres_all.str.len() == 0].index, inplace = True)\n",
    "#2 -> clean genre top  all: abbiamo creato una nuova colonna uguale a genres_all dalla quale abbiamo rimosso tutti gli id che non sono top level and ADD NEW COLUMN CREATED TO df_echo\n",
    "genres_top_list = list(set(genres_df.top_level.to_list()))\n",
    "genre_top_all = pd.DataFrame(df_echo.track.genres_all)\n",
    "for i, lista in genre_top_all.iterrows():\n",
    "    temp_list = []\n",
    "    for item in lista[0]:\n",
    "        if item not in genres_top_list:\n",
    "            temp_list.append(item)\n",
    "    for j in temp_list:\n",
    "        lista[0].remove(j)\n",
    "df_echo.loc[:,'track'] = df_echo.track.join(genre_top_all.rename(columns={'genres_all' : 'genres_top_all'}), how = 'outer')\n",
    "#3 -> fill genre_top empty with \"Mixed\" (because they have mixed genres)\n",
    "df_echo.loc[:,('track','genre_top')].fillna('Mixed',inplace = True)"
   ]
  },
  {
   "cell_type": "code",
   "execution_count": null,
   "metadata": {},
   "outputs": [],
   "source": [
    "#building echo_track dataframe\n",
    "df_echo.columns = df_echo.columns.map('_'.join).str.strip('_')\n",
    "echo_to_merge = echonest_df.iloc[:,:8].copy()\n",
    "echo_to_merge.columns = echonest_df.iloc[:,:8].columns.droplevel(0).map('_'.join).str.strip('_')\n",
    "echo_track = pd.merge(echo_to_merge, df_echo, on ='track_id')"
   ]
  },
  {
   "cell_type": "code",
   "execution_count": null,
   "metadata": {},
   "outputs": [],
   "source": [
    "#LE LISTE CON VALORI NULLI SONO LISTE VUOTE\n",
    "list_null = ['artist_members','artist_related_projects']\n",
    "\n",
    "for column in echo_track.loc[:,list_null]:\n",
    "    echo_track.loc[echo_track[column].notnull(), column] = echo_track.loc[echo_track[column].notnull(), column].apply(lambda x: x.split(\", \"))\n",
    "    echo_track.loc[echo_track[column].isnull(), column] = echo_track.loc[echo_track[column].isnull(),column].apply(lambda x: [])"
   ]
  },
  {
   "cell_type": "code",
   "execution_count": null,
   "metadata": {},
   "outputs": [],
   "source": [
    "#REPLEACING MISSING VALUES BY IDS\n",
    "echo_track.loc[:,'track_license'] = echo_track.groupby('artist_id')['track_license'].apply(lambda x: x.fillna(x.value_counts().index[0]) if x.value_counts().size != 0 else x)\n",
    "echo_track.loc[:,'album_type'] = echo_track.groupby('album_id')['album_type'].apply(lambda x: x.fillna(x.value_counts().index[0]) if x.value_counts().size != 0 else x)\n",
    "echo_track.loc[:,'track_language_code'] = echo_track.groupby('album_id')['track_language_code'].apply(lambda x: x.fillna(x.value_counts().index[0]) if x.value_counts().size != 0 else x)\n",
    "echo_track.loc[:,'track_language_code'] = echo_track.groupby('artist_id')['track_language_code'].apply(lambda x: x.fillna(x.value_counts().index[0]) if x.value_counts().size != 0 else x)\n",
    "echo_track.loc[:,'album_date_released'] = echo_track.groupby('album_id')['album_date_released'].apply(lambda x: x.fillna(x.value_counts().index[0]) if x.value_counts().size != 0 else x)"
   ]
  },
  {
   "cell_type": "code",
   "execution_count": null,
   "metadata": {},
   "outputs": [],
   "source": [
    "echo_track.to_csv('echo_track.csv', index = True)"
   ]
  },
  {
   "cell_type": "code",
   "execution_count": null,
   "metadata": {},
   "outputs": [],
   "source": []
  }
 ],
 "metadata": {
  "kernelspec": {
   "display_name": "Python 3",
   "language": "python",
   "name": "python3"
  },
  "language_info": {
   "codemirror_mode": {
    "name": "ipython",
    "version": 3
   },
   "file_extension": ".py",
   "mimetype": "text/x-python",
   "name": "python",
   "nbconvert_exporter": "python",
   "pygments_lexer": "ipython3",
   "version": "3.8.5"
  }
 },
 "nbformat": 4,
 "nbformat_minor": 4
}
