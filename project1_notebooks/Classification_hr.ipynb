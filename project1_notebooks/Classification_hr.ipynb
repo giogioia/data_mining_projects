{
 "cells": [
  {
   "cell_type": "markdown",
   "metadata": {},
   "source": [
    "# Classification IMB hr"
   ]
  },
  {
   "cell_type": "code",
   "execution_count": 1,
   "metadata": {},
   "outputs": [],
   "source": [
    "from sklearn.tree import DecisionTreeClassifier\n",
    "from sklearn.model_selection import train_test_split\n",
    "import numpy as np\n",
    "import pandas as pd\n",
    "import matplotlib.pyplot as plt\n",
    "from sklearn.preprocessing import LabelEncoder\n",
    "from sklearn.model_selection import cross_val_score\n",
    "from sklearn.preprocessing import OneHotEncoder\n",
    "from sklearn.model_selection import train_test_split"
   ]
  },
  {
   "cell_type": "code",
   "execution_count": 5,
   "metadata": {},
   "outputs": [],
   "source": [
    "#importd df\n",
    "df = pd.read_csv('Train_HR_Employee_Attrition.csv')\n",
    "#enable full view of pandas dataframes\n",
    "pd.set_option('display.max_columns', None)"
   ]
  },
  {
   "cell_type": "code",
   "execution_count": 6,
   "metadata": {},
   "outputs": [
    {
     "data": {
      "text/html": [
       "<div>\n",
       "<style scoped>\n",
       "    .dataframe tbody tr th:only-of-type {\n",
       "        vertical-align: middle;\n",
       "    }\n",
       "\n",
       "    .dataframe tbody tr th {\n",
       "        vertical-align: top;\n",
       "    }\n",
       "\n",
       "    .dataframe thead th {\n",
       "        text-align: right;\n",
       "    }\n",
       "</style>\n",
       "<table border=\"1\" class=\"dataframe\">\n",
       "  <thead>\n",
       "    <tr style=\"text-align: right;\">\n",
       "      <th></th>\n",
       "      <th>Age</th>\n",
       "      <th>Attrition</th>\n",
       "      <th>BusinessTravel</th>\n",
       "      <th>DailyRate</th>\n",
       "      <th>Department</th>\n",
       "      <th>DistanceFromHome</th>\n",
       "      <th>Education</th>\n",
       "      <th>EducationField</th>\n",
       "      <th>EnvironmentSatisfaction</th>\n",
       "      <th>Gender</th>\n",
       "      <th>HourlyRate</th>\n",
       "      <th>JobInvolvement</th>\n",
       "      <th>JobLevel</th>\n",
       "      <th>JobRole</th>\n",
       "      <th>JobSatisfaction</th>\n",
       "      <th>MaritalStatus</th>\n",
       "      <th>MonthlyIncome</th>\n",
       "      <th>MonthlyRate</th>\n",
       "      <th>NumCompaniesWorked</th>\n",
       "      <th>Over18</th>\n",
       "      <th>OverTime</th>\n",
       "      <th>PercentSalaryHike</th>\n",
       "      <th>PerformanceRating</th>\n",
       "      <th>RelationshipSatisfaction</th>\n",
       "      <th>StandardHours</th>\n",
       "      <th>StockOptionLevel</th>\n",
       "      <th>TotalWorkingYears</th>\n",
       "      <th>TrainingTimesLastYear</th>\n",
       "      <th>WorkLifeBalance</th>\n",
       "      <th>YearsAtCompany</th>\n",
       "      <th>YearsInCurrentRole</th>\n",
       "      <th>YearsSinceLastPromotion</th>\n",
       "      <th>YearsWithCurrManager</th>\n",
       "    </tr>\n",
       "  </thead>\n",
       "  <tbody>\n",
       "    <tr>\n",
       "      <th>0</th>\n",
       "      <td>52.0</td>\n",
       "      <td>No</td>\n",
       "      <td>Travel_Rarely</td>\n",
       "      <td>593</td>\n",
       "      <td>Research &amp; Development</td>\n",
       "      <td>9</td>\n",
       "      <td>4</td>\n",
       "      <td>Medical</td>\n",
       "      <td>2</td>\n",
       "      <td>Male</td>\n",
       "      <td>88</td>\n",
       "      <td>3</td>\n",
       "      <td>3</td>\n",
       "      <td>Research Director</td>\n",
       "      <td>3</td>\n",
       "      <td>Single</td>\n",
       "      <td>8446.0</td>\n",
       "      <td>13782</td>\n",
       "      <td>9</td>\n",
       "      <td>NaN</td>\n",
       "      <td>No</td>\n",
       "      <td>17</td>\n",
       "      <td>3.0</td>\n",
       "      <td>3</td>\n",
       "      <td>80.0</td>\n",
       "      <td>0</td>\n",
       "      <td>20</td>\n",
       "      <td>2.0</td>\n",
       "      <td>2</td>\n",
       "      <td>8.0</td>\n",
       "      <td>7</td>\n",
       "      <td>2</td>\n",
       "      <td>13</td>\n",
       "    </tr>\n",
       "    <tr>\n",
       "      <th>1</th>\n",
       "      <td>36.0</td>\n",
       "      <td>No</td>\n",
       "      <td>Travel_Rarely</td>\n",
       "      <td>1218</td>\n",
       "      <td>Research &amp; Development</td>\n",
       "      <td>1</td>\n",
       "      <td>1</td>\n",
       "      <td>Life Sciences</td>\n",
       "      <td>2</td>\n",
       "      <td>Male</td>\n",
       "      <td>52</td>\n",
       "      <td>3</td>\n",
       "      <td>5</td>\n",
       "      <td>Manager</td>\n",
       "      <td>3</td>\n",
       "      <td>Divorced</td>\n",
       "      <td>4834.0</td>\n",
       "      <td>8213</td>\n",
       "      <td>1</td>\n",
       "      <td>NaN</td>\n",
       "      <td>Yes</td>\n",
       "      <td>14</td>\n",
       "      <td>3.0</td>\n",
       "      <td>3</td>\n",
       "      <td>80.0</td>\n",
       "      <td>1</td>\n",
       "      <td>21</td>\n",
       "      <td>3.0</td>\n",
       "      <td>3</td>\n",
       "      <td>1.0</td>\n",
       "      <td>8</td>\n",
       "      <td>1</td>\n",
       "      <td>6</td>\n",
       "    </tr>\n",
       "    <tr>\n",
       "      <th>2</th>\n",
       "      <td>NaN</td>\n",
       "      <td>No</td>\n",
       "      <td>Travel_Frequently</td>\n",
       "      <td>530</td>\n",
       "      <td>Sales</td>\n",
       "      <td>16</td>\n",
       "      <td>3</td>\n",
       "      <td>Life Sciences</td>\n",
       "      <td>3</td>\n",
       "      <td>NaN</td>\n",
       "      <td>36</td>\n",
       "      <td>3</td>\n",
       "      <td>2</td>\n",
       "      <td>Sales Executive</td>\n",
       "      <td>4</td>\n",
       "      <td>Divorced</td>\n",
       "      <td>4768.0</td>\n",
       "      <td>16130</td>\n",
       "      <td>1</td>\n",
       "      <td>Y</td>\n",
       "      <td>Yes</td>\n",
       "      <td>25</td>\n",
       "      <td>3.0</td>\n",
       "      <td>3</td>\n",
       "      <td>NaN</td>\n",
       "      <td>1</td>\n",
       "      <td>7</td>\n",
       "      <td>4.0</td>\n",
       "      <td>3</td>\n",
       "      <td>1.0</td>\n",
       "      <td>5</td>\n",
       "      <td>1</td>\n",
       "      <td>2</td>\n",
       "    </tr>\n",
       "    <tr>\n",
       "      <th>3</th>\n",
       "      <td>33.0</td>\n",
       "      <td>No</td>\n",
       "      <td>Travel_Rarely</td>\n",
       "      <td>953</td>\n",
       "      <td>Research &amp; Development</td>\n",
       "      <td>5</td>\n",
       "      <td>4</td>\n",
       "      <td>Technical Degree</td>\n",
       "      <td>2</td>\n",
       "      <td>Male</td>\n",
       "      <td>65</td>\n",
       "      <td>3</td>\n",
       "      <td>1</td>\n",
       "      <td>Research Scientist</td>\n",
       "      <td>2</td>\n",
       "      <td>Single</td>\n",
       "      <td>2799.0</td>\n",
       "      <td>17674</td>\n",
       "      <td>2</td>\n",
       "      <td>Y</td>\n",
       "      <td>No</td>\n",
       "      <td>14</td>\n",
       "      <td>3.0</td>\n",
       "      <td>2</td>\n",
       "      <td>NaN</td>\n",
       "      <td>0</td>\n",
       "      <td>12</td>\n",
       "      <td>1.0</td>\n",
       "      <td>3</td>\n",
       "      <td>3.0</td>\n",
       "      <td>7</td>\n",
       "      <td>0</td>\n",
       "      <td>7</td>\n",
       "    </tr>\n",
       "    <tr>\n",
       "      <th>4</th>\n",
       "      <td>NaN</td>\n",
       "      <td>No</td>\n",
       "      <td>Travel_Rarely</td>\n",
       "      <td>1380</td>\n",
       "      <td>Research &amp; Development</td>\n",
       "      <td>9</td>\n",
       "      <td>2</td>\n",
       "      <td>Life Sciences</td>\n",
       "      <td>3</td>\n",
       "      <td>Female</td>\n",
       "      <td>75</td>\n",
       "      <td>3</td>\n",
       "      <td>1</td>\n",
       "      <td>Laboratory Technician</td>\n",
       "      <td>4</td>\n",
       "      <td>Single</td>\n",
       "      <td>7978.0</td>\n",
       "      <td>6319</td>\n",
       "      <td>1</td>\n",
       "      <td>NaN</td>\n",
       "      <td>No</td>\n",
       "      <td>12</td>\n",
       "      <td>3.0</td>\n",
       "      <td>3</td>\n",
       "      <td>80.0</td>\n",
       "      <td>0</td>\n",
       "      <td>2</td>\n",
       "      <td>NaN</td>\n",
       "      <td>3</td>\n",
       "      <td>10.0</td>\n",
       "      <td>2</td>\n",
       "      <td>2</td>\n",
       "      <td>1</td>\n",
       "    </tr>\n",
       "    <tr>\n",
       "      <th>...</th>\n",
       "      <td>...</td>\n",
       "      <td>...</td>\n",
       "      <td>...</td>\n",
       "      <td>...</td>\n",
       "      <td>...</td>\n",
       "      <td>...</td>\n",
       "      <td>...</td>\n",
       "      <td>...</td>\n",
       "      <td>...</td>\n",
       "      <td>...</td>\n",
       "      <td>...</td>\n",
       "      <td>...</td>\n",
       "      <td>...</td>\n",
       "      <td>...</td>\n",
       "      <td>...</td>\n",
       "      <td>...</td>\n",
       "      <td>...</td>\n",
       "      <td>...</td>\n",
       "      <td>...</td>\n",
       "      <td>...</td>\n",
       "      <td>...</td>\n",
       "      <td>...</td>\n",
       "      <td>...</td>\n",
       "      <td>...</td>\n",
       "      <td>...</td>\n",
       "      <td>...</td>\n",
       "      <td>...</td>\n",
       "      <td>...</td>\n",
       "      <td>...</td>\n",
       "      <td>...</td>\n",
       "      <td>...</td>\n",
       "      <td>...</td>\n",
       "      <td>...</td>\n",
       "    </tr>\n",
       "    <tr>\n",
       "      <th>1171</th>\n",
       "      <td>37.0</td>\n",
       "      <td>No</td>\n",
       "      <td>Travel_Rarely</td>\n",
       "      <td>1123</td>\n",
       "      <td>Research &amp; Development</td>\n",
       "      <td>16</td>\n",
       "      <td>2</td>\n",
       "      <td>Medical</td>\n",
       "      <td>4</td>\n",
       "      <td>Female</td>\n",
       "      <td>96</td>\n",
       "      <td>4</td>\n",
       "      <td>1</td>\n",
       "      <td>Laboratory Technician</td>\n",
       "      <td>4</td>\n",
       "      <td>Divorced</td>\n",
       "      <td>2115.0</td>\n",
       "      <td>7324</td>\n",
       "      <td>1</td>\n",
       "      <td>Y</td>\n",
       "      <td>Yes</td>\n",
       "      <td>13</td>\n",
       "      <td>3.0</td>\n",
       "      <td>2</td>\n",
       "      <td>80.0</td>\n",
       "      <td>2</td>\n",
       "      <td>1</td>\n",
       "      <td>3.0</td>\n",
       "      <td>2</td>\n",
       "      <td>17.0</td>\n",
       "      <td>0</td>\n",
       "      <td>0</td>\n",
       "      <td>0</td>\n",
       "    </tr>\n",
       "    <tr>\n",
       "      <th>1172</th>\n",
       "      <td>33.0</td>\n",
       "      <td>Yes</td>\n",
       "      <td>Non-Travel</td>\n",
       "      <td>249</td>\n",
       "      <td>Sales</td>\n",
       "      <td>6</td>\n",
       "      <td>4</td>\n",
       "      <td>Life Sciences</td>\n",
       "      <td>2</td>\n",
       "      <td>Female</td>\n",
       "      <td>76</td>\n",
       "      <td>1</td>\n",
       "      <td>2</td>\n",
       "      <td>Sales Executive</td>\n",
       "      <td>3</td>\n",
       "      <td>Married</td>\n",
       "      <td>5147.0</td>\n",
       "      <td>20739</td>\n",
       "      <td>4</td>\n",
       "      <td>Y</td>\n",
       "      <td>Yes</td>\n",
       "      <td>18</td>\n",
       "      <td>3.0</td>\n",
       "      <td>2</td>\n",
       "      <td>80.0</td>\n",
       "      <td>0</td>\n",
       "      <td>12</td>\n",
       "      <td>2.0</td>\n",
       "      <td>2</td>\n",
       "      <td>11.0</td>\n",
       "      <td>7</td>\n",
       "      <td>7</td>\n",
       "      <td>7</td>\n",
       "    </tr>\n",
       "    <tr>\n",
       "      <th>1173</th>\n",
       "      <td>33.0</td>\n",
       "      <td>No</td>\n",
       "      <td>NaN</td>\n",
       "      <td>583</td>\n",
       "      <td>Sales</td>\n",
       "      <td>4</td>\n",
       "      <td>1</td>\n",
       "      <td>Marketing</td>\n",
       "      <td>3</td>\n",
       "      <td>Male</td>\n",
       "      <td>87</td>\n",
       "      <td>2</td>\n",
       "      <td>2</td>\n",
       "      <td>Sales Executive</td>\n",
       "      <td>1</td>\n",
       "      <td>Married</td>\n",
       "      <td>2500.0</td>\n",
       "      <td>18154</td>\n",
       "      <td>1</td>\n",
       "      <td>NaN</td>\n",
       "      <td>No</td>\n",
       "      <td>12</td>\n",
       "      <td>NaN</td>\n",
       "      <td>1</td>\n",
       "      <td>80.0</td>\n",
       "      <td>0</td>\n",
       "      <td>5</td>\n",
       "      <td>2.0</td>\n",
       "      <td>4</td>\n",
       "      <td>3.0</td>\n",
       "      <td>2</td>\n",
       "      <td>0</td>\n",
       "      <td>3</td>\n",
       "    </tr>\n",
       "    <tr>\n",
       "      <th>1174</th>\n",
       "      <td>45.0</td>\n",
       "      <td>No</td>\n",
       "      <td>Non-Travel</td>\n",
       "      <td>1174</td>\n",
       "      <td>Sales</td>\n",
       "      <td>3</td>\n",
       "      <td>4</td>\n",
       "      <td>Marketing</td>\n",
       "      <td>1</td>\n",
       "      <td>Male</td>\n",
       "      <td>99</td>\n",
       "      <td>3</td>\n",
       "      <td>2</td>\n",
       "      <td>Sales Executive</td>\n",
       "      <td>2</td>\n",
       "      <td>Single</td>\n",
       "      <td>4385.0</td>\n",
       "      <td>20763</td>\n",
       "      <td>3</td>\n",
       "      <td>NaN</td>\n",
       "      <td>Yes</td>\n",
       "      <td>16</td>\n",
       "      <td>3.0</td>\n",
       "      <td>4</td>\n",
       "      <td>80.0</td>\n",
       "      <td>0</td>\n",
       "      <td>15</td>\n",
       "      <td>2.0</td>\n",
       "      <td>3</td>\n",
       "      <td>10.0</td>\n",
       "      <td>4</td>\n",
       "      <td>0</td>\n",
       "      <td>1</td>\n",
       "    </tr>\n",
       "    <tr>\n",
       "      <th>1175</th>\n",
       "      <td>48.0</td>\n",
       "      <td>No</td>\n",
       "      <td>Travel_Frequently</td>\n",
       "      <td>1431</td>\n",
       "      <td>Research &amp; Development</td>\n",
       "      <td>14</td>\n",
       "      <td>3</td>\n",
       "      <td>Medical</td>\n",
       "      <td>2</td>\n",
       "      <td>Female</td>\n",
       "      <td>33</td>\n",
       "      <td>3</td>\n",
       "      <td>1</td>\n",
       "      <td>Research Scientist</td>\n",
       "      <td>3</td>\n",
       "      <td>Single</td>\n",
       "      <td>17174.0</td>\n",
       "      <td>8018</td>\n",
       "      <td>1</td>\n",
       "      <td>Y</td>\n",
       "      <td>No</td>\n",
       "      <td>16</td>\n",
       "      <td>NaN</td>\n",
       "      <td>3</td>\n",
       "      <td>80.0</td>\n",
       "      <td>0</td>\n",
       "      <td>0</td>\n",
       "      <td>NaN</td>\n",
       "      <td>1</td>\n",
       "      <td>22.0</td>\n",
       "      <td>0</td>\n",
       "      <td>0</td>\n",
       "      <td>0</td>\n",
       "    </tr>\n",
       "  </tbody>\n",
       "</table>\n",
       "<p>1176 rows × 33 columns</p>\n",
       "</div>"
      ],
      "text/plain": [
       "       Age Attrition     BusinessTravel  DailyRate              Department  \\\n",
       "0     52.0        No      Travel_Rarely        593  Research & Development   \n",
       "1     36.0        No      Travel_Rarely       1218  Research & Development   \n",
       "2      NaN        No  Travel_Frequently        530                   Sales   \n",
       "3     33.0        No      Travel_Rarely        953  Research & Development   \n",
       "4      NaN        No      Travel_Rarely       1380  Research & Development   \n",
       "...    ...       ...                ...        ...                     ...   \n",
       "1171  37.0        No      Travel_Rarely       1123  Research & Development   \n",
       "1172  33.0       Yes         Non-Travel        249                   Sales   \n",
       "1173  33.0        No                NaN        583                   Sales   \n",
       "1174  45.0        No         Non-Travel       1174                   Sales   \n",
       "1175  48.0        No  Travel_Frequently       1431  Research & Development   \n",
       "\n",
       "      DistanceFromHome  Education    EducationField  EnvironmentSatisfaction  \\\n",
       "0                    9          4           Medical                        2   \n",
       "1                    1          1     Life Sciences                        2   \n",
       "2                   16          3     Life Sciences                        3   \n",
       "3                    5          4  Technical Degree                        2   \n",
       "4                    9          2     Life Sciences                        3   \n",
       "...                ...        ...               ...                      ...   \n",
       "1171                16          2           Medical                        4   \n",
       "1172                 6          4     Life Sciences                        2   \n",
       "1173                 4          1         Marketing                        3   \n",
       "1174                 3          4         Marketing                        1   \n",
       "1175                14          3           Medical                        2   \n",
       "\n",
       "      Gender  HourlyRate  JobInvolvement  JobLevel                JobRole  \\\n",
       "0       Male          88               3         3      Research Director   \n",
       "1       Male          52               3         5                Manager   \n",
       "2        NaN          36               3         2        Sales Executive   \n",
       "3       Male          65               3         1     Research Scientist   \n",
       "4     Female          75               3         1  Laboratory Technician   \n",
       "...      ...         ...             ...       ...                    ...   \n",
       "1171  Female          96               4         1  Laboratory Technician   \n",
       "1172  Female          76               1         2        Sales Executive   \n",
       "1173    Male          87               2         2        Sales Executive   \n",
       "1174    Male          99               3         2        Sales Executive   \n",
       "1175  Female          33               3         1     Research Scientist   \n",
       "\n",
       "      JobSatisfaction MaritalStatus  MonthlyIncome  MonthlyRate  \\\n",
       "0                   3        Single         8446.0        13782   \n",
       "1                   3      Divorced         4834.0         8213   \n",
       "2                   4      Divorced         4768.0        16130   \n",
       "3                   2        Single         2799.0        17674   \n",
       "4                   4        Single         7978.0         6319   \n",
       "...               ...           ...            ...          ...   \n",
       "1171                4      Divorced         2115.0         7324   \n",
       "1172                3       Married         5147.0        20739   \n",
       "1173                1       Married         2500.0        18154   \n",
       "1174                2        Single         4385.0        20763   \n",
       "1175                3        Single        17174.0         8018   \n",
       "\n",
       "      NumCompaniesWorked Over18 OverTime  PercentSalaryHike  \\\n",
       "0                      9    NaN       No                 17   \n",
       "1                      1    NaN      Yes                 14   \n",
       "2                      1      Y      Yes                 25   \n",
       "3                      2      Y       No                 14   \n",
       "4                      1    NaN       No                 12   \n",
       "...                  ...    ...      ...                ...   \n",
       "1171                   1      Y      Yes                 13   \n",
       "1172                   4      Y      Yes                 18   \n",
       "1173                   1    NaN       No                 12   \n",
       "1174                   3    NaN      Yes                 16   \n",
       "1175                   1      Y       No                 16   \n",
       "\n",
       "      PerformanceRating  RelationshipSatisfaction  StandardHours  \\\n",
       "0                   3.0                         3           80.0   \n",
       "1                   3.0                         3           80.0   \n",
       "2                   3.0                         3            NaN   \n",
       "3                   3.0                         2            NaN   \n",
       "4                   3.0                         3           80.0   \n",
       "...                 ...                       ...            ...   \n",
       "1171                3.0                         2           80.0   \n",
       "1172                3.0                         2           80.0   \n",
       "1173                NaN                         1           80.0   \n",
       "1174                3.0                         4           80.0   \n",
       "1175                NaN                         3           80.0   \n",
       "\n",
       "      StockOptionLevel  TotalWorkingYears  TrainingTimesLastYear  \\\n",
       "0                    0                 20                    2.0   \n",
       "1                    1                 21                    3.0   \n",
       "2                    1                  7                    4.0   \n",
       "3                    0                 12                    1.0   \n",
       "4                    0                  2                    NaN   \n",
       "...                ...                ...                    ...   \n",
       "1171                 2                  1                    3.0   \n",
       "1172                 0                 12                    2.0   \n",
       "1173                 0                  5                    2.0   \n",
       "1174                 0                 15                    2.0   \n",
       "1175                 0                  0                    NaN   \n",
       "\n",
       "      WorkLifeBalance  YearsAtCompany  YearsInCurrentRole  \\\n",
       "0                   2             8.0                   7   \n",
       "1                   3             1.0                   8   \n",
       "2                   3             1.0                   5   \n",
       "3                   3             3.0                   7   \n",
       "4                   3            10.0                   2   \n",
       "...               ...             ...                 ...   \n",
       "1171                2            17.0                   0   \n",
       "1172                2            11.0                   7   \n",
       "1173                4             3.0                   2   \n",
       "1174                3            10.0                   4   \n",
       "1175                1            22.0                   0   \n",
       "\n",
       "      YearsSinceLastPromotion  YearsWithCurrManager  \n",
       "0                           2                    13  \n",
       "1                           1                     6  \n",
       "2                           1                     2  \n",
       "3                           0                     7  \n",
       "4                           2                     1  \n",
       "...                       ...                   ...  \n",
       "1171                        0                     0  \n",
       "1172                        7                     7  \n",
       "1173                        0                     3  \n",
       "1174                        0                     1  \n",
       "1175                        0                     0  \n",
       "\n",
       "[1176 rows x 33 columns]"
      ]
     },
     "execution_count": 6,
     "metadata": {},
     "output_type": "execute_result"
    }
   ],
   "source": [
    "df"
   ]
  },
  {
   "cell_type": "code",
   "execution_count": 4,
   "metadata": {},
   "outputs": [],
   "source": [
    "import seaborn as sns"
   ]
  },
  {
   "cell_type": "code",
   "execution_count": 9,
   "metadata": {},
   "outputs": [
    {
     "data": {
      "text/plain": [
       "<AxesSubplot:xlabel='Department', ylabel='count'>"
      ]
     },
     "execution_count": 9,
     "metadata": {},
     "output_type": "execute_result"
    },
    {
     "data": {
      "image/png": "[encoded data removed]",
      "text/plain": [
       "<Figure size 432x288 with 1 Axes>"
      ]
     },
     "metadata": {
      "needs_background": "light"
     },
     "output_type": "display_data"
    }
   ],
   "source": [
    "sns.countplot(x = 'Department', data = df, hue= 'Attrition')"
   ]
  },
  {
   "cell_type": "code",
   "execution_count": 23,
   "metadata": {},
   "outputs": [
    {
     "data": {
      "text/html": [
       "<div>\n",
       "<style scoped>\n",
       "    .dataframe tbody tr th:only-of-type {\n",
       "        vertical-align: middle;\n",
       "    }\n",
       "\n",
       "    .dataframe tbody tr th {\n",
       "        vertical-align: top;\n",
       "    }\n",
       "\n",
       "    .dataframe thead th {\n",
       "        text-align: right;\n",
       "    }\n",
       "</style>\n",
       "<table border=\"1\" class=\"dataframe\">\n",
       "  <thead>\n",
       "    <tr style=\"text-align: right;\">\n",
       "      <th>Attrition</th>\n",
       "      <th>No</th>\n",
       "      <th>Yes</th>\n",
       "    </tr>\n",
       "    <tr>\n",
       "      <th>Department</th>\n",
       "      <th></th>\n",
       "      <th></th>\n",
       "    </tr>\n",
       "  </thead>\n",
       "  <tbody>\n",
       "    <tr>\n",
       "      <th>Human Resources</th>\n",
       "      <td>0.782609</td>\n",
       "      <td>0.217391</td>\n",
       "    </tr>\n",
       "    <tr>\n",
       "      <th>Research &amp; Development</th>\n",
       "      <td>0.856957</td>\n",
       "      <td>0.143043</td>\n",
       "    </tr>\n",
       "    <tr>\n",
       "      <th>Sales</th>\n",
       "      <td>0.800554</td>\n",
       "      <td>0.199446</td>\n",
       "    </tr>\n",
       "  </tbody>\n",
       "</table>\n",
       "</div>"
      ],
      "text/plain": [
       "Attrition                     No       Yes\n",
       "Department                                \n",
       "Human Resources         0.782609  0.217391\n",
       "Research & Development  0.856957  0.143043\n",
       "Sales                   0.800554  0.199446"
      ]
     },
     "execution_count": 23,
     "metadata": {},
     "output_type": "execute_result"
    }
   ],
   "source": [
    "x = pd.crosstab(df.Department, df.Attrition)\n",
    "x.div(x.sum(1).astype(float), axis=0)"
   ]
  },
  {
   "cell_type": "code",
   "execution_count": 25,
   "metadata": {},
   "outputs": [
    {
     "data": {
      "text/html": [
       "<div>\n",
       "<style scoped>\n",
       "    .dataframe tbody tr th:only-of-type {\n",
       "        vertical-align: middle;\n",
       "    }\n",
       "\n",
       "    .dataframe tbody tr th {\n",
       "        vertical-align: top;\n",
       "    }\n",
       "\n",
       "    .dataframe thead th {\n",
       "        text-align: right;\n",
       "    }\n",
       "</style>\n",
       "<table border=\"1\" class=\"dataframe\">\n",
       "  <thead>\n",
       "    <tr style=\"text-align: right;\">\n",
       "      <th>Attrition</th>\n",
       "      <th>No</th>\n",
       "      <th>Yes</th>\n",
       "    </tr>\n",
       "    <tr>\n",
       "      <th>JobSatisfaction</th>\n",
       "      <th></th>\n",
       "      <th></th>\n",
       "    </tr>\n",
       "  </thead>\n",
       "  <tbody>\n",
       "    <tr>\n",
       "      <th>1</th>\n",
       "      <td>0.765957</td>\n",
       "      <td>0.234043</td>\n",
       "    </tr>\n",
       "    <tr>\n",
       "      <th>2</th>\n",
       "      <td>0.842553</td>\n",
       "      <td>0.157447</td>\n",
       "    </tr>\n",
       "    <tr>\n",
       "      <th>3</th>\n",
       "      <td>0.823362</td>\n",
       "      <td>0.176638</td>\n",
       "    </tr>\n",
       "    <tr>\n",
       "      <th>4</th>\n",
       "      <td>0.892958</td>\n",
       "      <td>0.107042</td>\n",
       "    </tr>\n",
       "  </tbody>\n",
       "</table>\n",
       "</div>"
      ],
      "text/plain": [
       "Attrition              No       Yes\n",
       "JobSatisfaction                    \n",
       "1                0.765957  0.234043\n",
       "2                0.842553  0.157447\n",
       "3                0.823362  0.176638\n",
       "4                0.892958  0.107042"
      ]
     },
     "execution_count": 25,
     "metadata": {},
     "output_type": "execute_result"
    }
   ],
   "source": [
    "x = pd.crosstab(df.JobSatisfaction, df.Attrition)\n",
    "x.div(x.sum(1).astype(float), axis=0)"
   ]
  },
  {
   "cell_type": "code",
   "execution_count": 24,
   "metadata": {},
   "outputs": [
    {
     "data": {
      "text/html": [
       "<div>\n",
       "<style scoped>\n",
       "    .dataframe tbody tr th:only-of-type {\n",
       "        vertical-align: middle;\n",
       "    }\n",
       "\n",
       "    .dataframe tbody tr th {\n",
       "        vertical-align: top;\n",
       "    }\n",
       "\n",
       "    .dataframe thead th {\n",
       "        text-align: right;\n",
       "    }\n",
       "</style>\n",
       "<table border=\"1\" class=\"dataframe\">\n",
       "  <thead>\n",
       "    <tr style=\"text-align: right;\">\n",
       "      <th>Attrition</th>\n",
       "      <th>No</th>\n",
       "      <th>Yes</th>\n",
       "    </tr>\n",
       "    <tr>\n",
       "      <th>JobRole</th>\n",
       "      <th></th>\n",
       "      <th></th>\n",
       "    </tr>\n",
       "  </thead>\n",
       "  <tbody>\n",
       "    <tr>\n",
       "      <th>Healthcare Representative</th>\n",
       "      <td>0.952830</td>\n",
       "      <td>0.047170</td>\n",
       "    </tr>\n",
       "    <tr>\n",
       "      <th>Human Resources</th>\n",
       "      <td>0.756098</td>\n",
       "      <td>0.243902</td>\n",
       "    </tr>\n",
       "    <tr>\n",
       "      <th>Laboratory Technician</th>\n",
       "      <td>0.745283</td>\n",
       "      <td>0.254717</td>\n",
       "    </tr>\n",
       "    <tr>\n",
       "      <th>Manager</th>\n",
       "      <td>0.950617</td>\n",
       "      <td>0.049383</td>\n",
       "    </tr>\n",
       "    <tr>\n",
       "      <th>Manufacturing Director</th>\n",
       "      <td>0.930435</td>\n",
       "      <td>0.069565</td>\n",
       "    </tr>\n",
       "    <tr>\n",
       "      <th>Research Director</th>\n",
       "      <td>0.980392</td>\n",
       "      <td>0.019608</td>\n",
       "    </tr>\n",
       "    <tr>\n",
       "      <th>Research Scientist</th>\n",
       "      <td>0.833333</td>\n",
       "      <td>0.166667</td>\n",
       "    </tr>\n",
       "    <tr>\n",
       "      <th>Sales Executive</th>\n",
       "      <td>0.831418</td>\n",
       "      <td>0.168582</td>\n",
       "    </tr>\n",
       "    <tr>\n",
       "      <th>Sales Representative</th>\n",
       "      <td>0.623188</td>\n",
       "      <td>0.376812</td>\n",
       "    </tr>\n",
       "  </tbody>\n",
       "</table>\n",
       "</div>"
      ],
      "text/plain": [
       "Attrition                        No       Yes\n",
       "JobRole                                      \n",
       "Healthcare Representative  0.952830  0.047170\n",
       "Human Resources            0.756098  0.243902\n",
       "Laboratory Technician      0.745283  0.254717\n",
       "Manager                    0.950617  0.049383\n",
       "Manufacturing Director     0.930435  0.069565\n",
       "Research Director          0.980392  0.019608\n",
       "Research Scientist         0.833333  0.166667\n",
       "Sales Executive            0.831418  0.168582\n",
       "Sales Representative       0.623188  0.376812"
      ]
     },
     "execution_count": 24,
     "metadata": {},
     "output_type": "execute_result"
    }
   ],
   "source": [
    "x = pd.crosstab(df.JobRole, df.Attrition)\n",
    "x.div(x.sum(1).astype(float), axis=0)"
   ]
  },
  {
   "cell_type": "markdown",
   "metadata": {},
   "source": [
    "### Preprocessing"
   ]
  },
  {
   "cell_type": "code",
   "execution_count": 282,
   "metadata": {},
   "outputs": [],
   "source": [
    "#df.drop(columns = ['EducationField','JobRole','MaritalStatus'], inplace=True)"
   ]
  },
  {
   "cell_type": "code",
   "execution_count": 283,
   "metadata": {},
   "outputs": [
    {
     "data": {
      "text/plain": [
       "array(['Travel_Rarely', 'Travel_Frequently', 'Non-Travel'], dtype=object)"
      ]
     },
     "execution_count": 283,
     "metadata": {},
     "output_type": "execute_result"
    }
   ],
   "source": [
    "df.BusinessTravel.unique()"
   ]
  },
  {
   "cell_type": "code",
   "execution_count": 301,
   "metadata": {},
   "outputs": [],
   "source": [
    "#encoding\n",
    "d ={'Non-Travel':1, 'Travel_Rarely':2, 'Travel_Frequently':3}\n",
    "df.loc[:,'BusinessTravel'] = df.loc[:,'BusinessTravel'].map(d)"
   ]
  },
  {
   "cell_type": "code",
   "execution_count": 302,
   "metadata": {},
   "outputs": [
    {
     "data": {
      "text/plain": [
       "0    249\n",
       "1     45\n",
       "Name: Attrition, dtype: int64"
      ]
     },
     "execution_count": 302,
     "metadata": {},
     "output_type": "execute_result"
    }
   ],
   "source": [
    "df.Attrition.value_counts()"
   ]
  },
  {
   "cell_type": "code",
   "execution_count": 303,
   "metadata": {},
   "outputs": [
    {
     "name": "stdout",
     "output_type": "stream",
     "text": [
      "84.6938775510204 %\n"
     ]
    }
   ],
   "source": [
    "#accuracy of always saying 0:\n",
    "print((df.Attrition.value_counts()[0]/df.Attrition.value_counts().sum())*100,'%')"
   ]
  },
  {
   "cell_type": "code",
   "execution_count": null,
   "metadata": {},
   "outputs": [],
   "source": [
    "attributes = [col for col in df.columns if col != class_name]\n",
    "X = df[attributes].values\n",
    "y = df[class_name]\n",
    "\n",
    "X_train, X_test, y_train, y_test = train_test_split(X, y, test_size=0.3, random_state=100, stratify=y)"
   ]
  },
  {
   "cell_type": "markdown",
   "metadata": {},
   "source": [
    "### 1. Decision Tree"
   ]
  },
  {
   "cell_type": "code",
   "execution_count": 10,
   "metadata": {},
   "outputs": [],
   "source": [
    "from sklearn.tree import DecisionTreeClassifier\n",
    "from sklearn.ensemble import RandomForestClassifier\n",
    "from sklearn.model_selection import RandomizedSearchCV\n",
    "from sklearn.model_selection import GridSearchCV\n",
    "from sklearn.model_selection import validation_curve\n",
    "from sklearn.metrics import accuracy_score"
   ]
  },
  {
   "cell_type": "code",
   "execution_count": 11,
   "metadata": {},
   "outputs": [],
   "source": [
    "#instanciate clf\n",
    "clf = DecisionTreeClassifier(criterion='gini', max_depth=None, min_samples_split=2, min_samples_leaf=1)"
   ]
  },
  {
   "cell_type": "code",
   "execution_count": 12,
   "metadata": {},
   "outputs": [
    {
     "ename": "NameError",
     "evalue": "name 'X_train' is not defined",
     "output_type": "error",
     "traceback": [
      "\u001b[0;31m---------------------------------------------------------------------------\u001b[0m",
      "\u001b[0;31mNameError\u001b[0m                                 Traceback (most recent call last)",
      "\u001b[0;32m<ipython-input-12-02e194225244>\u001b[0m in \u001b[0;36m<module>\u001b[0;34m\u001b[0m\n\u001b[1;32m      1\u001b[0m \u001b[0;31m#induction\u001b[0m\u001b[0;34m\u001b[0m\u001b[0;34m\u001b[0m\u001b[0;34m\u001b[0m\u001b[0m\n\u001b[0;32m----> 2\u001b[0;31m \u001b[0mclf\u001b[0m \u001b[0;34m=\u001b[0m \u001b[0mclf\u001b[0m\u001b[0;34m.\u001b[0m\u001b[0mfit\u001b[0m\u001b[0;34m(\u001b[0m\u001b[0mX_train\u001b[0m\u001b[0;34m,\u001b[0m \u001b[0my_train\u001b[0m\u001b[0;34m)\u001b[0m\u001b[0;34m\u001b[0m\u001b[0;34m\u001b[0m\u001b[0m\n\u001b[0m\u001b[1;32m      3\u001b[0m \u001b[0;31m#deduction\u001b[0m\u001b[0;34m\u001b[0m\u001b[0;34m\u001b[0m\u001b[0;34m\u001b[0m\u001b[0m\n\u001b[1;32m      4\u001b[0m \u001b[0mpred_train\u001b[0m \u001b[0;34m=\u001b[0m \u001b[0mclf\u001b[0m\u001b[0;34m.\u001b[0m\u001b[0mpredict\u001b[0m\u001b[0;34m(\u001b[0m\u001b[0mX_train\u001b[0m\u001b[0;34m)\u001b[0m\u001b[0;34m\u001b[0m\u001b[0;34m\u001b[0m\u001b[0m\n\u001b[1;32m      5\u001b[0m \u001b[0mpred_validation\u001b[0m\u001b[0;34m=\u001b[0m \u001b[0mclf\u001b[0m\u001b[0;34m.\u001b[0m\u001b[0mpredict\u001b[0m\u001b[0;34m(\u001b[0m\u001b[0mX_validation\u001b[0m\u001b[0;34m)\u001b[0m\u001b[0;34m\u001b[0m\u001b[0;34m\u001b[0m\u001b[0m\n",
      "\u001b[0;31mNameError\u001b[0m: name 'X_train' is not defined"
     ]
    }
   ],
   "source": [
    "#induction\n",
    "clf = clf.fit(X_train, y_train)\n",
    "#deduction\n",
    "pred_train = clf.predict(X_train)\n",
    "pred_validation= clf.predict(X_validation)"
   ]
  },
  {
   "cell_type": "code",
   "execution_count": 24,
   "metadata": {},
   "outputs": [
    {
     "ename": "NameError",
     "evalue": "name 'pred_train' is not defined",
     "output_type": "error",
     "traceback": [
      "\u001b[0;31m---------------------------------------------------------------------------\u001b[0m",
      "\u001b[0;31mNameError\u001b[0m                                 Traceback (most recent call last)",
      "\u001b[0;32m<ipython-input-24-bc95fe5dfbc7>\u001b[0m in \u001b[0;36m<module>\u001b[0;34m\u001b[0m\n\u001b[0;32m----> 1\u001b[0;31m \u001b[0mprint\u001b[0m\u001b[0;34m(\u001b[0m\u001b[0maccuracy_score\u001b[0m\u001b[0;34m(\u001b[0m\u001b[0mpred_train\u001b[0m\u001b[0;34m,\u001b[0m\u001b[0my_train\u001b[0m\u001b[0;34m)\u001b[0m\u001b[0;34m)\u001b[0m\u001b[0;34m\u001b[0m\u001b[0;34m\u001b[0m\u001b[0m\n\u001b[0m\u001b[1;32m      2\u001b[0m \u001b[0mprint\u001b[0m\u001b[0;34m(\u001b[0m\u001b[0maccuracy_score\u001b[0m\u001b[0;34m(\u001b[0m\u001b[0mpred_validation\u001b[0m\u001b[0;34m,\u001b[0m\u001b[0my_validation\u001b[0m\u001b[0;34m)\u001b[0m\u001b[0;34m)\u001b[0m\u001b[0;34m\u001b[0m\u001b[0;34m\u001b[0m\u001b[0m\n",
      "\u001b[0;31mNameError\u001b[0m: name 'pred_train' is not defined"
     ]
    }
   ],
   "source": [
    "print(accuracy_score(pred_train,y_train))\n",
    "print(accuracy_score(pred_validation,y_validation))"
   ]
  },
  {
   "cell_type": "markdown",
   "metadata": {},
   "source": [
    "#### Feature selection for classification"
   ]
  },
  {
   "cell_type": "raw",
   "metadata": {},
   "source": [
    "We need only the features which are highly dependent on the response variable\n",
    "Selecting those input variables that have the strongest relationship with the target variable"
   ]
  },
  {
   "cell_type": "raw",
   "metadata": {},
   "source": [
    "Feature selection is primarily focused on removing non-informative or redundant predictors from the model.\n",
    "\n"
   ]
  },
  {
   "cell_type": "code",
   "execution_count": 304,
   "metadata": {},
   "outputs": [],
   "source": [
    "df_qual = df.loc[:,['BusinessTravel','EducationField','JobRole','MaritalStatus','Education','EnvironmentSatisfaction','JobInvolvement','JobLevel','JobSatisfaction','PerformanceRating','RelationshipSatisfaction','StockOptionLevel','WorkLifeBalance','Gender','OverTime']].copy()\n",
    "df_quant = [k for k in list(df) if k not in list(df_qual) and k!='Attrition']\n",
    "df_quant = df.loc[:,df_quant].copy()"
   ]
  },
  {
   "cell_type": "code",
   "execution_count": 170,
   "metadata": {},
   "outputs": [],
   "source": [
    "from sklearn.feature_selection import SelectKBest"
   ]
  },
  {
   "cell_type": "markdown",
   "metadata": {},
   "source": [
    "Part 1: quantitative (ANOVA)"
   ]
  },
  {
   "cell_type": "code",
   "execution_count": 171,
   "metadata": {},
   "outputs": [],
   "source": [
    "from sklearn.feature_selection import f_classif"
   ]
  },
  {
   "cell_type": "code",
   "execution_count": 219,
   "metadata": {},
   "outputs": [],
   "source": [
    "X = df_quant\n",
    "y = df['Attrition']"
   ]
  },
  {
   "cell_type": "code",
   "execution_count": 173,
   "metadata": {},
   "outputs": [],
   "source": [
    "# configure to select all features\n",
    "fs = SelectKBest(score_func=f_classif, k='all').fit(X, y)"
   ]
  },
  {
   "cell_type": "code",
   "execution_count": 174,
   "metadata": {},
   "outputs": [
    {
     "name": "stdout",
     "output_type": "stream",
     "text": [
      "Age 0.8165409106379956\n",
      "DistanceFromHome 5.9541540896552565\n",
      "MonthlyIncome 0.0022799744297535736\n",
      "NumCompaniesWorked 1.4990479075845466\n",
      "PercentSalaryHike 1.2310598676912936\n",
      "YearsAtCompany 0.2293848776982379\n"
     ]
    }
   ],
   "source": [
    "for i in list(df_quant):\n",
    "    print(i, fs.scores_[list(df_quant).index(i)])"
   ]
  },
  {
   "cell_type": "code",
   "execution_count": 175,
   "metadata": {},
   "outputs": [
    {
     "data": {
      "text/plain": [
       "{'DistanceFromHome': 5.9541540896552565,\n",
       " 'NumCompaniesWorked': 1.4990479075845466,\n",
       " 'PercentSalaryHike': 1.2310598676912936,\n",
       " 'Age': 0.8165409106379956,\n",
       " 'YearsAtCompany': 0.2293848776982379,\n",
       " 'MonthlyIncome': 0.0022799744297535736}"
      ]
     },
     "execution_count": 175,
     "metadata": {},
     "output_type": "execute_result"
    }
   ],
   "source": [
    "dic = {}\n",
    "for i in list(df_quant):\n",
    "    dic[i] = fs.scores_[list(df_quant).index(i)]\n",
    "dict(sorted(dic.items(), key=lambda item: item[1],reverse=True))"
   ]
  },
  {
   "cell_type": "code",
   "execution_count": 305,
   "metadata": {},
   "outputs": [],
   "source": [
    "sub1 = ['DistanceFromHome','NumCompaniesWorked','PercentSalaryHike']"
   ]
  },
  {
   "cell_type": "code",
   "execution_count": 221,
   "metadata": {},
   "outputs": [
    {
     "data": {
      "image/png": "[encoded data removed]",
      "text/plain": [
       "<Figure size 432x288 with 1 Axes>"
      ]
     },
     "metadata": {
      "needs_background": "light"
     },
     "output_type": "display_data"
    }
   ],
   "source": [
    "import seaborn as sns\n",
    "g = sns.barplot(x = list(df_quant), y = fs.scores_)\n",
    "g.set_xticklabels( labels= list(df_quant),  rotation=90)\n",
    "g.set_title('ANOVA F-test scores')\n",
    "plt.show()"
   ]
  },
  {
   "cell_type": "markdown",
   "metadata": {},
   "source": [
    "Part 2: qualitative (chi_square)"
   ]
  },
  {
   "cell_type": "code",
   "execution_count": 178,
   "metadata": {},
   "outputs": [],
   "source": [
    "from sklearn.feature_selection import chi2"
   ]
  },
  {
   "cell_type": "code",
   "execution_count": 257,
   "metadata": {},
   "outputs": [],
   "source": [
    "#onehotencoding\n",
    "df_qual = pd.get_dummies(df_qual)"
   ]
  },
  {
   "cell_type": "code",
   "execution_count": 223,
   "metadata": {},
   "outputs": [
    {
     "data": {
      "text/plain": [
       "38"
      ]
     },
     "execution_count": 223,
     "metadata": {},
     "output_type": "execute_result"
    }
   ],
   "source": [
    "len(list(df_qual))+len(list(df_quant))"
   ]
  },
  {
   "cell_type": "code",
   "execution_count": 224,
   "metadata": {},
   "outputs": [],
   "source": [
    "X = df_qual\n",
    "y = df['Attrition']"
   ]
  },
  {
   "cell_type": "code",
   "execution_count": 182,
   "metadata": {},
   "outputs": [],
   "source": [
    "fc = SelectKBest(chi2, k='all').fit(X, y)"
   ]
  },
  {
   "cell_type": "code",
   "execution_count": 183,
   "metadata": {},
   "outputs": [
    {
     "data": {
      "text/plain": [
       "{'OverTime': 49.51696673401648,\n",
       " 'MaritalStatus_Single': 25.420055085015612,\n",
       " 'JobRole_Sales Representative': 23.033050547896792,\n",
       " 'StockOptionLevel': 22.636533063213356,\n",
       " 'JobLevel': 19.74944847471192,\n",
       " 'JobRole_Laboratory Technician': 12.97888863322596,\n",
       " 'JobRole_Healthcare Representative': 10.458151173492865}"
      ]
     },
     "execution_count": 183,
     "metadata": {},
     "output_type": "execute_result"
    }
   ],
   "source": [
    "dic = {}\n",
    "for i in list(df_qual):\n",
    "    dic[i] = fc.scores_[list(df_qual).index(i)]\n",
    "    #print(i,fc.scores_[list(df_qual).index(i)])\n",
    "dict(sorted(dic.items(), key=lambda item: item[1],reverse=True)[:7])"
   ]
  },
  {
   "cell_type": "code",
   "execution_count": 288,
   "metadata": {},
   "outputs": [
    {
     "data": {
      "text/plain": [
       "['OverTime',\n",
       " 'MaritalStatus_Single',\n",
       " 'JobRole_Sales Representative',\n",
       " 'StockOptionLevel',\n",
       " 'JobLevel',\n",
       " 'JobRole_Laboratory Technician',\n",
       " 'JobRole_Healthcare Representative']"
      ]
     },
     "execution_count": 288,
     "metadata": {},
     "output_type": "execute_result"
    }
   ],
   "source": [
    "sub2 = list(dict(sorted(dic.items(), key=lambda item: item[1],reverse=True)[:7]).keys())\n",
    "sub2"
   ]
  },
  {
   "cell_type": "code",
   "execution_count": 226,
   "metadata": {},
   "outputs": [
    {
     "data": {
      "image/png": "[encoded data removed]",
      "text/plain": [
       "<Figure size 432x288 with 1 Axes>"
      ]
     },
     "metadata": {
      "needs_background": "light"
     },
     "output_type": "display_data"
    }
   ],
   "source": [
    "g = sns.barplot(x = list(df_qual), y = fc.scores_)\n",
    "g.set_xticklabels(labels= list(df_qual),  rotation=90)\n",
    "g.set_title('Chi_Square F-test scores')\n",
    "plt.show()"
   ]
  },
  {
   "cell_type": "code",
   "execution_count": 227,
   "metadata": {},
   "outputs": [
    {
     "data": {
      "image/png": "[encoded data removed]",
      "text/plain": [
       "<Figure size 1080x288 with 2 Axes>"
      ]
     },
     "metadata": {
      "needs_background": "light"
     },
     "output_type": "display_data"
    }
   ],
   "source": [
    "fig, ax = plt.subplots(1,2, figsize =(15,4))\n",
    "plt.sca(ax[0])\n",
    "g = sns.barplot(x = list(df_quant), y = fs.scores_)\n",
    "g.set_xticklabels( labels= list(df_quant),  rotation=90)\n",
    "g.set_title('ANOVA F-test values')\n",
    "plt.sca(ax[1])\n",
    "g = sns.barplot(x = list(df_qual), y = fc.scores_)\n",
    "g.set_xticklabels(labels= list(df_qual),  rotation=90)\n",
    "g.set_title('Chi_Squared values')\n",
    "plt.show()"
   ]
  },
  {
   "cell_type": "markdown",
   "metadata": {},
   "source": [
    "#### Hyper-parameter tuning"
   ]
  },
  {
   "cell_type": "code",
   "execution_count": 306,
   "metadata": {},
   "outputs": [
    {
     "data": {
      "text/html": [
       "<div>\n",
       "<style scoped>\n",
       "    .dataframe tbody tr th:only-of-type {\n",
       "        vertical-align: middle;\n",
       "    }\n",
       "\n",
       "    .dataframe tbody tr th {\n",
       "        vertical-align: top;\n",
       "    }\n",
       "\n",
       "    .dataframe thead th {\n",
       "        text-align: right;\n",
       "    }\n",
       "</style>\n",
       "<table border=\"1\" class=\"dataframe\">\n",
       "  <thead>\n",
       "    <tr style=\"text-align: right;\">\n",
       "      <th></th>\n",
       "      <th>Age</th>\n",
       "      <th>DistanceFromHome</th>\n",
       "      <th>MonthlyIncome</th>\n",
       "      <th>NumCompaniesWorked</th>\n",
       "      <th>PercentSalaryHike</th>\n",
       "      <th>YearsAtCompany</th>\n",
       "      <th>BusinessTravel</th>\n",
       "      <th>EducationField</th>\n",
       "      <th>JobRole</th>\n",
       "      <th>MaritalStatus</th>\n",
       "      <th>Education</th>\n",
       "      <th>EnvironmentSatisfaction</th>\n",
       "      <th>JobInvolvement</th>\n",
       "      <th>JobLevel</th>\n",
       "      <th>JobSatisfaction</th>\n",
       "      <th>PerformanceRating</th>\n",
       "      <th>RelationshipSatisfaction</th>\n",
       "      <th>StockOptionLevel</th>\n",
       "      <th>WorkLifeBalance</th>\n",
       "      <th>Gender</th>\n",
       "      <th>OverTime</th>\n",
       "      <th>Attrition</th>\n",
       "    </tr>\n",
       "  </thead>\n",
       "  <tbody>\n",
       "    <tr>\n",
       "      <th>0</th>\n",
       "      <td>27.0</td>\n",
       "      <td>2</td>\n",
       "      <td>4298.0</td>\n",
       "      <td>6</td>\n",
       "      <td>14</td>\n",
       "      <td>2.0</td>\n",
       "      <td>3</td>\n",
       "      <td>Medical</td>\n",
       "      <td>Sales Executive</td>\n",
       "      <td>Divorced</td>\n",
       "      <td>2</td>\n",
       "      <td>1</td>\n",
       "      <td>1</td>\n",
       "      <td>2</td>\n",
       "      <td>4</td>\n",
       "      <td>3.0</td>\n",
       "      <td>4</td>\n",
       "      <td>2</td>\n",
       "      <td>2</td>\n",
       "      <td>1</td>\n",
       "      <td>1</td>\n",
       "      <td>1</td>\n",
       "    </tr>\n",
       "    <tr>\n",
       "      <th>1</th>\n",
       "      <td>30.0</td>\n",
       "      <td>3</td>\n",
       "      <td>5304.0</td>\n",
       "      <td>2</td>\n",
       "      <td>13</td>\n",
       "      <td>8.0</td>\n",
       "      <td>2</td>\n",
       "      <td>Marketing</td>\n",
       "      <td>Sales Executive</td>\n",
       "      <td>Married</td>\n",
       "      <td>4</td>\n",
       "      <td>1</td>\n",
       "      <td>3</td>\n",
       "      <td>3</td>\n",
       "      <td>3</td>\n",
       "      <td>4.0</td>\n",
       "      <td>1</td>\n",
       "      <td>3</td>\n",
       "      <td>3</td>\n",
       "      <td>1</td>\n",
       "      <td>0</td>\n",
       "      <td>1</td>\n",
       "    </tr>\n",
       "    <tr>\n",
       "      <th>2</th>\n",
       "      <td>56.0</td>\n",
       "      <td>1</td>\n",
       "      <td>6306.0</td>\n",
       "      <td>2</td>\n",
       "      <td>11</td>\n",
       "      <td>13.0</td>\n",
       "      <td>1</td>\n",
       "      <td>Technical Degree</td>\n",
       "      <td>Manufacturing Director</td>\n",
       "      <td>Divorced</td>\n",
       "      <td>4</td>\n",
       "      <td>4</td>\n",
       "      <td>3</td>\n",
       "      <td>2</td>\n",
       "      <td>4</td>\n",
       "      <td>4.0</td>\n",
       "      <td>3</td>\n",
       "      <td>1</td>\n",
       "      <td>2</td>\n",
       "      <td>1</td>\n",
       "      <td>0</td>\n",
       "      <td>0</td>\n",
       "    </tr>\n",
       "    <tr>\n",
       "      <th>3</th>\n",
       "      <td>41.0</td>\n",
       "      <td>3</td>\n",
       "      <td>6430.0</td>\n",
       "      <td>0</td>\n",
       "      <td>17</td>\n",
       "      <td>3.0</td>\n",
       "      <td>3</td>\n",
       "      <td>Human Resources</td>\n",
       "      <td>Human Resources</td>\n",
       "      <td>Married</td>\n",
       "      <td>5</td>\n",
       "      <td>4</td>\n",
       "      <td>4</td>\n",
       "      <td>1</td>\n",
       "      <td>1</td>\n",
       "      <td>3.0</td>\n",
       "      <td>3</td>\n",
       "      <td>0</td>\n",
       "      <td>3</td>\n",
       "      <td>1</td>\n",
       "      <td>0</td>\n",
       "      <td>1</td>\n",
       "    </tr>\n",
       "    <tr>\n",
       "      <th>4</th>\n",
       "      <td>42.0</td>\n",
       "      <td>1</td>\n",
       "      <td>2766.0</td>\n",
       "      <td>3</td>\n",
       "      <td>22</td>\n",
       "      <td>5.0</td>\n",
       "      <td>1</td>\n",
       "      <td>Life Sciences</td>\n",
       "      <td>Research Scientist</td>\n",
       "      <td>Married</td>\n",
       "      <td>3</td>\n",
       "      <td>4</td>\n",
       "      <td>3</td>\n",
       "      <td>1</td>\n",
       "      <td>4</td>\n",
       "      <td>4.0</td>\n",
       "      <td>1</td>\n",
       "      <td>1</td>\n",
       "      <td>3</td>\n",
       "      <td>1</td>\n",
       "      <td>0</td>\n",
       "      <td>0</td>\n",
       "    </tr>\n",
       "    <tr>\n",
       "      <th>...</th>\n",
       "      <td>...</td>\n",
       "      <td>...</td>\n",
       "      <td>...</td>\n",
       "      <td>...</td>\n",
       "      <td>...</td>\n",
       "      <td>...</td>\n",
       "      <td>...</td>\n",
       "      <td>...</td>\n",
       "      <td>...</td>\n",
       "      <td>...</td>\n",
       "      <td>...</td>\n",
       "      <td>...</td>\n",
       "      <td>...</td>\n",
       "      <td>...</td>\n",
       "      <td>...</td>\n",
       "      <td>...</td>\n",
       "      <td>...</td>\n",
       "      <td>...</td>\n",
       "      <td>...</td>\n",
       "      <td>...</td>\n",
       "      <td>...</td>\n",
       "      <td>...</td>\n",
       "    </tr>\n",
       "    <tr>\n",
       "      <th>289</th>\n",
       "      <td>38.0</td>\n",
       "      <td>1</td>\n",
       "      <td>8740.0</td>\n",
       "      <td>1</td>\n",
       "      <td>13</td>\n",
       "      <td>8.0</td>\n",
       "      <td>2</td>\n",
       "      <td>Marketing</td>\n",
       "      <td>Sales Representative</td>\n",
       "      <td>Married</td>\n",
       "      <td>3</td>\n",
       "      <td>4</td>\n",
       "      <td>3</td>\n",
       "      <td>1</td>\n",
       "      <td>4</td>\n",
       "      <td>3.0</td>\n",
       "      <td>1</td>\n",
       "      <td>0</td>\n",
       "      <td>3</td>\n",
       "      <td>1</td>\n",
       "      <td>0</td>\n",
       "      <td>0</td>\n",
       "    </tr>\n",
       "    <tr>\n",
       "      <th>290</th>\n",
       "      <td>44.0</td>\n",
       "      <td>1</td>\n",
       "      <td>6465.0</td>\n",
       "      <td>5</td>\n",
       "      <td>17</td>\n",
       "      <td>4.0</td>\n",
       "      <td>2</td>\n",
       "      <td>Life Sciences</td>\n",
       "      <td>Sales Executive</td>\n",
       "      <td>Married</td>\n",
       "      <td>2</td>\n",
       "      <td>3</td>\n",
       "      <td>3</td>\n",
       "      <td>2</td>\n",
       "      <td>1</td>\n",
       "      <td>NaN</td>\n",
       "      <td>2</td>\n",
       "      <td>1</td>\n",
       "      <td>3</td>\n",
       "      <td>1</td>\n",
       "      <td>0</td>\n",
       "      <td>0</td>\n",
       "    </tr>\n",
       "    <tr>\n",
       "      <th>291</th>\n",
       "      <td>30.0</td>\n",
       "      <td>4</td>\n",
       "      <td>2476.0</td>\n",
       "      <td>2</td>\n",
       "      <td>20</td>\n",
       "      <td>1.0</td>\n",
       "      <td>2</td>\n",
       "      <td>Technical Degree</td>\n",
       "      <td>Manufacturing Director</td>\n",
       "      <td>Single</td>\n",
       "      <td>1</td>\n",
       "      <td>4</td>\n",
       "      <td>3</td>\n",
       "      <td>2</td>\n",
       "      <td>4</td>\n",
       "      <td>3.0</td>\n",
       "      <td>4</td>\n",
       "      <td>0</td>\n",
       "      <td>2</td>\n",
       "      <td>1</td>\n",
       "      <td>0</td>\n",
       "      <td>0</td>\n",
       "    </tr>\n",
       "    <tr>\n",
       "      <th>292</th>\n",
       "      <td>36.0</td>\n",
       "      <td>4</td>\n",
       "      <td>2088.0</td>\n",
       "      <td>1</td>\n",
       "      <td>14</td>\n",
       "      <td>8.0</td>\n",
       "      <td>3</td>\n",
       "      <td>Other</td>\n",
       "      <td>Research Scientist</td>\n",
       "      <td>Married</td>\n",
       "      <td>2</td>\n",
       "      <td>2</td>\n",
       "      <td>2</td>\n",
       "      <td>1</td>\n",
       "      <td>3</td>\n",
       "      <td>3.0</td>\n",
       "      <td>2</td>\n",
       "      <td>0</td>\n",
       "      <td>2</td>\n",
       "      <td>1</td>\n",
       "      <td>1</td>\n",
       "      <td>0</td>\n",
       "    </tr>\n",
       "    <tr>\n",
       "      <th>293</th>\n",
       "      <td>24.0</td>\n",
       "      <td>4</td>\n",
       "      <td>4260.0</td>\n",
       "      <td>0</td>\n",
       "      <td>23</td>\n",
       "      <td>5.0</td>\n",
       "      <td>2</td>\n",
       "      <td>Life Sciences</td>\n",
       "      <td>Manufacturing Director</td>\n",
       "      <td>Married</td>\n",
       "      <td>4</td>\n",
       "      <td>1</td>\n",
       "      <td>2</td>\n",
       "      <td>4</td>\n",
       "      <td>2</td>\n",
       "      <td>3.0</td>\n",
       "      <td>3</td>\n",
       "      <td>1</td>\n",
       "      <td>3</td>\n",
       "      <td>0</td>\n",
       "      <td>0</td>\n",
       "      <td>0</td>\n",
       "    </tr>\n",
       "  </tbody>\n",
       "</table>\n",
       "<p>294 rows × 22 columns</p>\n",
       "</div>"
      ],
      "text/plain": [
       "      Age  DistanceFromHome  MonthlyIncome  NumCompaniesWorked  \\\n",
       "0    27.0                 2         4298.0                   6   \n",
       "1    30.0                 3         5304.0                   2   \n",
       "2    56.0                 1         6306.0                   2   \n",
       "3    41.0                 3         6430.0                   0   \n",
       "4    42.0                 1         2766.0                   3   \n",
       "..    ...               ...            ...                 ...   \n",
       "289  38.0                 1         8740.0                   1   \n",
       "290  44.0                 1         6465.0                   5   \n",
       "291  30.0                 4         2476.0                   2   \n",
       "292  36.0                 4         2088.0                   1   \n",
       "293  24.0                 4         4260.0                   0   \n",
       "\n",
       "     PercentSalaryHike  YearsAtCompany  BusinessTravel    EducationField  \\\n",
       "0                   14             2.0               3           Medical   \n",
       "1                   13             8.0               2         Marketing   \n",
       "2                   11            13.0               1  Technical Degree   \n",
       "3                   17             3.0               3   Human Resources   \n",
       "4                   22             5.0               1     Life Sciences   \n",
       "..                 ...             ...             ...               ...   \n",
       "289                 13             8.0               2         Marketing   \n",
       "290                 17             4.0               2     Life Sciences   \n",
       "291                 20             1.0               2  Technical Degree   \n",
       "292                 14             8.0               3             Other   \n",
       "293                 23             5.0               2     Life Sciences   \n",
       "\n",
       "                    JobRole MaritalStatus  Education  EnvironmentSatisfaction  \\\n",
       "0           Sales Executive      Divorced          2                        1   \n",
       "1           Sales Executive       Married          4                        1   \n",
       "2    Manufacturing Director      Divorced          4                        4   \n",
       "3           Human Resources       Married          5                        4   \n",
       "4        Research Scientist       Married          3                        4   \n",
       "..                      ...           ...        ...                      ...   \n",
       "289    Sales Representative       Married          3                        4   \n",
       "290         Sales Executive       Married          2                        3   \n",
       "291  Manufacturing Director        Single          1                        4   \n",
       "292      Research Scientist       Married          2                        2   \n",
       "293  Manufacturing Director       Married          4                        1   \n",
       "\n",
       "     JobInvolvement  JobLevel  JobSatisfaction  PerformanceRating  \\\n",
       "0                 1         2                4                3.0   \n",
       "1                 3         3                3                4.0   \n",
       "2                 3         2                4                4.0   \n",
       "3                 4         1                1                3.0   \n",
       "4                 3         1                4                4.0   \n",
       "..              ...       ...              ...                ...   \n",
       "289               3         1                4                3.0   \n",
       "290               3         2                1                NaN   \n",
       "291               3         2                4                3.0   \n",
       "292               2         1                3                3.0   \n",
       "293               2         4                2                3.0   \n",
       "\n",
       "     RelationshipSatisfaction  StockOptionLevel  WorkLifeBalance  Gender  \\\n",
       "0                           4                 2                2       1   \n",
       "1                           1                 3                3       1   \n",
       "2                           3                 1                2       1   \n",
       "3                           3                 0                3       1   \n",
       "4                           1                 1                3       1   \n",
       "..                        ...               ...              ...     ...   \n",
       "289                         1                 0                3       1   \n",
       "290                         2                 1                3       1   \n",
       "291                         4                 0                2       1   \n",
       "292                         2                 0                2       1   \n",
       "293                         3                 1                3       0   \n",
       "\n",
       "     OverTime  Attrition  \n",
       "0           1          1  \n",
       "1           0          1  \n",
       "2           0          0  \n",
       "3           0          1  \n",
       "4           0          0  \n",
       "..        ...        ...  \n",
       "289         0          0  \n",
       "290         0          0  \n",
       "291         0          0  \n",
       "292         1          0  \n",
       "293         0          0  \n",
       "\n",
       "[294 rows x 22 columns]"
      ]
     },
     "execution_count": 306,
     "metadata": {},
     "output_type": "execute_result"
    }
   ],
   "source": [
    "dfc = pd.concat([df_quant, df_qual, df['Attrition']], axis=1)\n",
    "dfc"
   ]
  },
  {
   "cell_type": "code",
   "execution_count": 229,
   "metadata": {},
   "outputs": [],
   "source": [
    "####split1\n",
    "attributes = [col for col in dfc.columns if col != 'Attrition']\n",
    "X = dfc[attributes].values\n",
    "y = dfc['Attrition']\n",
    "\n",
    "X_train, X_validation, y_train, y_validation = train_test_split(X, y, test_size=0.3, random_state=1, stratify=y)"
   ]
  },
  {
   "cell_type": "code",
   "execution_count": 45,
   "metadata": {
    "scrolled": true
   },
   "outputs": [
    {
     "data": {
      "text/plain": [
       "\"param_range = [2] + list(np.arange(2, 50,10))\\nparam = 'min_samples_split'\\ntrain_scores, test_scores = validation_curve(\\n                                DecisionTreeClassifier(),\\n                                X , y , \\n                                param_name = param, \\n                                param_range = param_range, cv = 3)\""
      ]
     },
     "execution_count": 45,
     "metadata": {},
     "output_type": "execute_result"
    }
   ],
   "source": [
    "'''param_range = [2] + list(np.arange(2, 50,10))\n",
    "param = 'min_samples_split'\n",
    "train_scores, test_scores = validation_curve(\n",
    "                                DecisionTreeClassifier(),\n",
    "                                X , y , \n",
    "                                param_name = param, \n",
    "                                param_range = param_range, cv = 3)'''"
   ]
  },
  {
   "cell_type": "code",
   "execution_count": 46,
   "metadata": {},
   "outputs": [
    {
     "data": {
      "text/plain": [
       "'train_means = np.mean(train_scores,axis=1)\\ntest_means = np.mean(test_scores,axis=1)\\n\\nplt.plot(param_range, train_means, label=\"Training score\", color=\"orange\")\\nplt.plot(param_range, test_means, label=\"Cross-validation score\", color=\\'xkcd:lightish blue\\')\\nplt.title(\"Validation Curve With Classification Tree\")\\nplt.xlabel(param)\\nplt.ylabel(\"Accuracy Score\")\\nplt.legend(loc=\"best\")\\nplt.show()'"
      ]
     },
     "execution_count": 46,
     "metadata": {},
     "output_type": "execute_result"
    }
   ],
   "source": [
    "'''train_means = np.mean(train_scores,axis=1)\n",
    "test_means = np.mean(test_scores,axis=1)\n",
    "\n",
    "plt.plot(param_range, train_means, label=\"Training score\", color=\"orange\")\n",
    "plt.plot(param_range, test_means, label=\"Cross-validation score\", color='xkcd:lightish blue')\n",
    "plt.title(\"Validation Curve With Classification Tree\")\n",
    "plt.xlabel(param)\n",
    "plt.ylabel(\"Accuracy Score\")\n",
    "plt.legend(loc=\"best\")\n",
    "plt.show()'''"
   ]
  },
  {
   "cell_type": "code",
   "execution_count": 47,
   "metadata": {},
   "outputs": [],
   "source": [
    "def plot_validation_curve(classifier, parameter, param_range):\n",
    "    train_scores, test_scores = validation_curve(\n",
    "                                classifier,\n",
    "                                X , y , \n",
    "                                param_name = parameter, \n",
    "                                param_range = param_range, cv = 3)\n",
    "    train_means = np.mean(train_scores,axis=1)\n",
    "    test_means = np.mean(test_scores,axis=1)\n",
    "    plt.plot(param_range, train_means, label=\"Training score\", color=\"orange\")\n",
    "    plt.plot(param_range, test_means, label=\"Cross-validation score\", color='xkcd:lightish blue')\n",
    "    plt.title(\"Validation Curve With Classification Tree\")\n",
    "    plt.xlabel(parameter)\n",
    "    plt.ylabel(\"Accuracy Score\")\n",
    "    plt.legend(loc=\"best\")\n",
    "    plt.show()"
   ]
  },
  {
   "cell_type": "code",
   "execution_count": 48,
   "metadata": {},
   "outputs": [
    {
     "data": {
      "image/png": "[encoded data removed]",
      "text/plain": [
       "<Figure size 432x288 with 1 Axes>"
      ]
     },
     "metadata": {
      "needs_background": "light"
     },
     "output_type": "display_data"
    }
   ],
   "source": [
    "plot_validation_curve(DecisionTreeClassifier(),'max_depth',([2] + list(np.arange(2, 100,10))))"
   ]
  },
  {
   "cell_type": "code",
   "execution_count": 49,
   "metadata": {},
   "outputs": [
    {
     "data": {
      "image/png": "[encoded data removed]",
      "text/plain": [
       "<Figure size 432x288 with 1 Axes>"
      ]
     },
     "metadata": {
      "needs_background": "light"
     },
     "output_type": "display_data"
    }
   ],
   "source": [
    "plot_validation_curve(DecisionTreeClassifier(),'min_samples_split',([2] + list(np.arange(2, 100,10))))"
   ]
  },
  {
   "cell_type": "code",
   "execution_count": 50,
   "metadata": {},
   "outputs": [
    {
     "data": {
      "image/png": "[encoded data removed]",
      "text/plain": [
       "<Figure size 432x288 with 1 Axes>"
      ]
     },
     "metadata": {
      "needs_background": "light"
     },
     "output_type": "display_data"
    }
   ],
   "source": [
    "plot_validation_curve(DecisionTreeClassifier(),'min_samples_leaf',([1] + list(np.arange(2, 100,10))))"
   ]
  },
  {
   "cell_type": "code",
   "execution_count": null,
   "metadata": {},
   "outputs": [],
   "source": [
    "clf = DecisionTreeClassifier(criterion = 'gini',max_depth=None,min_samples_split=2,min_samples_leaf=1)"
   ]
  },
  {
   "cell_type": "code",
   "execution_count": 51,
   "metadata": {},
   "outputs": [],
   "source": [
    "#parameter tuning\n",
    "def report(results, n_top=3):\n",
    "    for i in range(1, n_top + 1):\n",
    "        candidates = np.flatnonzero(results['rank_test_score'] == i)\n",
    "        for candidate in candidates:\n",
    "            print(\"Model with rank: {0}\".format(i))\n",
    "            print(\"Mean validation score: {0:.3f} (std: {1:.3f})\".format(\n",
    "                  results['mean_test_score'][candidate],\n",
    "                  results['std_test_score'][candidate]))\n",
    "            print(\"Parameters: {0}\".format(results['params'][candidate]))\n",
    "            print(\"\")"
   ]
  },
  {
   "cell_type": "code",
   "execution_count": null,
   "metadata": {},
   "outputs": [],
   "source": [
    "shared_dic={}\n",
    "param_list_0 = {'max_depth': [None, 5, 10],\n",
    "                  'min_samples_split': [round((len(X)*0.01)), 2*round((len(X)*0.01))],\n",
    "                  'min_samples_leaf': [round((len(X)*0.01)), 2*round((len(X)*0.01))]}\n",
    "grid_search = GridSearchCV(clf, param_grid=param_list_0, n_jobs=3, pre_dispatch='3*n_jobs')\n",
    "grid_search.fit(X, y)\n",
    "results = grid_search.cv_results_\n",
    "candidates = np.flatnonzero(results['rank_test_score'] ==1)\n",
    "shared_dic[i] = results['mean_test_score'][candidates[0]].round(3)\n",
    "shared_dic"
   ]
  },
  {
   "cell_type": "code",
   "execution_count": null,
   "metadata": {},
   "outputs": [],
   "source": [
    "results['mean_test_score'][candidates[0]].round(3)"
   ]
  },
  {
   "cell_type": "code",
   "execution_count": null,
   "metadata": {},
   "outputs": [],
   "source": [
    "%%time\n",
    "#GridSearchCV\n",
    "param_list = {'max_depth': [None] + list(np.arange(2, 10)),\n",
    "              'min_samples_split': [2]+list(np.arange(5, 30, 5)),\n",
    "              'min_samples_leaf': [1]+list(np.arange(5, 30, 5)),}\n",
    "grid_search = GridSearchCV(clf, param_grid=param_list, n_jobs=2, pre_dispatch='2*n_jobs')\n",
    "grid_search.fit(X, y)\n",
    "grid_search.best_estimator_"
   ]
  },
  {
   "cell_type": "code",
   "execution_count": null,
   "metadata": {},
   "outputs": [],
   "source": [
    "round((len(X)*0.01))"
   ]
  },
  {
   "cell_type": "code",
   "execution_count": 59,
   "metadata": {},
   "outputs": [
    {
     "name": "stdout",
     "output_type": "stream",
     "text": [
      "CPU times: user 470 ms, sys: 150 ms, total: 620 ms\n",
      "Wall time: 7.83 s\n"
     ]
    },
    {
     "data": {
      "text/plain": [
       "DecisionTreeClassifier(max_depth=5, min_samples_leaf=12, min_samples_split=12)"
      ]
     },
     "execution_count": 59,
     "metadata": {},
     "output_type": "execute_result"
    }
   ],
   "source": [
    "%%time\n",
    "#GridSearchCV\n",
    "param_list_0 = {'max_depth': [None, 5, 10],\n",
    "              'min_samples_split': [round((len(X)*0.01)), 2*round((len(X)*0.01))],\n",
    "              'min_samples_leaf': [round((len(X)*0.01)), 2*round((len(X)*0.01))]}\n",
    "grid_search = GridSearchCV(clf, param_grid=param_list_0, n_jobs=3, pre_dispatch='3*n_jobs')\n",
    "grid_search.fit(X, y)\n",
    "grid_search.best_estimator_"
   ]
  },
  {
   "cell_type": "code",
   "execution_count": 62,
   "metadata": {},
   "outputs": [
    {
     "name": "stdout",
     "output_type": "stream",
     "text": [
      "Model with rank: 1\n",
      "Mean validation score: 0.851 (std: 0.013)\n",
      "Parameters: {'max_depth': 5, 'min_samples_leaf': 12, 'min_samples_split': 12}\n",
      "\n",
      "Model with rank: 1\n",
      "Mean validation score: 0.851 (std: 0.013)\n",
      "Parameters: {'max_depth': 5, 'min_samples_leaf': 12, 'min_samples_split': 24}\n",
      "\n"
     ]
    }
   ],
   "source": [
    "report(grid_search.cv_results_, n_top=1)\n"
   ]
  },
  {
   "cell_type": "code",
   "execution_count": null,
   "metadata": {},
   "outputs": [],
   "source": [
    "#RandomizedSearchCV\n",
    "param_list = {'max_depth': [None] + list(np.arange(10, 20)),\n",
    "              'min_samples_split': [2]+list(np.arange(5, 50, 5)),\n",
    "              'min_samples_leaf': [1]+list(np.arange(5, 50, 5)),\n",
    "             }\n",
    "random_search = RandomizedSearchCV(clf, param_distributions=param_list, n_iter=100)\n",
    "rs = random_search.fit(X, y)\n",
    "random_search.best_estimator_"
   ]
  },
  {
   "cell_type": "code",
   "execution_count": null,
   "metadata": {},
   "outputs": [],
   "source": [
    "report(random_search.cv_results_, n_top=2)"
   ]
  },
  {
   "cell_type": "code",
   "execution_count": 230,
   "metadata": {},
   "outputs": [
    {
     "ename": "ValueError",
     "evalue": "Input contains NaN, infinity or a value too large for dtype('float32').",
     "output_type": "error",
     "traceback": [
      "\u001b[0;31m---------------------------------------------------------------------------\u001b[0m",
      "\u001b[0;31mValueError\u001b[0m                                Traceback (most recent call last)",
      "\u001b[0;32m<ipython-input-230-765e3f1336b5>\u001b[0m in \u001b[0;36m<module>\u001b[0;34m\u001b[0m\n\u001b[1;32m      1\u001b[0m \u001b[0mclf\u001b[0m \u001b[0;34m=\u001b[0m \u001b[0mDecisionTreeClassifier\u001b[0m\u001b[0;34m(\u001b[0m\u001b[0mcriterion\u001b[0m\u001b[0;34m=\u001b[0m\u001b[0;34m'gini'\u001b[0m\u001b[0;34m,\u001b[0m \u001b[0mmax_depth\u001b[0m\u001b[0;34m=\u001b[0m\u001b[0;36m2\u001b[0m\u001b[0;34m,\u001b[0m \u001b[0mmin_samples_split\u001b[0m\u001b[0;34m=\u001b[0m\u001b[0;36m2\u001b[0m\u001b[0;34m,\u001b[0m \u001b[0mmin_samples_leaf\u001b[0m\u001b[0;34m=\u001b[0m\u001b[0;36m1\u001b[0m\u001b[0;34m)\u001b[0m\u001b[0;34m\u001b[0m\u001b[0;34m\u001b[0m\u001b[0m\n\u001b[0;32m----> 2\u001b[0;31m \u001b[0mclf\u001b[0m \u001b[0;34m=\u001b[0m \u001b[0mclf\u001b[0m\u001b[0;34m.\u001b[0m\u001b[0mfit\u001b[0m\u001b[0;34m(\u001b[0m\u001b[0mX_train\u001b[0m\u001b[0;34m,\u001b[0m \u001b[0my_train\u001b[0m\u001b[0;34m)\u001b[0m\u001b[0;34m\u001b[0m\u001b[0;34m\u001b[0m\u001b[0m\n\u001b[0m",
      "\u001b[0;32m/opt/anaconda3/lib/python3.7/site-packages/sklearn/tree/_classes.py\u001b[0m in \u001b[0;36mfit\u001b[0;34m(self, X, y, sample_weight, check_input, X_idx_sorted)\u001b[0m\n\u001b[1;32m    892\u001b[0m             \u001b[0msample_weight\u001b[0m\u001b[0;34m=\u001b[0m\u001b[0msample_weight\u001b[0m\u001b[0;34m,\u001b[0m\u001b[0;34m\u001b[0m\u001b[0;34m\u001b[0m\u001b[0m\n\u001b[1;32m    893\u001b[0m             \u001b[0mcheck_input\u001b[0m\u001b[0;34m=\u001b[0m\u001b[0mcheck_input\u001b[0m\u001b[0;34m,\u001b[0m\u001b[0;34m\u001b[0m\u001b[0;34m\u001b[0m\u001b[0m\n\u001b[0;32m--> 894\u001b[0;31m             X_idx_sorted=X_idx_sorted)\n\u001b[0m\u001b[1;32m    895\u001b[0m         \u001b[0;32mreturn\u001b[0m \u001b[0mself\u001b[0m\u001b[0;34m\u001b[0m\u001b[0;34m\u001b[0m\u001b[0m\n\u001b[1;32m    896\u001b[0m \u001b[0;34m\u001b[0m\u001b[0m\n",
      "\u001b[0;32m/opt/anaconda3/lib/python3.7/site-packages/sklearn/tree/_classes.py\u001b[0m in \u001b[0;36mfit\u001b[0;34m(self, X, y, sample_weight, check_input, X_idx_sorted)\u001b[0m\n\u001b[1;32m    156\u001b[0m             X, y = self._validate_data(X, y,\n\u001b[1;32m    157\u001b[0m                                        validate_separately=(check_X_params,\n\u001b[0;32m--> 158\u001b[0;31m                                                             check_y_params))\n\u001b[0m\u001b[1;32m    159\u001b[0m             \u001b[0;32mif\u001b[0m \u001b[0missparse\u001b[0m\u001b[0;34m(\u001b[0m\u001b[0mX\u001b[0m\u001b[0;34m)\u001b[0m\u001b[0;34m:\u001b[0m\u001b[0;34m\u001b[0m\u001b[0;34m\u001b[0m\u001b[0m\n\u001b[1;32m    160\u001b[0m                 \u001b[0mX\u001b[0m\u001b[0;34m.\u001b[0m\u001b[0msort_indices\u001b[0m\u001b[0;34m(\u001b[0m\u001b[0;34m)\u001b[0m\u001b[0;34m\u001b[0m\u001b[0;34m\u001b[0m\u001b[0m\n",
      "\u001b[0;32m/opt/anaconda3/lib/python3.7/site-packages/sklearn/base.py\u001b[0m in \u001b[0;36m_validate_data\u001b[0;34m(self, X, y, reset, validate_separately, **check_params)\u001b[0m\n\u001b[1;32m    427\u001b[0m                 \u001b[0;31m# :(\u001b[0m\u001b[0;34m\u001b[0m\u001b[0;34m\u001b[0m\u001b[0;34m\u001b[0m\u001b[0m\n\u001b[1;32m    428\u001b[0m                 \u001b[0mcheck_X_params\u001b[0m\u001b[0;34m,\u001b[0m \u001b[0mcheck_y_params\u001b[0m \u001b[0;34m=\u001b[0m \u001b[0mvalidate_separately\u001b[0m\u001b[0;34m\u001b[0m\u001b[0;34m\u001b[0m\u001b[0m\n\u001b[0;32m--> 429\u001b[0;31m                 \u001b[0mX\u001b[0m \u001b[0;34m=\u001b[0m \u001b[0mcheck_array\u001b[0m\u001b[0;34m(\u001b[0m\u001b[0mX\u001b[0m\u001b[0;34m,\u001b[0m \u001b[0;34m**\u001b[0m\u001b[0mcheck_X_params\u001b[0m\u001b[0;34m)\u001b[0m\u001b[0;34m\u001b[0m\u001b[0;34m\u001b[0m\u001b[0m\n\u001b[0m\u001b[1;32m    430\u001b[0m                 \u001b[0my\u001b[0m \u001b[0;34m=\u001b[0m \u001b[0mcheck_array\u001b[0m\u001b[0;34m(\u001b[0m\u001b[0my\u001b[0m\u001b[0;34m,\u001b[0m \u001b[0;34m**\u001b[0m\u001b[0mcheck_y_params\u001b[0m\u001b[0;34m)\u001b[0m\u001b[0;34m\u001b[0m\u001b[0;34m\u001b[0m\u001b[0m\n\u001b[1;32m    431\u001b[0m             \u001b[0;32melse\u001b[0m\u001b[0;34m:\u001b[0m\u001b[0;34m\u001b[0m\u001b[0;34m\u001b[0m\u001b[0m\n",
      "\u001b[0;32m/opt/anaconda3/lib/python3.7/site-packages/sklearn/utils/validation.py\u001b[0m in \u001b[0;36minner_f\u001b[0;34m(*args, **kwargs)\u001b[0m\n\u001b[1;32m     70\u001b[0m                           FutureWarning)\n\u001b[1;32m     71\u001b[0m         \u001b[0mkwargs\u001b[0m\u001b[0;34m.\u001b[0m\u001b[0mupdate\u001b[0m\u001b[0;34m(\u001b[0m\u001b[0;34m{\u001b[0m\u001b[0mk\u001b[0m\u001b[0;34m:\u001b[0m \u001b[0marg\u001b[0m \u001b[0;32mfor\u001b[0m \u001b[0mk\u001b[0m\u001b[0;34m,\u001b[0m \u001b[0marg\u001b[0m \u001b[0;32min\u001b[0m \u001b[0mzip\u001b[0m\u001b[0;34m(\u001b[0m\u001b[0msig\u001b[0m\u001b[0;34m.\u001b[0m\u001b[0mparameters\u001b[0m\u001b[0;34m,\u001b[0m \u001b[0margs\u001b[0m\u001b[0;34m)\u001b[0m\u001b[0;34m}\u001b[0m\u001b[0;34m)\u001b[0m\u001b[0;34m\u001b[0m\u001b[0;34m\u001b[0m\u001b[0m\n\u001b[0;32m---> 72\u001b[0;31m         \u001b[0;32mreturn\u001b[0m \u001b[0mf\u001b[0m\u001b[0;34m(\u001b[0m\u001b[0;34m**\u001b[0m\u001b[0mkwargs\u001b[0m\u001b[0;34m)\u001b[0m\u001b[0;34m\u001b[0m\u001b[0;34m\u001b[0m\u001b[0m\n\u001b[0m\u001b[1;32m     73\u001b[0m     \u001b[0;32mreturn\u001b[0m \u001b[0minner_f\u001b[0m\u001b[0;34m\u001b[0m\u001b[0;34m\u001b[0m\u001b[0m\n\u001b[1;32m     74\u001b[0m \u001b[0;34m\u001b[0m\u001b[0m\n",
      "\u001b[0;32m/opt/anaconda3/lib/python3.7/site-packages/sklearn/utils/validation.py\u001b[0m in \u001b[0;36mcheck_array\u001b[0;34m(array, accept_sparse, accept_large_sparse, dtype, order, copy, force_all_finite, ensure_2d, allow_nd, ensure_min_samples, ensure_min_features, estimator)\u001b[0m\n\u001b[1;32m    643\u001b[0m         \u001b[0;32mif\u001b[0m \u001b[0mforce_all_finite\u001b[0m\u001b[0;34m:\u001b[0m\u001b[0;34m\u001b[0m\u001b[0;34m\u001b[0m\u001b[0m\n\u001b[1;32m    644\u001b[0m             _assert_all_finite(array,\n\u001b[0;32m--> 645\u001b[0;31m                                allow_nan=force_all_finite == 'allow-nan')\n\u001b[0m\u001b[1;32m    646\u001b[0m \u001b[0;34m\u001b[0m\u001b[0m\n\u001b[1;32m    647\u001b[0m     \u001b[0;32mif\u001b[0m \u001b[0mensure_min_samples\u001b[0m \u001b[0;34m>\u001b[0m \u001b[0;36m0\u001b[0m\u001b[0;34m:\u001b[0m\u001b[0;34m\u001b[0m\u001b[0;34m\u001b[0m\u001b[0m\n",
      "\u001b[0;32m/opt/anaconda3/lib/python3.7/site-packages/sklearn/utils/validation.py\u001b[0m in \u001b[0;36m_assert_all_finite\u001b[0;34m(X, allow_nan, msg_dtype)\u001b[0m\n\u001b[1;32m     97\u001b[0m                     \u001b[0mmsg_err\u001b[0m\u001b[0;34m.\u001b[0m\u001b[0mformat\u001b[0m\u001b[0;34m\u001b[0m\u001b[0;34m\u001b[0m\u001b[0m\n\u001b[1;32m     98\u001b[0m                     (type_err,\n\u001b[0;32m---> 99\u001b[0;31m                      msg_dtype if msg_dtype is not None else X.dtype)\n\u001b[0m\u001b[1;32m    100\u001b[0m             )\n\u001b[1;32m    101\u001b[0m     \u001b[0;31m# for object dtype data, we only check for NaNs (GH-13254)\u001b[0m\u001b[0;34m\u001b[0m\u001b[0;34m\u001b[0m\u001b[0;34m\u001b[0m\u001b[0m\n",
      "\u001b[0;31mValueError\u001b[0m: Input contains NaN, infinity or a value too large for dtype('float32')."
     ]
    }
   ],
   "source": [
    "clf = DecisionTreeClassifier(criterion='gini', max_depth=2, min_samples_split=2, min_samples_leaf=1)\n",
    "clf = clf.fit(X_train, y_train)"
   ]
  },
  {
   "cell_type": "code",
   "execution_count": null,
   "metadata": {},
   "outputs": [],
   "source": [
    "y_pred = clf.predict(X_validation)\n",
    "y_pred_tr = clf.predict(X_train)"
   ]
  },
  {
   "cell_type": "code",
   "execution_count": null,
   "metadata": {},
   "outputs": [],
   "source": [
    "print('train acc. : ',accuracy_score(y_train, y_pred_tr))\n",
    "print('test acc. : ',accuracy_score(y_validation, y_pred))"
   ]
  },
  {
   "cell_type": "code",
   "execution_count": null,
   "metadata": {},
   "outputs": [],
   "source": [
    "scores = cross_val_score(clf, X, y, cv=10)\n",
    "print('Accuracy: %0.4f (+/- %0.2f)' % (scores.mean(), scores.std() * 2))\n",
    "\n",
    "scores = cross_val_score(clf, X, y, cv=10, scoring='f1_macro')\n",
    "print('F1-score: %0.4f (+/- %0.2f)' % (scores.mean(), scores.std() * 2))"
   ]
  },
  {
   "cell_type": "markdown",
   "metadata": {},
   "source": [
    "After feature selection"
   ]
  },
  {
   "cell_type": "code",
   "execution_count": 259,
   "metadata": {},
   "outputs": [
    {
     "data": {
      "text/plain": [
       "['DistanceFromHome',\n",
       " 'NumCompaniesWorked',\n",
       " 'PercentSalaryHike',\n",
       " 'OverTime',\n",
       " 'MaritalStatus_Single',\n",
       " 'JobRole_Sales Representative',\n",
       " 'StockOptionLevel',\n",
       " 'JobLevel',\n",
       " 'JobRole_Laboratory Technician',\n",
       " 'JobRole_Healthcare Representative',\n",
       " 'Attrition']"
      ]
     },
     "execution_count": 259,
     "metadata": {},
     "output_type": "execute_result"
    }
   ],
   "source": [
    "#new df\n",
    "dfc1 =  dfc.loc[:,sub1 + sub2+['Attrition']]\n",
    "list(dfc1)"
   ]
  },
  {
   "cell_type": "code",
   "execution_count": 232,
   "metadata": {},
   "outputs": [],
   "source": [
    "####new split\n",
    "attributes = [col for col in dfc1.columns if col != 'Attrition']\n",
    "X = dfc1[attributes].values\n",
    "y = dfc1['Attrition']\n",
    "\n",
    "X_train, X_validation, y_train, y_validation = train_test_split(X, y, test_size=0.3, random_state=1, stratify=y)"
   ]
  },
  {
   "cell_type": "code",
   "execution_count": 71,
   "metadata": {
    "scrolled": true
   },
   "outputs": [
    {
     "name": "stderr",
     "output_type": "stream",
     "text": [
      "100%|██████████| 10/10 [00:00<00:00, 358.28it/s]\n",
      "100%|██████████| 45/45 [00:00<00:00, 978.31it/s]\n",
      "100%|██████████| 120/120 [00:00<00:00, 6170.67it/s]\n",
      "100%|██████████| 210/210 [00:00<00:00, 10476.90it/s]\n",
      "100%|██████████| 252/252 [00:00<00:00, 3877.99it/s]\n",
      "100%|██████████| 210/210 [00:00<00:00, 1919.63it/s]\n",
      "100%|██████████| 120/120 [00:00<00:00, 4720.88it/s]\n",
      "100%|██████████| 45/45 [00:00<00:00, 364.48it/s]\n",
      "100%|██████████| 10/10 [00:00<00:00, 182.93it/s]\n",
      "100%|██████████| 2/2 [00:00<00:00, 68.61it/s]\n"
     ]
    }
   ],
   "source": [
    "\n",
    "b = BEAST.main(classifier = DecisionTreeClassifier(), data = dfc1, t_var = 'Attrition', column_range=(1,9))"
   ]
  },
  {
   "cell_type": "code",
   "execution_count": null,
   "metadata": {},
   "outputs": [],
   "source": [
    "def report(results, n_top=3):\n",
    "    for i in range(1, n_top + 1):\n",
    "        candidates = np.flatnonzero(results['rank_test_score'] == i)\n",
    "        for candidate in candidates:\n",
    "            print(\"Model with rank: {0}\".format(i))\n",
    "            print(\"Mean validation score: {0:.3f} (std: {1:.3f})\".format(\n",
    "                  results['mean_test_score'][candidate],\n",
    "                  results['std_test_score'][candidate]))\n",
    "            print(\"Parameters: {0}\".format(results['params'][candidate]))\n",
    "            print('')"
   ]
  },
  {
   "cell_type": "code",
   "execution_count": 72,
   "metadata": {},
   "outputs": [],
   "source": [
    "param_list = {\n",
    "              'max_depth': [None] + list(np.arange(4, 20,4)),\n",
    "              'min_samples_split': [2]+list(np.arange(2, 100,10)),\n",
    "              'min_samples_leaf': [1]+list(np.arange(1, 100, 10)),\n",
    "             }\n",
    "\n",
    "clf = DecisionTreeClassifier(criterion='gini', max_depth=None, min_samples_split=2, min_samples_leaf=1)\n",
    "\n",
    "random_search = RandomizedSearchCV(clf, param_distributions=param_list, n_iter=30)\n",
    "random_search.fit(X_train, y_train)\n",
    "\n",
    "clf = random_search.best_estimator_\n",
    "report(rando"
   ]
  },
  {
   "cell_type": "code",
   "execution_count": 43,
   "metadata": {},
   "outputs": [
    {
     "data": {
      "text/plain": [
       "{('NumCompaniesWorked',\n",
       "  'OverTime',\n",
       "  'MaritalStatus_Single',\n",
       "  'JobLevel',\n",
       "  'JobRole_Laboratory Technician'): [0.8631,\n",
       "  'DecisionTreeClassifier(min_samples_leaf=13, min_samples_split=3)']}"
      ]
     },
     "execution_count": 43,
     "metadata": {},
     "output_type": "execute_result"
    }
   ],
   "source": [
    "b"
   ]
  },
  {
   "cell_type": "code",
   "execution_count": 247,
   "metadata": {},
   "outputs": [],
   "source": [
    "df_best = dfc1[['Attrition','NumCompaniesWorked',\n",
    "  'OverTime',\n",
    "  'MaritalStatus_Single',\n",
    "  'JobLevel',\n",
    "  'JobRole_Laboratory Technician']].copy()\n",
    "attributes = [col for col in df_best.columns if col != 'Attrition']\n",
    "X = df_best[attributes].values\n",
    "y = df_best['Attrition']\n",
    "\n",
    "X_train, X_validation, y_train, y_validation = train_test_split(X, y, test_size=0.3, random_state=1, stratify=y)"
   ]
  },
  {
   "cell_type": "code",
   "execution_count": 248,
   "metadata": {},
   "outputs": [],
   "source": [
    "clf = DecisionTreeClassifier(criterion='gini', max_depth=None, min_samples_split=3, min_samples_leaf=13)"
   ]
  },
  {
   "cell_type": "code",
   "execution_count": 58,
   "metadata": {},
   "outputs": [
    {
     "data": {
      "text/plain": [
       "DecisionTreeClassifier(min_samples_leaf=13, min_samples_split=3)"
      ]
     },
     "execution_count": 58,
     "metadata": {},
     "output_type": "execute_result"
    }
   ],
   "source": [
    "#GridSearchCV\n",
    "param_list = {'max_depth': [None] + list(np.arange(2, 10)),\n",
    "              'min_samples_split': [2]+list(np.arange(3, 20, 1)),\n",
    "              'min_samples_leaf': [1]+list(np.arange(3, 20, 1)),}\n",
    "grid_search = GridSearchCV(DecisionTreeClassifier(), param_grid=param_list, n_jobs=2, pre_dispatch='2*n_jobs')\n",
    "grid_search.fit(X, y)\n",
    "grid_search.best_estimator_"
   ]
  },
  {
   "cell_type": "code",
   "execution_count": 249,
   "metadata": {},
   "outputs": [],
   "source": [
    "clf = DecisionTreeClassifier(criterion='gini', max_depth=None, min_samples_split=3, min_samples_leaf=13)\n",
    "clf = clf.fit(X_train, y_train)"
   ]
  },
  {
   "cell_type": "code",
   "execution_count": 250,
   "metadata": {},
   "outputs": [],
   "source": [
    "y_pred = clf.predict(X_validation)\n",
    "y_pred_tr = clf.predict(X_train)"
   ]
  },
  {
   "cell_type": "code",
   "execution_count": 251,
   "metadata": {},
   "outputs": [
    {
     "name": "stdout",
     "output_type": "stream",
     "text": [
      "train acc. :  0.8663426488456865\n",
      "test acc. :  0.8526912181303116\n"
     ]
    }
   ],
   "source": [
    "y_pred = clf.predict(X_validation)\n",
    "y_pred_tr = clf.predict(X_train)\n",
    "print('train acc. : ',accuracy_score(y_train, y_pred_tr))\n",
    "print('test acc. : ',accuracy_score(y_validation, y_pred))"
   ]
  },
  {
   "cell_type": "code",
   "execution_count": 252,
   "metadata": {},
   "outputs": [
    {
     "name": "stdout",
     "output_type": "stream",
     "text": [
      "Accuracy: 0.8631 (+/- 0.05)\n",
      "F1-score: 0.6546 (+/- 0.14)\n"
     ]
    }
   ],
   "source": [
    "scores = cross_val_score(clf, X, y, cv=5)\n",
    "print('Accuracy: %0.4f (+/- %0.2f)' % (scores.mean(), scores.std() * 2))\n",
    "\n",
    "scores = cross_val_score(clf, X, y, cv=5, scoring='f1_macro')\n",
    "print('F1-score: %0.4f (+/- %0.2f)' % (scores.mean(), scores.std() * 2))"
   ]
  },
  {
   "cell_type": "code",
   "execution_count": 199,
   "metadata": {},
   "outputs": [
    {
     "name": "stdout",
     "output_type": "stream",
     "text": [
      "NumCompaniesWorked 0.13\n",
      "OverTime 0.38\n",
      "MaritalStatus_Single 0.15\n",
      "JobLevel 0.29\n",
      "JobRole_Laboratory Technician 0.05\n"
     ]
    }
   ],
   "source": [
    "for col, imp in zip(attributes, clf.feature_importances_):\n",
    "    print(col, round(imp,2))"
   ]
  },
  {
   "cell_type": "code",
   "execution_count": null,
   "metadata": {},
   "outputs": [],
   "source": [
    "from sklearn.feature_selection import RFE\n",
    "from sklearn.svm import SVR"
   ]
  },
  {
   "cell_type": "code",
   "execution_count": null,
   "metadata": {},
   "outputs": [],
   "source": [
    "X"
   ]
  },
  {
   "cell_type": "code",
   "execution_count": null,
   "metadata": {},
   "outputs": [],
   "source": [
    "r = RFE(SVR(kernel=\"linear\"), 5)\n",
    "r = r.fit(X,y)\n",
    "r.support_"
   ]
  },
  {
   "cell_type": "code",
   "execution_count": null,
   "metadata": {},
   "outputs": [],
   "source": [
    "dic = {}\n",
    "for col, imp in zip(attributes, clf.feature_importances_):\n",
    "    dic[col]= imp"
   ]
  },
  {
   "cell_type": "code",
   "execution_count": null,
   "metadata": {},
   "outputs": [],
   "source": [
    "dict(sorted(dic.items(), key=lambda item: item[1],reverse=True))\n"
   ]
  },
  {
   "cell_type": "code",
   "execution_count": 78,
   "metadata": {},
   "outputs": [],
   "source": [
    "import pydotplus\n",
    "from sklearn import tree\n",
    "from IPython.display import Image"
   ]
  },
  {
   "cell_type": "code",
   "execution_count": 80,
   "metadata": {},
   "outputs": [
    {
     "data": {
      "text/plain": [
       "['NumCompaniesWorked',\n",
       " 'OverTime',\n",
       " 'MaritalStatus_Single',\n",
       " 'JobLevel',\n",
       " 'JobRole_Laboratory Technician']"
      ]
     },
     "execution_count": 80,
     "metadata": {},
     "output_type": "execute_result"
    }
   ],
   "source": [
    "attributes"
   ]
  },
  {
   "cell_type": "code",
   "execution_count": 89,
   "metadata": {},
   "outputs": [
    {
     "data": {
      "image/png": "[encoded data removed]",
      "text/plain": [
       "<IPython.core.display.Image object>"
      ]
     },
     "execution_count": 89,
     "metadata": {},
     "output_type": "execute_result"
    }
   ],
   "source": [
    "dot_data = tree.export_graphviz(clf, out_file=None,\n",
    "                                feature_names=attributes,\n",
    "                                class_names=['Attrition' if x == 1 else 'No attrition' for x in clf.classes_],  \n",
    "                                filled=True, rounded=True,  \n",
    "                                special_characters=True,\n",
    "                                max_depth=3)  \n",
    "graph = pydotplus.graph_from_dot_data(dot_data)  \n",
    "Image(graph.create_png())"
   ]
  },
  {
   "cell_type": "code",
   "execution_count": 81,
   "metadata": {},
   "outputs": [],
   "source": [
    "from sklearn.metrics import confusion_matrix\n",
    "from sklearn.metrics import accuracy_score, f1_score, classification_report\n",
    "from sklearn.metrics import roc_curve, auc, roc_auc_score"
   ]
  },
  {
   "cell_type": "code",
   "execution_count": 200,
   "metadata": {},
   "outputs": [
    {
     "name": "stdout",
     "output_type": "stream",
     "text": [
      "Train Accuracy 0.8663426488456865\n",
      "Train F1-score 0.4387755102040816\n",
      "\n",
      "Test Accuracy 0.8526912181303116\n",
      "Test F1-score 0.3658536585365854\n",
      "              precision    recall  f1-score   support\n",
      "\n",
      "           0       0.87      0.97      0.92       295\n",
      "           1       0.62      0.26      0.37        58\n",
      "\n",
      "    accuracy                           0.85       353\n",
      "   macro avg       0.75      0.61      0.64       353\n",
      "weighted avg       0.83      0.85      0.83       353\n",
      "\n"
     ]
    },
    {
     "data": {
      "text/plain": [
       "array([[286,   9],\n",
       "       [ 43,  15]])"
      ]
     },
     "execution_count": 200,
     "metadata": {},
     "output_type": "execute_result"
    }
   ],
   "source": [
    "print('Train Accuracy %s' % accuracy_score(y_train, y_pred_tr))\n",
    "print('Train F1-score %s' % f1_score(y_train, y_pred_tr))\n",
    "print()\n",
    "\n",
    "print('Test Accuracy %s' % accuracy_score(y_validation, y_pred))\n",
    "print('Test F1-score %s' % f1_score(y_validation, y_pred))\n",
    "print(classification_report(y_validation, y_pred))\n",
    "confusion_matrix(y_validation, y_pred)"
   ]
  },
  {
   "cell_type": "code",
   "execution_count": 201,
   "metadata": {},
   "outputs": [
    {
     "name": "stdout",
     "output_type": "stream",
     "text": [
      "0.6140561075394506\n"
     ]
    }
   ],
   "source": [
    "fpr, tpr, _ = roc_curve(y_validation, y_pred)\n",
    "roc_auc = auc(fpr, tpr)\n",
    "print(roc_auc)\n",
    "\n",
    "roc_auc = roc_auc_score(y_validation, y_pred, average=None)"
   ]
  },
  {
   "cell_type": "code",
   "execution_count": 129,
   "metadata": {},
   "outputs": [
    {
     "name": "stdout",
     "output_type": "stream",
     "text": [
      "0.615604909409702\n"
     ]
    }
   ],
   "source": [
    "fpr1, tpr1, _ = roc_curve(y_validation, y_pred)\n",
    "roc_auc1 = auc(fpr1, tpr1)\n",
    "print(roc_auc1)\n",
    "\n",
    "roc_auc1 = roc_auc_score(y_validation, y_pred, average=None)"
   ]
  },
  {
   "cell_type": "code",
   "execution_count": 117,
   "metadata": {},
   "outputs": [
    {
     "data": {
      "text/plain": [
       "0.6140561075394506"
      ]
     },
     "execution_count": 117,
     "metadata": {},
     "output_type": "execute_result"
    }
   ],
   "source": [
    "roc_auc"
   ]
  },
  {
   "cell_type": "code",
   "execution_count": 312,
   "metadata": {},
   "outputs": [
    {
     "data": {
      "image/png": "[encoded data removed]",
      "text/plain": [
       "<Figure size 1080x360 with 2 Axes>"
      ]
     },
     "metadata": {
      "needs_background": "light"
     },
     "output_type": "display_data"
    }
   ],
   "source": [
    "fig, ax = plt.subplots(1,2,figsize=(15, 5))\n",
    "\n",
    "plt.sca(ax[0])\n",
    "plt.plot(fpr, tpr, label='ROC curve (area = %0.2f)' % (roc_auc))\n",
    "plt.plot([0, 1], [0, 1], 'k--')\n",
    "plt.xlim([0.0, 1.0])\n",
    "plt.ylim([0.0, 1.05])\n",
    "plt.xlabel('False Positive Rate', fontsize=15)\n",
    "plt.ylabel('True Positive Rate', fontsize=15) \n",
    "plt.tick_params(axis='both', which='major', labelsize=15)\n",
    "plt.title('Roc Curve for KNN')\n",
    "plt.legend(loc=\"lower right\", fontsize=14, frameon=False)\n",
    "\n",
    "plt.sca(ax[1])\n",
    "plt.plot(fpr1, tpr1, label='ROC curve (area = %0.2f)' % (roc_auc1))\n",
    "plt.plot([0, 1], [0, 1], 'k--')\n",
    "plt.xlim([0.0, 1.0])\n",
    "plt.ylim([0.0, 1.05])\n",
    "plt.xlabel('False Positive Rate', fontsize=15)\n",
    "plt.ylabel('True Positive Rate', fontsize=15) \n",
    "plt.tick_params(axis='both', which='major', labelsize=15)\n",
    "plt.title('Roc Curve for decision tree')\n",
    "plt.legend(loc=\"lower right\", fontsize=14, frameon=False)\n",
    "\n",
    "plt.show()"
   ]
  },
  {
   "cell_type": "code",
   "execution_count": null,
   "metadata": {},
   "outputs": [],
   "source": []
  },
  {
   "cell_type": "code",
   "execution_count": 138,
   "metadata": {},
   "outputs": [],
   "source": [
    "from sklearn.model_selection import cross_val_score"
   ]
  },
  {
   "cell_type": "code",
   "execution_count": 88,
   "metadata": {},
   "outputs": [
    {
     "name": "stdout",
     "output_type": "stream",
     "text": [
      "Accuracy: 0.8623 (+/- 0.05)\n",
      "F1-score: 0.6554 (+/- 0.14)\n"
     ]
    }
   ],
   "source": [
    "scores = cross_val_score(clf, X, y, cv=5)\n",
    "print('Accuracy: %0.4f (+/- %0.2f)' % (scores.mean(), scores.std() * 2))\n",
    "\n",
    "scores = cross_val_score(clf, X, y, cv=5, scoring='f1_macro')\n",
    "print('F1-score: %0.4f (+/- %0.2f)' % (scores.mean(), scores.std() * 2))"
   ]
  },
  {
   "cell_type": "markdown",
   "metadata": {},
   "source": [
    "## KNN"
   ]
  },
  {
   "cell_type": "code",
   "execution_count": 160,
   "metadata": {},
   "outputs": [
    {
     "data": {
      "text/html": [
       "<div>\n",
       "<style scoped>\n",
       "    .dataframe tbody tr th:only-of-type {\n",
       "        vertical-align: middle;\n",
       "    }\n",
       "\n",
       "    .dataframe tbody tr th {\n",
       "        vertical-align: top;\n",
       "    }\n",
       "\n",
       "    .dataframe thead th {\n",
       "        text-align: right;\n",
       "    }\n",
       "</style>\n",
       "<table border=\"1\" class=\"dataframe\">\n",
       "  <thead>\n",
       "    <tr style=\"text-align: right;\">\n",
       "      <th></th>\n",
       "      <th>BusinessTravel</th>\n",
       "      <th>Education</th>\n",
       "      <th>EnvironmentSatisfaction</th>\n",
       "      <th>JobInvolvement</th>\n",
       "      <th>JobLevel</th>\n",
       "      <th>JobSatisfaction</th>\n",
       "      <th>PerformanceRating</th>\n",
       "      <th>RelationshipSatisfaction</th>\n",
       "      <th>StockOptionLevel</th>\n",
       "      <th>WorkLifeBalance</th>\n",
       "      <th>Gender</th>\n",
       "      <th>OverTime</th>\n",
       "      <th>EducationField_Human Resources</th>\n",
       "      <th>EducationField_Life Sciences</th>\n",
       "      <th>EducationField_Marketing</th>\n",
       "      <th>EducationField_Medical</th>\n",
       "      <th>EducationField_Other</th>\n",
       "      <th>EducationField_Technical Degree</th>\n",
       "      <th>JobRole_Healthcare Representative</th>\n",
       "      <th>JobRole_Human Resources</th>\n",
       "      <th>JobRole_Laboratory Technician</th>\n",
       "      <th>JobRole_Manager HR</th>\n",
       "      <th>JobRole_Manager R&amp;D</th>\n",
       "      <th>JobRole_Manager Sales</th>\n",
       "      <th>JobRole_Manufacturing Director</th>\n",
       "      <th>JobRole_Research Director</th>\n",
       "      <th>JobRole_Research Scientist</th>\n",
       "      <th>JobRole_Sales Executive</th>\n",
       "      <th>JobRole_Sales Representative</th>\n",
       "      <th>MaritalStatus_Divorced</th>\n",
       "      <th>MaritalStatus_Married</th>\n",
       "      <th>MaritalStatus_Single</th>\n",
       "    </tr>\n",
       "  </thead>\n",
       "  <tbody>\n",
       "    <tr>\n",
       "      <th>0</th>\n",
       "      <td>2</td>\n",
       "      <td>4</td>\n",
       "      <td>2</td>\n",
       "      <td>3</td>\n",
       "      <td>3</td>\n",
       "      <td>3</td>\n",
       "      <td>3.0</td>\n",
       "      <td>3</td>\n",
       "      <td>0</td>\n",
       "      <td>2</td>\n",
       "      <td>1</td>\n",
       "      <td>0</td>\n",
       "      <td>0</td>\n",
       "      <td>0</td>\n",
       "      <td>0</td>\n",
       "      <td>1</td>\n",
       "      <td>0</td>\n",
       "      <td>0</td>\n",
       "      <td>0</td>\n",
       "      <td>0</td>\n",
       "      <td>0</td>\n",
       "      <td>0</td>\n",
       "      <td>0</td>\n",
       "      <td>0</td>\n",
       "      <td>0</td>\n",
       "      <td>1</td>\n",
       "      <td>0</td>\n",
       "      <td>0</td>\n",
       "      <td>0</td>\n",
       "      <td>0</td>\n",
       "      <td>0</td>\n",
       "      <td>1</td>\n",
       "    </tr>\n",
       "    <tr>\n",
       "      <th>1</th>\n",
       "      <td>2</td>\n",
       "      <td>1</td>\n",
       "      <td>2</td>\n",
       "      <td>3</td>\n",
       "      <td>5</td>\n",
       "      <td>3</td>\n",
       "      <td>3.0</td>\n",
       "      <td>3</td>\n",
       "      <td>1</td>\n",
       "      <td>3</td>\n",
       "      <td>1</td>\n",
       "      <td>1</td>\n",
       "      <td>0</td>\n",
       "      <td>1</td>\n",
       "      <td>0</td>\n",
       "      <td>0</td>\n",
       "      <td>0</td>\n",
       "      <td>0</td>\n",
       "      <td>0</td>\n",
       "      <td>0</td>\n",
       "      <td>0</td>\n",
       "      <td>0</td>\n",
       "      <td>1</td>\n",
       "      <td>0</td>\n",
       "      <td>0</td>\n",
       "      <td>0</td>\n",
       "      <td>0</td>\n",
       "      <td>0</td>\n",
       "      <td>0</td>\n",
       "      <td>1</td>\n",
       "      <td>0</td>\n",
       "      <td>0</td>\n",
       "    </tr>\n",
       "    <tr>\n",
       "      <th>2</th>\n",
       "      <td>3</td>\n",
       "      <td>3</td>\n",
       "      <td>3</td>\n",
       "      <td>3</td>\n",
       "      <td>2</td>\n",
       "      <td>4</td>\n",
       "      <td>3.0</td>\n",
       "      <td>3</td>\n",
       "      <td>1</td>\n",
       "      <td>3</td>\n",
       "      <td>1</td>\n",
       "      <td>1</td>\n",
       "      <td>0</td>\n",
       "      <td>1</td>\n",
       "      <td>0</td>\n",
       "      <td>0</td>\n",
       "      <td>0</td>\n",
       "      <td>0</td>\n",
       "      <td>0</td>\n",
       "      <td>0</td>\n",
       "      <td>0</td>\n",
       "      <td>0</td>\n",
       "      <td>0</td>\n",
       "      <td>0</td>\n",
       "      <td>0</td>\n",
       "      <td>0</td>\n",
       "      <td>0</td>\n",
       "      <td>1</td>\n",
       "      <td>0</td>\n",
       "      <td>1</td>\n",
       "      <td>0</td>\n",
       "      <td>0</td>\n",
       "    </tr>\n",
       "    <tr>\n",
       "      <th>3</th>\n",
       "      <td>2</td>\n",
       "      <td>4</td>\n",
       "      <td>2</td>\n",
       "      <td>3</td>\n",
       "      <td>1</td>\n",
       "      <td>2</td>\n",
       "      <td>3.0</td>\n",
       "      <td>2</td>\n",
       "      <td>0</td>\n",
       "      <td>3</td>\n",
       "      <td>1</td>\n",
       "      <td>0</td>\n",
       "      <td>0</td>\n",
       "      <td>0</td>\n",
       "      <td>0</td>\n",
       "      <td>0</td>\n",
       "      <td>0</td>\n",
       "      <td>1</td>\n",
       "      <td>0</td>\n",
       "      <td>0</td>\n",
       "      <td>0</td>\n",
       "      <td>0</td>\n",
       "      <td>0</td>\n",
       "      <td>0</td>\n",
       "      <td>0</td>\n",
       "      <td>0</td>\n",
       "      <td>1</td>\n",
       "      <td>0</td>\n",
       "      <td>0</td>\n",
       "      <td>0</td>\n",
       "      <td>0</td>\n",
       "      <td>1</td>\n",
       "    </tr>\n",
       "    <tr>\n",
       "      <th>4</th>\n",
       "      <td>2</td>\n",
       "      <td>2</td>\n",
       "      <td>3</td>\n",
       "      <td>3</td>\n",
       "      <td>1</td>\n",
       "      <td>4</td>\n",
       "      <td>3.0</td>\n",
       "      <td>3</td>\n",
       "      <td>0</td>\n",
       "      <td>3</td>\n",
       "      <td>0</td>\n",
       "      <td>0</td>\n",
       "      <td>0</td>\n",
       "      <td>1</td>\n",
       "      <td>0</td>\n",
       "      <td>0</td>\n",
       "      <td>0</td>\n",
       "      <td>0</td>\n",
       "      <td>0</td>\n",
       "      <td>0</td>\n",
       "      <td>1</td>\n",
       "      <td>0</td>\n",
       "      <td>0</td>\n",
       "      <td>0</td>\n",
       "      <td>0</td>\n",
       "      <td>0</td>\n",
       "      <td>0</td>\n",
       "      <td>0</td>\n",
       "      <td>0</td>\n",
       "      <td>0</td>\n",
       "      <td>0</td>\n",
       "      <td>1</td>\n",
       "    </tr>\n",
       "    <tr>\n",
       "      <th>...</th>\n",
       "      <td>...</td>\n",
       "      <td>...</td>\n",
       "      <td>...</td>\n",
       "      <td>...</td>\n",
       "      <td>...</td>\n",
       "      <td>...</td>\n",
       "      <td>...</td>\n",
       "      <td>...</td>\n",
       "      <td>...</td>\n",
       "      <td>...</td>\n",
       "      <td>...</td>\n",
       "      <td>...</td>\n",
       "      <td>...</td>\n",
       "      <td>...</td>\n",
       "      <td>...</td>\n",
       "      <td>...</td>\n",
       "      <td>...</td>\n",
       "      <td>...</td>\n",
       "      <td>...</td>\n",
       "      <td>...</td>\n",
       "      <td>...</td>\n",
       "      <td>...</td>\n",
       "      <td>...</td>\n",
       "      <td>...</td>\n",
       "      <td>...</td>\n",
       "      <td>...</td>\n",
       "      <td>...</td>\n",
       "      <td>...</td>\n",
       "      <td>...</td>\n",
       "      <td>...</td>\n",
       "      <td>...</td>\n",
       "      <td>...</td>\n",
       "    </tr>\n",
       "    <tr>\n",
       "      <th>1171</th>\n",
       "      <td>2</td>\n",
       "      <td>2</td>\n",
       "      <td>4</td>\n",
       "      <td>4</td>\n",
       "      <td>1</td>\n",
       "      <td>4</td>\n",
       "      <td>3.0</td>\n",
       "      <td>2</td>\n",
       "      <td>2</td>\n",
       "      <td>2</td>\n",
       "      <td>0</td>\n",
       "      <td>1</td>\n",
       "      <td>0</td>\n",
       "      <td>0</td>\n",
       "      <td>0</td>\n",
       "      <td>1</td>\n",
       "      <td>0</td>\n",
       "      <td>0</td>\n",
       "      <td>0</td>\n",
       "      <td>0</td>\n",
       "      <td>1</td>\n",
       "      <td>0</td>\n",
       "      <td>0</td>\n",
       "      <td>0</td>\n",
       "      <td>0</td>\n",
       "      <td>0</td>\n",
       "      <td>0</td>\n",
       "      <td>0</td>\n",
       "      <td>0</td>\n",
       "      <td>1</td>\n",
       "      <td>0</td>\n",
       "      <td>0</td>\n",
       "    </tr>\n",
       "    <tr>\n",
       "      <th>1172</th>\n",
       "      <td>1</td>\n",
       "      <td>4</td>\n",
       "      <td>2</td>\n",
       "      <td>1</td>\n",
       "      <td>2</td>\n",
       "      <td>3</td>\n",
       "      <td>3.0</td>\n",
       "      <td>2</td>\n",
       "      <td>0</td>\n",
       "      <td>2</td>\n",
       "      <td>0</td>\n",
       "      <td>1</td>\n",
       "      <td>0</td>\n",
       "      <td>1</td>\n",
       "      <td>0</td>\n",
       "      <td>0</td>\n",
       "      <td>0</td>\n",
       "      <td>0</td>\n",
       "      <td>0</td>\n",
       "      <td>0</td>\n",
       "      <td>0</td>\n",
       "      <td>0</td>\n",
       "      <td>0</td>\n",
       "      <td>0</td>\n",
       "      <td>0</td>\n",
       "      <td>0</td>\n",
       "      <td>0</td>\n",
       "      <td>1</td>\n",
       "      <td>0</td>\n",
       "      <td>0</td>\n",
       "      <td>1</td>\n",
       "      <td>0</td>\n",
       "    </tr>\n",
       "    <tr>\n",
       "      <th>1173</th>\n",
       "      <td>2</td>\n",
       "      <td>1</td>\n",
       "      <td>3</td>\n",
       "      <td>2</td>\n",
       "      <td>2</td>\n",
       "      <td>1</td>\n",
       "      <td>3.0</td>\n",
       "      <td>1</td>\n",
       "      <td>0</td>\n",
       "      <td>4</td>\n",
       "      <td>1</td>\n",
       "      <td>0</td>\n",
       "      <td>0</td>\n",
       "      <td>0</td>\n",
       "      <td>1</td>\n",
       "      <td>0</td>\n",
       "      <td>0</td>\n",
       "      <td>0</td>\n",
       "      <td>0</td>\n",
       "      <td>0</td>\n",
       "      <td>0</td>\n",
       "      <td>0</td>\n",
       "      <td>0</td>\n",
       "      <td>0</td>\n",
       "      <td>0</td>\n",
       "      <td>0</td>\n",
       "      <td>0</td>\n",
       "      <td>1</td>\n",
       "      <td>0</td>\n",
       "      <td>0</td>\n",
       "      <td>1</td>\n",
       "      <td>0</td>\n",
       "    </tr>\n",
       "    <tr>\n",
       "      <th>1174</th>\n",
       "      <td>1</td>\n",
       "      <td>4</td>\n",
       "      <td>1</td>\n",
       "      <td>3</td>\n",
       "      <td>2</td>\n",
       "      <td>2</td>\n",
       "      <td>3.0</td>\n",
       "      <td>4</td>\n",
       "      <td>0</td>\n",
       "      <td>3</td>\n",
       "      <td>1</td>\n",
       "      <td>1</td>\n",
       "      <td>0</td>\n",
       "      <td>0</td>\n",
       "      <td>1</td>\n",
       "      <td>0</td>\n",
       "      <td>0</td>\n",
       "      <td>0</td>\n",
       "      <td>0</td>\n",
       "      <td>0</td>\n",
       "      <td>0</td>\n",
       "      <td>0</td>\n",
       "      <td>0</td>\n",
       "      <td>0</td>\n",
       "      <td>0</td>\n",
       "      <td>0</td>\n",
       "      <td>0</td>\n",
       "      <td>1</td>\n",
       "      <td>0</td>\n",
       "      <td>0</td>\n",
       "      <td>0</td>\n",
       "      <td>1</td>\n",
       "    </tr>\n",
       "    <tr>\n",
       "      <th>1175</th>\n",
       "      <td>3</td>\n",
       "      <td>3</td>\n",
       "      <td>2</td>\n",
       "      <td>3</td>\n",
       "      <td>1</td>\n",
       "      <td>3</td>\n",
       "      <td>3.0</td>\n",
       "      <td>3</td>\n",
       "      <td>0</td>\n",
       "      <td>1</td>\n",
       "      <td>0</td>\n",
       "      <td>0</td>\n",
       "      <td>0</td>\n",
       "      <td>0</td>\n",
       "      <td>0</td>\n",
       "      <td>1</td>\n",
       "      <td>0</td>\n",
       "      <td>0</td>\n",
       "      <td>0</td>\n",
       "      <td>0</td>\n",
       "      <td>0</td>\n",
       "      <td>0</td>\n",
       "      <td>0</td>\n",
       "      <td>0</td>\n",
       "      <td>0</td>\n",
       "      <td>0</td>\n",
       "      <td>1</td>\n",
       "      <td>0</td>\n",
       "      <td>0</td>\n",
       "      <td>0</td>\n",
       "      <td>0</td>\n",
       "      <td>1</td>\n",
       "    </tr>\n",
       "  </tbody>\n",
       "</table>\n",
       "<p>1176 rows × 32 columns</p>\n",
       "</div>"
      ],
      "text/plain": [
       "      BusinessTravel  Education  EnvironmentSatisfaction  JobInvolvement  \\\n",
       "0                  2          4                        2               3   \n",
       "1                  2          1                        2               3   \n",
       "2                  3          3                        3               3   \n",
       "3                  2          4                        2               3   \n",
       "4                  2          2                        3               3   \n",
       "...              ...        ...                      ...             ...   \n",
       "1171               2          2                        4               4   \n",
       "1172               1          4                        2               1   \n",
       "1173               2          1                        3               2   \n",
       "1174               1          4                        1               3   \n",
       "1175               3          3                        2               3   \n",
       "\n",
       "      JobLevel  JobSatisfaction  PerformanceRating  RelationshipSatisfaction  \\\n",
       "0            3                3                3.0                         3   \n",
       "1            5                3                3.0                         3   \n",
       "2            2                4                3.0                         3   \n",
       "3            1                2                3.0                         2   \n",
       "4            1                4                3.0                         3   \n",
       "...        ...              ...                ...                       ...   \n",
       "1171         1                4                3.0                         2   \n",
       "1172         2                3                3.0                         2   \n",
       "1173         2                1                3.0                         1   \n",
       "1174         2                2                3.0                         4   \n",
       "1175         1                3                3.0                         3   \n",
       "\n",
       "      StockOptionLevel  WorkLifeBalance  Gender  OverTime  \\\n",
       "0                    0                2       1         0   \n",
       "1                    1                3       1         1   \n",
       "2                    1                3       1         1   \n",
       "3                    0                3       1         0   \n",
       "4                    0                3       0         0   \n",
       "...                ...              ...     ...       ...   \n",
       "1171                 2                2       0         1   \n",
       "1172                 0                2       0         1   \n",
       "1173                 0                4       1         0   \n",
       "1174                 0                3       1         1   \n",
       "1175                 0                1       0         0   \n",
       "\n",
       "      EducationField_Human Resources  EducationField_Life Sciences  \\\n",
       "0                                  0                             0   \n",
       "1                                  0                             1   \n",
       "2                                  0                             1   \n",
       "3                                  0                             0   \n",
       "4                                  0                             1   \n",
       "...                              ...                           ...   \n",
       "1171                               0                             0   \n",
       "1172                               0                             1   \n",
       "1173                               0                             0   \n",
       "1174                               0                             0   \n",
       "1175                               0                             0   \n",
       "\n",
       "      EducationField_Marketing  EducationField_Medical  EducationField_Other  \\\n",
       "0                            0                       1                     0   \n",
       "1                            0                       0                     0   \n",
       "2                            0                       0                     0   \n",
       "3                            0                       0                     0   \n",
       "4                            0                       0                     0   \n",
       "...                        ...                     ...                   ...   \n",
       "1171                         0                       1                     0   \n",
       "1172                         0                       0                     0   \n",
       "1173                         1                       0                     0   \n",
       "1174                         1                       0                     0   \n",
       "1175                         0                       1                     0   \n",
       "\n",
       "      EducationField_Technical Degree  JobRole_Healthcare Representative  \\\n",
       "0                                   0                                  0   \n",
       "1                                   0                                  0   \n",
       "2                                   0                                  0   \n",
       "3                                   1                                  0   \n",
       "4                                   0                                  0   \n",
       "...                               ...                                ...   \n",
       "1171                                0                                  0   \n",
       "1172                                0                                  0   \n",
       "1173                                0                                  0   \n",
       "1174                                0                                  0   \n",
       "1175                                0                                  0   \n",
       "\n",
       "      JobRole_Human Resources  JobRole_Laboratory Technician  \\\n",
       "0                           0                              0   \n",
       "1                           0                              0   \n",
       "2                           0                              0   \n",
       "3                           0                              0   \n",
       "4                           0                              1   \n",
       "...                       ...                            ...   \n",
       "1171                        0                              1   \n",
       "1172                        0                              0   \n",
       "1173                        0                              0   \n",
       "1174                        0                              0   \n",
       "1175                        0                              0   \n",
       "\n",
       "      JobRole_Manager HR  JobRole_Manager R&D  JobRole_Manager Sales  \\\n",
       "0                      0                    0                      0   \n",
       "1                      0                    1                      0   \n",
       "2                      0                    0                      0   \n",
       "3                      0                    0                      0   \n",
       "4                      0                    0                      0   \n",
       "...                  ...                  ...                    ...   \n",
       "1171                   0                    0                      0   \n",
       "1172                   0                    0                      0   \n",
       "1173                   0                    0                      0   \n",
       "1174                   0                    0                      0   \n",
       "1175                   0                    0                      0   \n",
       "\n",
       "      JobRole_Manufacturing Director  JobRole_Research Director  \\\n",
       "0                                  0                          1   \n",
       "1                                  0                          0   \n",
       "2                                  0                          0   \n",
       "3                                  0                          0   \n",
       "4                                  0                          0   \n",
       "...                              ...                        ...   \n",
       "1171                               0                          0   \n",
       "1172                               0                          0   \n",
       "1173                               0                          0   \n",
       "1174                               0                          0   \n",
       "1175                               0                          0   \n",
       "\n",
       "      JobRole_Research Scientist  JobRole_Sales Executive  \\\n",
       "0                              0                        0   \n",
       "1                              0                        0   \n",
       "2                              0                        1   \n",
       "3                              1                        0   \n",
       "4                              0                        0   \n",
       "...                          ...                      ...   \n",
       "1171                           0                        0   \n",
       "1172                           0                        1   \n",
       "1173                           0                        1   \n",
       "1174                           0                        1   \n",
       "1175                           1                        0   \n",
       "\n",
       "      JobRole_Sales Representative  MaritalStatus_Divorced  \\\n",
       "0                                0                       0   \n",
       "1                                0                       1   \n",
       "2                                0                       1   \n",
       "3                                0                       0   \n",
       "4                                0                       0   \n",
       "...                            ...                     ...   \n",
       "1171                             0                       1   \n",
       "1172                             0                       0   \n",
       "1173                             0                       0   \n",
       "1174                             0                       0   \n",
       "1175                             0                       0   \n",
       "\n",
       "      MaritalStatus_Married  MaritalStatus_Single  \n",
       "0                         0                     1  \n",
       "1                         0                     0  \n",
       "2                         0                     0  \n",
       "3                         0                     1  \n",
       "4                         0                     1  \n",
       "...                     ...                   ...  \n",
       "1171                      0                     0  \n",
       "1172                      1                     0  \n",
       "1173                      1                     0  \n",
       "1174                      0                     1  \n",
       "1175                      0                     1  \n",
       "\n",
       "[1176 rows x 32 columns]"
      ]
     },
     "execution_count": 160,
     "metadata": {},
     "output_type": "execute_result"
    }
   ],
   "source": [
    "df"
   ]
  },
  {
   "cell_type": "code",
   "execution_count": 290,
   "metadata": {},
   "outputs": [],
   "source": [
    "dfnn = df[['Attrition','EnvironmentSatisfaction', 'JobLevel', 'OverTime', 'StockOptionLevel', 'WorkLifeBalance']].copy()\n",
    "attributes = [col for col in dfnn.columns if col != 'Attrition']\n",
    "X = dfnn[attributes].values\n",
    "y = dfnn['Attrition']\n",
    "\n",
    "X_train, X_validation, y_train, y_validation = train_test_split(X, y, test_size=0.3, random_state=1, stratify=y)"
   ]
  },
  {
   "cell_type": "code",
   "execution_count": 124,
   "metadata": {},
   "outputs": [
    {
     "data": {
      "text/html": [
       "<div>\n",
       "<style scoped>\n",
       "    .dataframe tbody tr th:only-of-type {\n",
       "        vertical-align: middle;\n",
       "    }\n",
       "\n",
       "    .dataframe tbody tr th {\n",
       "        vertical-align: top;\n",
       "    }\n",
       "\n",
       "    .dataframe thead th {\n",
       "        text-align: right;\n",
       "    }\n",
       "</style>\n",
       "<table border=\"1\" class=\"dataframe\">\n",
       "  <thead>\n",
       "    <tr style=\"text-align: right;\">\n",
       "      <th></th>\n",
       "      <th>Attrition</th>\n",
       "      <th>EnvironmentSatisfaction</th>\n",
       "      <th>JobLevel</th>\n",
       "      <th>OverTime</th>\n",
       "      <th>StockOptionLevel</th>\n",
       "      <th>WorkLifeBalance</th>\n",
       "    </tr>\n",
       "  </thead>\n",
       "  <tbody>\n",
       "    <tr>\n",
       "      <th>0</th>\n",
       "      <td>0</td>\n",
       "      <td>2</td>\n",
       "      <td>3</td>\n",
       "      <td>0</td>\n",
       "      <td>0</td>\n",
       "      <td>2</td>\n",
       "    </tr>\n",
       "    <tr>\n",
       "      <th>1</th>\n",
       "      <td>0</td>\n",
       "      <td>2</td>\n",
       "      <td>5</td>\n",
       "      <td>1</td>\n",
       "      <td>1</td>\n",
       "      <td>3</td>\n",
       "    </tr>\n",
       "    <tr>\n",
       "      <th>2</th>\n",
       "      <td>0</td>\n",
       "      <td>3</td>\n",
       "      <td>2</td>\n",
       "      <td>1</td>\n",
       "      <td>1</td>\n",
       "      <td>3</td>\n",
       "    </tr>\n",
       "    <tr>\n",
       "      <th>3</th>\n",
       "      <td>0</td>\n",
       "      <td>2</td>\n",
       "      <td>1</td>\n",
       "      <td>0</td>\n",
       "      <td>0</td>\n",
       "      <td>3</td>\n",
       "    </tr>\n",
       "    <tr>\n",
       "      <th>4</th>\n",
       "      <td>0</td>\n",
       "      <td>3</td>\n",
       "      <td>1</td>\n",
       "      <td>0</td>\n",
       "      <td>0</td>\n",
       "      <td>3</td>\n",
       "    </tr>\n",
       "    <tr>\n",
       "      <th>...</th>\n",
       "      <td>...</td>\n",
       "      <td>...</td>\n",
       "      <td>...</td>\n",
       "      <td>...</td>\n",
       "      <td>...</td>\n",
       "      <td>...</td>\n",
       "    </tr>\n",
       "    <tr>\n",
       "      <th>1171</th>\n",
       "      <td>0</td>\n",
       "      <td>4</td>\n",
       "      <td>1</td>\n",
       "      <td>1</td>\n",
       "      <td>2</td>\n",
       "      <td>2</td>\n",
       "    </tr>\n",
       "    <tr>\n",
       "      <th>1172</th>\n",
       "      <td>1</td>\n",
       "      <td>2</td>\n",
       "      <td>2</td>\n",
       "      <td>1</td>\n",
       "      <td>0</td>\n",
       "      <td>2</td>\n",
       "    </tr>\n",
       "    <tr>\n",
       "      <th>1173</th>\n",
       "      <td>0</td>\n",
       "      <td>3</td>\n",
       "      <td>2</td>\n",
       "      <td>0</td>\n",
       "      <td>0</td>\n",
       "      <td>4</td>\n",
       "    </tr>\n",
       "    <tr>\n",
       "      <th>1174</th>\n",
       "      <td>0</td>\n",
       "      <td>1</td>\n",
       "      <td>2</td>\n",
       "      <td>1</td>\n",
       "      <td>0</td>\n",
       "      <td>3</td>\n",
       "    </tr>\n",
       "    <tr>\n",
       "      <th>1175</th>\n",
       "      <td>0</td>\n",
       "      <td>2</td>\n",
       "      <td>1</td>\n",
       "      <td>0</td>\n",
       "      <td>0</td>\n",
       "      <td>1</td>\n",
       "    </tr>\n",
       "  </tbody>\n",
       "</table>\n",
       "<p>1176 rows × 6 columns</p>\n",
       "</div>"
      ],
      "text/plain": [
       "      Attrition  EnvironmentSatisfaction  JobLevel  OverTime  \\\n",
       "0             0                        2         3         0   \n",
       "1             0                        2         5         1   \n",
       "2             0                        3         2         1   \n",
       "3             0                        2         1         0   \n",
       "4             0                        3         1         0   \n",
       "...         ...                      ...       ...       ...   \n",
       "1171          0                        4         1         1   \n",
       "1172          1                        2         2         1   \n",
       "1173          0                        3         2         0   \n",
       "1174          0                        1         2         1   \n",
       "1175          0                        2         1         0   \n",
       "\n",
       "      StockOptionLevel  WorkLifeBalance  \n",
       "0                    0                2  \n",
       "1                    1                3  \n",
       "2                    1                3  \n",
       "3                    0                3  \n",
       "4                    0                3  \n",
       "...                ...              ...  \n",
       "1171                 2                2  \n",
       "1172                 0                2  \n",
       "1173                 0                4  \n",
       "1174                 0                3  \n",
       "1175                 0                1  \n",
       "\n",
       "[1176 rows x 6 columns]"
      ]
     },
     "execution_count": 124,
     "metadata": {},
     "output_type": "execute_result"
    }
   ],
   "source": [
    "dfnn"
   ]
  },
  {
   "cell_type": "code",
   "execution_count": 291,
   "metadata": {},
   "outputs": [
    {
     "name": "stdout",
     "output_type": "stream",
     "text": [
      "Accuracy: 0.8478 (+/- 0.04)\n",
      "F1-score: 0.6467 (+/- 0.09)\n"
     ]
    }
   ],
   "source": [
    "clf = KNeighborsClassifier(n_neighbors=5)\n",
    "\n",
    "scores = cross_val_score(clf, X, y, cv=10)\n",
    "print('Accuracy: %0.4f (+/- %0.2f)' % (scores.mean(), scores.std() * 2))\n",
    "\n",
    "scores = cross_val_score(clf, X, y, cv=10, scoring='f1_macro')\n",
    "print('F1-score: %0.4f (+/- %0.2f)' % (scores.mean(), scores.std() * 2))"
   ]
  },
  {
   "cell_type": "code",
   "execution_count": 90,
   "metadata": {},
   "outputs": [],
   "source": [
    "from sklearn.neighbors import KNeighborsClassifier"
   ]
  },
  {
   "cell_type": "code",
   "execution_count": null,
   "metadata": {},
   "outputs": [],
   "source": [
    "[‘EnvironmentSatisfaction', 'JobLevel', 'OverTime', 'StockOptionLevel', 'WorkLifeBalance']"
   ]
  },
  {
   "cell_type": "code",
   "execution_count": 298,
   "metadata": {},
   "outputs": [
    {
     "data": {
      "text/plain": [
       "KNeighborsClassifier(n_jobs=2, n_neighbors=4)"
      ]
     },
     "execution_count": 298,
     "metadata": {},
     "output_type": "execute_result"
    }
   ],
   "source": [
    "clf = KNeighborsClassifier(n_neighbors = 4, weights='uniform', n_jobs = 2)\n",
    "clf.fit(X, y)"
   ]
  },
  {
   "cell_type": "code",
   "execution_count": 293,
   "metadata": {},
   "outputs": [],
   "source": [
    "y_pred = clf.predict(X_validation)\n",
    "y_pred_tr = clf.predict(X_train)"
   ]
  },
  {
   "cell_type": "code",
   "execution_count": 294,
   "metadata": {},
   "outputs": [
    {
     "name": "stdout",
     "output_type": "stream",
     "text": [
      "train acc. :  0.8797083839611178\n",
      "test acc. :  0.8668555240793201\n"
     ]
    }
   ],
   "source": [
    "print('train acc. : ',accuracy_score(y_train, y_pred_tr))\n",
    "print('test acc. : ',accuracy_score(y_validation, y_pred))"
   ]
  },
  {
   "cell_type": "code",
   "execution_count": 299,
   "metadata": {},
   "outputs": [
    {
     "name": "stdout",
     "output_type": "stream",
     "text": [
      "Accuracy: 0.8529 (+/- 0.03)\n"
     ]
    }
   ],
   "source": [
    "scores = cross_val_score(clf, X, y, cv=5)\n",
    "print('Accuracy: %0.4f (+/- %0.2f)' % (scores.mean(), scores.std() * 2))"
   ]
  },
  {
   "cell_type": "code",
   "execution_count": 160,
   "metadata": {},
   "outputs": [
    {
     "data": {
      "image/png": "[encoded data removed]",
      "text/plain": [
       "<Figure size 432x288 with 1 Axes>"
      ]
     },
     "metadata": {
      "needs_background": "light"
     },
     "output_type": "display_data"
    }
   ],
   "source": [
    "plot_validation_curve(KNeighborsClassifier(),'n_neighbors',(list(np.arange(1, 20,1))))"
   ]
  },
  {
   "cell_type": "code",
   "execution_count": 161,
   "metadata": {},
   "outputs": [
    {
     "data": {
      "text/html": [
       "<div>\n",
       "<style scoped>\n",
       "    .dataframe tbody tr th:only-of-type {\n",
       "        vertical-align: middle;\n",
       "    }\n",
       "\n",
       "    .dataframe tbody tr th {\n",
       "        vertical-align: top;\n",
       "    }\n",
       "\n",
       "    .dataframe thead th {\n",
       "        text-align: right;\n",
       "    }\n",
       "</style>\n",
       "<table border=\"1\" class=\"dataframe\">\n",
       "  <thead>\n",
       "    <tr style=\"text-align: right;\">\n",
       "      <th></th>\n",
       "      <th>Age</th>\n",
       "      <th>DistanceFromHome</th>\n",
       "      <th>MonthlyIncome</th>\n",
       "      <th>NumCompaniesWorked</th>\n",
       "      <th>PercentSalaryHike</th>\n",
       "      <th>YearsAtCompany</th>\n",
       "    </tr>\n",
       "  </thead>\n",
       "  <tbody>\n",
       "    <tr>\n",
       "      <th>0</th>\n",
       "      <td>52.0</td>\n",
       "      <td>2</td>\n",
       "      <td>8446.0</td>\n",
       "      <td>9</td>\n",
       "      <td>17</td>\n",
       "      <td>8.0</td>\n",
       "    </tr>\n",
       "    <tr>\n",
       "      <th>1</th>\n",
       "      <td>36.0</td>\n",
       "      <td>1</td>\n",
       "      <td>4834.0</td>\n",
       "      <td>1</td>\n",
       "      <td>14</td>\n",
       "      <td>1.0</td>\n",
       "    </tr>\n",
       "    <tr>\n",
       "      <th>2</th>\n",
       "      <td>34.3</td>\n",
       "      <td>3</td>\n",
       "      <td>4768.0</td>\n",
       "      <td>1</td>\n",
       "      <td>25</td>\n",
       "      <td>1.0</td>\n",
       "    </tr>\n",
       "    <tr>\n",
       "      <th>3</th>\n",
       "      <td>33.0</td>\n",
       "      <td>1</td>\n",
       "      <td>2799.0</td>\n",
       "      <td>2</td>\n",
       "      <td>14</td>\n",
       "      <td>3.0</td>\n",
       "    </tr>\n",
       "    <tr>\n",
       "      <th>4</th>\n",
       "      <td>41.1</td>\n",
       "      <td>2</td>\n",
       "      <td>7978.0</td>\n",
       "      <td>1</td>\n",
       "      <td>12</td>\n",
       "      <td>10.0</td>\n",
       "    </tr>\n",
       "    <tr>\n",
       "      <th>...</th>\n",
       "      <td>...</td>\n",
       "      <td>...</td>\n",
       "      <td>...</td>\n",
       "      <td>...</td>\n",
       "      <td>...</td>\n",
       "      <td>...</td>\n",
       "    </tr>\n",
       "    <tr>\n",
       "      <th>1171</th>\n",
       "      <td>37.0</td>\n",
       "      <td>3</td>\n",
       "      <td>2115.0</td>\n",
       "      <td>1</td>\n",
       "      <td>13</td>\n",
       "      <td>17.0</td>\n",
       "    </tr>\n",
       "    <tr>\n",
       "      <th>1172</th>\n",
       "      <td>33.0</td>\n",
       "      <td>1</td>\n",
       "      <td>5147.0</td>\n",
       "      <td>4</td>\n",
       "      <td>18</td>\n",
       "      <td>11.0</td>\n",
       "    </tr>\n",
       "    <tr>\n",
       "      <th>1173</th>\n",
       "      <td>33.0</td>\n",
       "      <td>1</td>\n",
       "      <td>2500.0</td>\n",
       "      <td>1</td>\n",
       "      <td>12</td>\n",
       "      <td>3.0</td>\n",
       "    </tr>\n",
       "    <tr>\n",
       "      <th>1174</th>\n",
       "      <td>45.0</td>\n",
       "      <td>1</td>\n",
       "      <td>4385.0</td>\n",
       "      <td>3</td>\n",
       "      <td>16</td>\n",
       "      <td>10.0</td>\n",
       "    </tr>\n",
       "    <tr>\n",
       "      <th>1175</th>\n",
       "      <td>48.0</td>\n",
       "      <td>2</td>\n",
       "      <td>17174.0</td>\n",
       "      <td>1</td>\n",
       "      <td>16</td>\n",
       "      <td>22.0</td>\n",
       "    </tr>\n",
       "  </tbody>\n",
       "</table>\n",
       "<p>1176 rows × 6 columns</p>\n",
       "</div>"
      ],
      "text/plain": [
       "       Age  DistanceFromHome  MonthlyIncome  NumCompaniesWorked  \\\n",
       "0     52.0                 2         8446.0                   9   \n",
       "1     36.0                 1         4834.0                   1   \n",
       "2     34.3                 3         4768.0                   1   \n",
       "3     33.0                 1         2799.0                   2   \n",
       "4     41.1                 2         7978.0                   1   \n",
       "...    ...               ...            ...                 ...   \n",
       "1171  37.0                 3         2115.0                   1   \n",
       "1172  33.0                 1         5147.0                   4   \n",
       "1173  33.0                 1         2500.0                   1   \n",
       "1174  45.0                 1         4385.0                   3   \n",
       "1175  48.0                 2        17174.0                   1   \n",
       "\n",
       "      PercentSalaryHike  YearsAtCompany  \n",
       "0                    17             8.0  \n",
       "1                    14             1.0  \n",
       "2                    25             1.0  \n",
       "3                    14             3.0  \n",
       "4                    12            10.0  \n",
       "...                 ...             ...  \n",
       "1171                 13            17.0  \n",
       "1172                 18            11.0  \n",
       "1173                 12             3.0  \n",
       "1174                 16            10.0  \n",
       "1175                 16            22.0  \n",
       "\n",
       "[1176 rows x 6 columns]"
      ]
     },
     "execution_count": 161,
     "metadata": {},
     "output_type": "execute_result"
    }
   ],
   "source": [
    "df_quant"
   ]
  },
  {
   "cell_type": "code",
   "execution_count": 310,
   "metadata": {},
   "outputs": [
    {
     "name": "stdout",
     "output_type": "stream",
     "text": [
      "0.5597054886211512\n"
     ]
    }
   ],
   "source": [
    "fpr, tpr, _ = roc_curve(y, y_pred)\n",
    "roc_auc = auc(fpr, tpr)\n",
    "print(roc_auc)\n",
    "\n",
    "roc_auc = roc_auc_score(y, y_pred, average=None)"
   ]
  },
  {
   "cell_type": "code",
   "execution_count": 311,
   "metadata": {},
   "outputs": [
    {
     "data": {
      "image/png": "[encoded data removed]",
      "text/plain": [
       "<Figure size 432x288 with 1 Axes>"
      ]
     },
     "metadata": {
      "needs_background": "light"
     },
     "output_type": "display_data"
    }
   ],
   "source": [
    "plt.figure(figsize=(6, 4))\n",
    "plt.plot(fpr, tpr, label='ROC curve (area = %0.2f)' % (roc_auc))\n",
    "    \n",
    "plt.plot([0, 1], [0, 1], 'k--')\n",
    "plt.xlim([0.0, 1.0])\n",
    "plt.ylim([0.0, 1.05])\n",
    "plt.xlabel('False Positive Rate', fontsize=15)\n",
    "plt.ylabel('True Positive Rate', fontsize=15) \n",
    "plt.tick_params(axis='both', which='major', labelsize=15)\n",
    "plt.legend(loc=\"lower right\", fontsize=14, frameon=False)\n",
    "plt.show()"
   ]
  },
  {
   "cell_type": "markdown",
   "metadata": {},
   "source": [
    "## TEST"
   ]
  },
  {
   "cell_type": "markdown",
   "metadata": {},
   "source": [
    "#### Decision tree"
   ]
  },
  {
   "cell_type": "code",
   "execution_count": 261,
   "metadata": {},
   "outputs": [],
   "source": [
    "df_test = dfc1[['Attrition','NumCompaniesWorked',\n",
    "  'OverTime',\n",
    "  'MaritalStatus_Single',\n",
    "  'JobLevel',\n",
    "  'JobRole_Laboratory Technician']].copy()\n",
    "attributes = [col for col in dfdt.columns if col != 'Attrition']\n",
    "X = df_test[attributes].values\n",
    "y = df_test['Attrition']"
   ]
  },
  {
   "cell_type": "code",
   "execution_count": 209,
   "metadata": {},
   "outputs": [],
   "source": [
    "clf = DecisionTreeClassifier(criterion='gini', max_depth=None, min_samples_split=3, min_samples_leaf=13)\n",
    "clf = clf.fit(X_train, y_train)"
   ]
  },
  {
   "cell_type": "code",
   "execution_count": 206,
   "metadata": {},
   "outputs": [],
   "source": [
    "y_pred = clf.predict(X_validation)\n",
    "y_pred_tr = clf.predict(X_train)"
   ]
  },
  {
   "cell_type": "code",
   "execution_count": 207,
   "metadata": {},
   "outputs": [
    {
     "name": "stdout",
     "output_type": "stream",
     "text": [
      "train acc. :  0.8663426488456865\n",
      "test acc. :  0.8526912181303116\n"
     ]
    }
   ],
   "source": [
    "print('train acc. : ',accuracy_score(y_train, y_pred_tr))\n",
    "print('test acc. : ',accuracy_score(y_validation, y_pred))"
   ]
  },
  {
   "cell_type": "code",
   "execution_count": 210,
   "metadata": {},
   "outputs": [
    {
     "name": "stdout",
     "output_type": "stream",
     "text": [
      "Accuracy: 0.8631 (+/- 0.05)\n",
      "F1-score: 0.6546 (+/- 0.14)\n"
     ]
    }
   ],
   "source": [
    "scores = cross_val_score(clf, X, y, cv=5)\n",
    "print('Accuracy: %0.4f (+/- %0.2f)' % (scores.mean(), scores.std() * 2))\n",
    "\n",
    "scores = cross_val_score(clf, X, y, cv=5, scoring='f1_macro')\n",
    "print('F1-score: %0.4f (+/- %0.2f)' % (scores.mean(), scores.std() * 2))"
   ]
  },
  {
   "cell_type": "markdown",
   "metadata": {},
   "source": [
    "predicting on test dataset"
   ]
  },
  {
   "cell_type": "code",
   "execution_count": 262,
   "metadata": {},
   "outputs": [],
   "source": [
    "y_pred = clf.predict(X)"
   ]
  },
  {
   "cell_type": "code",
   "execution_count": 271,
   "metadata": {},
   "outputs": [
    {
     "name": "stdout",
     "output_type": "stream",
     "text": [
      "test acc. :  0.8333333333333334\n"
     ]
    }
   ],
   "source": [
    "print('test acc. : ',accuracy_score(y, y_pred))"
   ]
  },
  {
   "cell_type": "code",
   "execution_count": 276,
   "metadata": {},
   "outputs": [
    {
     "name": "stdout",
     "output_type": "stream",
     "text": [
      "Test F1-score 0.30985915492957744\n",
      "              precision    recall  f1-score   support\n",
      "\n",
      "           0       0.87      0.94      0.91       249\n",
      "           1       0.42      0.24      0.31        45\n",
      "\n",
      "    accuracy                           0.83       294\n",
      "   macro avg       0.65      0.59      0.61       294\n",
      "weighted avg       0.80      0.83      0.81       294\n",
      "\n"
     ]
    },
    {
     "data": {
      "text/plain": [
       "array([[234,  15],\n",
       "       [ 34,  11]])"
      ]
     },
     "execution_count": 276,
     "metadata": {},
     "output_type": "execute_result"
    }
   ],
   "source": [
    "print('Test F1-score %s' % f1_score(y, y_pred))\n",
    "print(classification_report(y, y_pred))\n",
    "confusion_matrix(y, y_pred)"
   ]
  },
  {
   "cell_type": "code",
   "execution_count": 267,
   "metadata": {},
   "outputs": [
    {
     "data": {
      "text/plain": [
       "294"
      ]
     },
     "execution_count": 267,
     "metadata": {},
     "output_type": "execute_result"
    }
   ],
   "source": [
    "len(y)"
   ]
  },
  {
   "cell_type": "markdown",
   "metadata": {},
   "source": [
    "#### KNN"
   ]
  },
  {
   "cell_type": "code",
   "execution_count": 307,
   "metadata": {},
   "outputs": [],
   "source": [
    "dfnn = df[['Attrition','EnvironmentSatisfaction', 'JobLevel', 'OverTime', 'StockOptionLevel', 'WorkLifeBalance']].copy()\n",
    "attributes = [col for col in dfnn.columns if col != 'Attrition']\n",
    "X = dfnn[attributes].values\n",
    "y = dfnn['Attrition']"
   ]
  },
  {
   "cell_type": "code",
   "execution_count": 308,
   "metadata": {},
   "outputs": [],
   "source": [
    "y_pred = clf.predict(X)"
   ]
  },
  {
   "cell_type": "code",
   "execution_count": 309,
   "metadata": {},
   "outputs": [
    {
     "name": "stdout",
     "output_type": "stream",
     "text": [
      "test acc. :  0.8401360544217688\n",
      "Test F1-score 0.2295081967213115\n",
      "              precision    recall  f1-score   support\n",
      "\n",
      "           0       0.86      0.96      0.91       249\n",
      "           1       0.44      0.16      0.23        45\n",
      "\n",
      "    accuracy                           0.84       294\n",
      "   macro avg       0.65      0.56      0.57       294\n",
      "weighted avg       0.80      0.84      0.81       294\n",
      "\n"
     ]
    },
    {
     "data": {
      "text/plain": [
       "array([[240,   9],\n",
       "       [ 38,   7]])"
      ]
     },
     "execution_count": 309,
     "metadata": {},
     "output_type": "execute_result"
    }
   ],
   "source": [
    "print('test acc. : ',accuracy_score(y, y_pred))\n",
    "print('Test F1-score %s' % f1_score(y, y_pred))\n",
    "print(classification_report(y, y_pred))\n",
    "confusion_matrix(y, y_pred)"
   ]
  },
  {
   "cell_type": "code",
   "execution_count": null,
   "metadata": {},
   "outputs": [],
   "source": [
    "clf = KNeighborsClassifier(n_neighbors=4)\n",
    "\n",
    "scores = cross_val_score(clf, X, y, cv=5)\n",
    "print('Accuracy: %0.4f (+/- %0.2f)' % (scores.mean(), scores.std() * 2))\n",
    "\n",
    "scores = cross_val_score(clf, X, y, cv=5, scoring='f1_macro')\n",
    "print('F1-score: %0.4f (+/- %0.2f)' % (scores.mean(), scores.std() * 2))"
   ]
  }
 ],
 "metadata": {
  "kernelspec": {
   "display_name": "Python 3",
   "language": "python",
   "name": "python3"
  },
  "language_info": {
   "codemirror_mode": {
    "name": "ipython",
    "version": 3
   },
   "file_extension": ".py",
   "mimetype": "text/x-python",
   "name": "python",
   "nbconvert_exporter": "python",
   "pygments_lexer": "ipython3",
   "version": "3.8.5"
  }
 },
 "nbformat": 4,
 "nbformat_minor": 4
}
