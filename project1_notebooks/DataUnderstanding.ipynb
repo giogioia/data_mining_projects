{
 "cells": [
  {
   "cell_type": "code",
   "execution_count": 10,
   "metadata": {},
   "outputs": [],
   "source": [
    "%matplotlib inline\n",
    "import math\n",
    "import numpy as np\n",
    "import pandas as pd\n",
    "import seaborn as sns\n",
    "import scipy.stats as stats\n",
    "import matplotlib.pyplot as plt\n",
    "import missingno as msno\n",
    "import random\n",
    "\n",
    "df = pd.read_csv('Test_HR_Employee_Attrition.csv')\n",
    "#enable full view of pandas dataframes\n",
    "pd.set_option('display.max_columns', None)"
   ]
  },
  {
   "cell_type": "code",
   "execution_count": 11,
   "metadata": {},
   "outputs": [],
   "source": [
    "## DATA QUALITY ##\n",
    "\n",
    "df.Gender = df.groupby(['JobRole','MaritalStatus'])['Gender'].apply(lambda x: x.fillna(x.mode().iloc[0]))\n",
    "\n",
    "df.YearsAtCompany = df.groupby(['JobRole','Gender','MaritalStatus'])['YearsAtCompany'].apply(lambda x: x.fillna(x.mean()))\n",
    "\n",
    "bt_dic = df.BusinessTravel.value_counts(normalize=True).to_dict()\n",
    "def give_random():\n",
    "    return random.choices(list(bt_dic),list(bt_dic.values()))[0]\n",
    "df.loc[df.BusinessTravel.isnull(),'BusinessTravel'] = df.loc[df.BusinessTravel.isnull(),'BusinessTravel'].apply(lambda x: give_random())\n",
    "\n",
    "#df.loc[:,'PerformanceRating'] = df.groupby(['Education','JobLevel'])['PerformanceRating'].apply(lambda x: x.fillna(x.mode().iloc[0]))\n",
    "df.loc[:,'PerformanceRating'] = df.PerformanceRating.fillna((df.PerformanceRating).mode())\n",
    "\n",
    "df.loc[:,'Age']=df.groupby(['Gender','JobSatisfaction','EnvironmentSatisfaction','StockOptionLevel'])['Age'].apply(lambda x: x.fillna(x.mean()))\n",
    "df.loc[:,'Age_cat'] = pd.cut(df.Age,\n",
    "                                bins=[17,25,35,45,55,60],\n",
    "                                labels=['Very low','low','Medium','High','Very High'])\n",
    "df.loc[:,'MonthlyIncome'] = df.groupby(['Gender', 'Age_cat'])['MonthlyIncome'].apply(lambda x: x.fillna(x.mean()))\n",
    "\n",
    "df.drop(columns = 'TrainingTimesLastYear', inplace = True)\n",
    "\n",
    "#Elimino due colonne irrilevanti #addByAgne\n",
    "df.drop(columns=['StandardHours','Over18', 'Age_cat'], inplace = True)\n",
    "\n",
    "#Elimino colonne inconsistent\n",
    "df.drop(columns = ['YearsInCurrentRole','YearsSinceLastPromotion','YearsWithCurrManager','TotalWorkingYears'], inplace=True)\n",
    "df.drop(columns = ['DailyRate', 'HourlyRate','MonthlyRate'],inplace=True)\n",
    "#Elimino riga vuota residua\n",
    "#df.dropna(inplace=True)\n",
    "df.loc[:,'Age'].fillna(np.mean(df.Age), inplace = True)\n",
    "df.loc[:,'MonthlyIncome'].fillna(np.mean(df.MonthlyIncome), inplace = True)"
   ]
  },
  {
   "cell_type": "code",
   "execution_count": 12,
   "metadata": {},
   "outputs": [],
   "source": [
    "## TRANSFORMATON ##\n",
    "\n",
    "#Age in integers\n",
    "df.loc[:,'Age'] = df.Age.round(1)\n",
    "#Trasformazione in binari di tre attributi categorici \n",
    "df['Attrition'] = (df['Attrition'] == \"Yes\").astype(int)\n",
    "df['OverTime'] = (df['OverTime'] == \"Yes\").astype(int)\n",
    "df['Gender'] = (df['Gender'] == \"Male\").astype(int)\n",
    "\n",
    "#Discretizzazione della variabile DistanceFromHome\n",
    "for i, row in df.iterrows():\n",
    "    if row['DistanceFromHome'] <= 8: #Proximate\n",
    "        df.loc[i, 'DistanceFromHome'] = 1 \n",
    "    if row['DistanceFromHome'] > 8 and row['DistanceFromHome'] <= 15: #Near\n",
    "        df.loc[i, 'DistanceFromHome'] = 2\n",
    "    if row['DistanceFromHome'] > 15 and row['DistanceFromHome'] <= 22: #Intermediate\n",
    "        df.loc[i, 'DistanceFromHome'] = 3\n",
    "    if row['DistanceFromHome'] > 22 and row['DistanceFromHome'] <= 29: #Far\n",
    "        df.loc[i, 'DistanceFromHome'] = 4\n",
    "\n"
   ]
  },
  {
   "cell_type": "code",
   "execution_count": 13,
   "metadata": {},
   "outputs": [],
   "source": [
    "## CORRELATION ##\n",
    "\n",
    "for i, row in df.iterrows():\n",
    "    if row['JobRole'] == 'Manager':\n",
    "        if row['Department'] == 'Sales':\n",
    "            df.loc[i, 'JobRole'] = 'Manager Sales'\n",
    "        if row['Department'] == 'Human Resources':\n",
    "            df.loc[i, 'JobRole'] =  'Manager HR'\n",
    "        if row['Department'] == 'Research & Development':\n",
    "            df.loc[i, 'JobRole'] =  'Manager R&D'\n",
    "            \n",
    "df.drop(columns = 'Department', inplace=True)"
   ]
  },
  {
   "cell_type": "code",
   "execution_count": 1,
   "metadata": {},
   "outputs": [
    {
     "ename": "NameError",
     "evalue": "name 'df' is not defined",
     "output_type": "error",
     "traceback": [
      "\u001b[0;31m---------------------------------------------------------------------------\u001b[0m",
      "\u001b[0;31mNameError\u001b[0m                                 Traceback (most recent call last)",
      "\u001b[0;32m<ipython-input-1-4bc21e1f3f05>\u001b[0m in \u001b[0;36m<module>\u001b[0;34m\u001b[0m\n\u001b[0;32m----> 1\u001b[0;31m \u001b[0mdf\u001b[0m\u001b[0;34m.\u001b[0m\u001b[0mto_csv\u001b[0m\u001b[0;34m(\u001b[0m\u001b[0;34m'Datasource_TEST.csv'\u001b[0m\u001b[0;34m,\u001b[0m \u001b[0mindex\u001b[0m \u001b[0;34m=\u001b[0m \u001b[0;32mFalse\u001b[0m\u001b[0;34m)\u001b[0m \u001b[0;31m#sistema di numerazione in previsione delle modifiche future, per essere tutti al pari\u001b[0m\u001b[0;34m\u001b[0m\u001b[0;34m\u001b[0m\u001b[0m\n\u001b[0m",
      "\u001b[0;31mNameError\u001b[0m: name 'df' is not defined"
     ]
    }
   ],
   "source": [
    "df.to_csv('Datasource_TEST.csv', index = False) #sistema di numerazione in previsione delle modifiche future, per essere tutti al pari"
   ]
  },
  {
   "cell_type": "code",
   "execution_count": null,
   "metadata": {},
   "outputs": [],
   "source": []
  }
 ],
 "metadata": {
  "kernelspec": {
   "display_name": "Python 3",
   "language": "python",
   "name": "python3"
  },
  "language_info": {
   "codemirror_mode": {
    "name": "ipython",
    "version": 3
   },
   "file_extension": ".py",
   "mimetype": "text/x-python",
   "name": "python",
   "nbconvert_exporter": "python",
   "pygments_lexer": "ipython3",
   "version": "3.7.7"
  }
 },
 "nbformat": 4,
 "nbformat_minor": 4
}
